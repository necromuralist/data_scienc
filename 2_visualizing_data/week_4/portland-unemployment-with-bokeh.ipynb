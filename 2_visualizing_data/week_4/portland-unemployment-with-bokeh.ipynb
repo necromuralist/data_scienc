{
 "cells": [
  {
   "cell_type": "markdown",
   "metadata": {
    "deletable": true,
    "editable": true,
    "ein.tags": [
     "worksheet-0"
    ],
    "slideshow": {
     "slide_type": "-"
    }
   },
   "source": [
    "# Setting up the Data"
   ]
  },
  {
   "cell_type": "markdown",
   "metadata": {
    "deletable": true,
    "editable": true,
    "ein.tags": [
     "worksheet-0"
    ],
    "slideshow": {
     "slide_type": "-"
    }
   },
   "source": [
    "## Imports"
   ]
  },
  {
   "cell_type": "code",
   "execution_count": 1,
   "metadata": {
    "autoscroll": "json-false",
    "collapsed": false,
    "deletable": true,
    "editable": true,
    "ein.tags": [
     "worksheet-0"
    ],
    "slideshow": {
     "slide_type": "-"
    }
   },
   "outputs": [],
   "source": [
    "# python standard library\n",
    "import os\n",
    "from datetime import datetime\n",
    "\n",
    "# pypi\n",
    "import numpy\n",
    "import pandas\n",
    "\n",
    "# local\n",
    "from common import (\n",
    "    download_data,\n",
    "    Paths,\n",
    "    Urls,\n",
    "    )"
   ]
  },
  {
   "cell_type": "markdown",
   "metadata": {
    "deletable": true,
    "editable": true,
    "ein.tags": [
     "worksheet-0"
    ],
    "slideshow": {
     "slide_type": "-"
    }
   },
   "source": [
    "## Cleaning up the data"
   ]
  },
  {
   "cell_type": "markdown",
   "metadata": {
    "deletable": true,
    "editable": true,
    "ein.tags": [
     "worksheet-0"
    ],
    "slideshow": {
     "slide_type": "-"
    }
   },
   "source": [
    "### Portland"
   ]
  },
  {
   "cell_type": "code",
   "execution_count": 2,
   "metadata": {
    "autoscroll": "json-false",
    "collapsed": false,
    "deletable": true,
    "editable": true,
    "ein.tags": [
     "worksheet-0"
    ],
    "slideshow": {
     "slide_type": "-"
    }
   },
   "outputs": [],
   "source": [
    "portland = download_data(Paths.portland, Urls.portland)"
   ]
  },
  {
   "cell_type": "code",
   "execution_count": 3,
   "metadata": {
    "autoscroll": "json-false",
    "collapsed": false,
    "deletable": true,
    "editable": true,
    "ein.tags": [
     "worksheet-0"
    ],
    "slideshow": {
     "slide_type": "-"
    }
   },
   "outputs": [
    {
     "data": {
      "text/plain": [
       "Index(['Series ID', 'Year', 'Period', 'date', 'unemployment_rate'], dtype='object')"
      ]
     },
     "execution_count": 3,
     "metadata": {},
     "output_type": "execute_result"
    }
   ],
   "source": [
    "column_renames = {\"Value\": \"unemployment_rate\",\n",
    "                  \"Label\": \"date\"}\n",
    "portland.rename(columns=column_renames,\n",
    "                inplace=True)\n",
    "portland.columns"
   ]
  },
  {
   "cell_type": "code",
   "execution_count": 4,
   "metadata": {
    "autoscroll": "json-false",
    "collapsed": false,
    "deletable": true,
    "editable": true,
    "ein.tags": [
     "worksheet-0"
    ],
    "slideshow": {
     "slide_type": "-"
    }
   },
   "outputs": [],
   "source": [
    "month_map = dict(M01=\"Jan\", M02=\"Feb\", M03=\"Mar\", M04=\"Apr\", M05=\"May\",\n",
    "                 M06=\"Jun\", M07=\"Jul\", M08=\"Aug\", M09=\"Sep\", M10=\"Oct\",\n",
    "                 M11=\"Nov\", M12=\"Dec\")\n",
    "portland[\"month\"] = portland.Period.apply(lambda x: month_map[x])"
   ]
  },
  {
   "cell_type": "code",
   "execution_count": 5,
   "metadata": {
    "autoscroll": "json-false",
    "collapsed": false,
    "deletable": true,
    "editable": true,
    "ein.tags": [
     "worksheet-0"
    ],
    "slideshow": {
     "slide_type": "-"
    }
   },
   "outputs": [
    {
     "data": {
      "text/html": [
       "<div>\n",
       "<table border=\"1\" class=\"dataframe\">\n",
       "  <thead>\n",
       "    <tr style=\"text-align: right;\">\n",
       "      <th></th>\n",
       "      <th>Series ID</th>\n",
       "      <th>Year</th>\n",
       "      <th>Period</th>\n",
       "      <th>date</th>\n",
       "      <th>unemployment_rate</th>\n",
       "      <th>month</th>\n",
       "    </tr>\n",
       "  </thead>\n",
       "  <tbody>\n",
       "    <tr>\n",
       "      <th>0</th>\n",
       "      <td>LAUMT413890000000003</td>\n",
       "      <td>2007</td>\n",
       "      <td>M01</td>\n",
       "      <td>2007 Jan</td>\n",
       "      <td>5.4</td>\n",
       "      <td>Jan</td>\n",
       "    </tr>\n",
       "    <tr>\n",
       "      <th>1</th>\n",
       "      <td>LAUMT413890000000003</td>\n",
       "      <td>2007</td>\n",
       "      <td>M02</td>\n",
       "      <td>2007 Feb</td>\n",
       "      <td>5.5</td>\n",
       "      <td>Feb</td>\n",
       "    </tr>\n",
       "    <tr>\n",
       "      <th>2</th>\n",
       "      <td>LAUMT413890000000003</td>\n",
       "      <td>2007</td>\n",
       "      <td>M03</td>\n",
       "      <td>2007 Mar</td>\n",
       "      <td>5.3</td>\n",
       "      <td>Mar</td>\n",
       "    </tr>\n",
       "    <tr>\n",
       "      <th>3</th>\n",
       "      <td>LAUMT413890000000003</td>\n",
       "      <td>2007</td>\n",
       "      <td>M04</td>\n",
       "      <td>2007 Apr</td>\n",
       "      <td>5.0</td>\n",
       "      <td>Apr</td>\n",
       "    </tr>\n",
       "    <tr>\n",
       "      <th>4</th>\n",
       "      <td>LAUMT413890000000003</td>\n",
       "      <td>2007</td>\n",
       "      <td>M05</td>\n",
       "      <td>2007 May</td>\n",
       "      <td>4.7</td>\n",
       "      <td>May</td>\n",
       "    </tr>\n",
       "  </tbody>\n",
       "</table>\n",
       "</div>"
      ],
      "text/plain": [
       "              Series ID  Year Period      date  unemployment_rate month\n",
       "0  LAUMT413890000000003  2007    M01  2007 Jan                5.4   Jan\n",
       "1  LAUMT413890000000003  2007    M02  2007 Feb                5.5   Feb\n",
       "2  LAUMT413890000000003  2007    M03  2007 Mar                5.3   Mar\n",
       "3  LAUMT413890000000003  2007    M04  2007 Apr                5.0   Apr\n",
       "4  LAUMT413890000000003  2007    M05  2007 May                4.7   May"
      ]
     },
     "execution_count": 5,
     "metadata": {},
     "output_type": "execute_result"
    }
   ],
   "source": [
    "portland.head()"
   ]
  },
  {
   "cell_type": "code",
   "execution_count": 6,
   "metadata": {
    "autoscroll": "json-false",
    "collapsed": false,
    "deletable": true,
    "editable": true,
    "ein.tags": [
     "worksheet-0"
    ],
    "slideshow": {
     "slide_type": "-"
    }
   },
   "outputs": [],
   "source": [
    "month_integers = dict(zip(\"Jan Feb Mar Apr May Jun Jul Aug Sep Oct Nov Dec\".split(), range(1, 13)))"
   ]
  },
  {
   "cell_type": "code",
   "execution_count": 7,
   "metadata": {
    "autoscroll": "json-false",
    "collapsed": false,
    "deletable": true,
    "editable": true,
    "ein.tags": [
     "worksheet-0"
    ],
    "slideshow": {
     "slide_type": "-"
    }
   },
   "outputs": [],
   "source": [
    "portland[\"datetime\"] = portland.apply(lambda row: datetime(row.Year, month_integers[row.month], 1), axis=1)"
   ]
  },
  {
   "cell_type": "markdown",
   "metadata": {
    "deletable": true,
    "editable": true,
    "ein.tags": [
     "worksheet-0"
    ],
    "slideshow": {
     "slide_type": "-"
    }
   },
   "source": [
    "### National"
   ]
  },
  {
   "cell_type": "code",
   "execution_count": 8,
   "metadata": {
    "autoscroll": "json-false",
    "collapsed": false,
    "deletable": true,
    "editable": true,
    "ein.tags": [
     "worksheet-0"
    ],
    "slideshow": {
     "slide_type": "-"
    }
   },
   "outputs": [],
   "source": [
    "national = download_data(Paths.national, Urls.national)"
   ]
  },
  {
   "cell_type": "code",
   "execution_count": 9,
   "metadata": {
    "autoscroll": "json-false",
    "collapsed": false,
    "deletable": true,
    "editable": true,
    "ein.tags": [
     "worksheet-0"
    ],
    "slideshow": {
     "slide_type": "-"
    }
   },
   "outputs": [
    {
     "data": {
      "text/html": [
       "<div>\n",
       "<table border=\"1\" class=\"dataframe\">\n",
       "  <thead>\n",
       "    <tr style=\"text-align: right;\">\n",
       "      <th></th>\n",
       "      <th>Series ID</th>\n",
       "      <th>Year</th>\n",
       "      <th>Period</th>\n",
       "      <th>Label</th>\n",
       "      <th>Value</th>\n",
       "    </tr>\n",
       "  </thead>\n",
       "  <tbody>\n",
       "    <tr>\n",
       "      <th>0</th>\n",
       "      <td>LNU04000000</td>\n",
       "      <td>2007</td>\n",
       "      <td>M01</td>\n",
       "      <td>2007 Jan</td>\n",
       "      <td>5.0</td>\n",
       "    </tr>\n",
       "    <tr>\n",
       "      <th>1</th>\n",
       "      <td>LNU04000000</td>\n",
       "      <td>2007</td>\n",
       "      <td>M02</td>\n",
       "      <td>2007 Feb</td>\n",
       "      <td>4.9</td>\n",
       "    </tr>\n",
       "    <tr>\n",
       "      <th>2</th>\n",
       "      <td>LNU04000000</td>\n",
       "      <td>2007</td>\n",
       "      <td>M03</td>\n",
       "      <td>2007 Mar</td>\n",
       "      <td>4.5</td>\n",
       "    </tr>\n",
       "    <tr>\n",
       "      <th>3</th>\n",
       "      <td>LNU04000000</td>\n",
       "      <td>2007</td>\n",
       "      <td>M04</td>\n",
       "      <td>2007 Apr</td>\n",
       "      <td>4.3</td>\n",
       "    </tr>\n",
       "    <tr>\n",
       "      <th>4</th>\n",
       "      <td>LNU04000000</td>\n",
       "      <td>2007</td>\n",
       "      <td>M05</td>\n",
       "      <td>2007 May</td>\n",
       "      <td>4.3</td>\n",
       "    </tr>\n",
       "  </tbody>\n",
       "</table>\n",
       "</div>"
      ],
      "text/plain": [
       "     Series ID  Year Period     Label  Value\n",
       "0  LNU04000000  2007    M01  2007 Jan    5.0\n",
       "1  LNU04000000  2007    M02  2007 Feb    4.9\n",
       "2  LNU04000000  2007    M03  2007 Mar    4.5\n",
       "3  LNU04000000  2007    M04  2007 Apr    4.3\n",
       "4  LNU04000000  2007    M05  2007 May    4.3"
      ]
     },
     "execution_count": 9,
     "metadata": {},
     "output_type": "execute_result"
    }
   ],
   "source": [
    "national.head()"
   ]
  },
  {
   "cell_type": "code",
   "execution_count": 10,
   "metadata": {
    "autoscroll": "json-false",
    "collapsed": false,
    "deletable": true,
    "editable": true,
    "ein.tags": [
     "worksheet-0"
    ],
    "slideshow": {
     "slide_type": "-"
    }
   },
   "outputs": [],
   "source": [
    "national.rename(columns=column_renames, inplace=True)\n",
    "national[\"month\"] = national.Period.apply(lambda x: month_map[x])"
   ]
  },
  {
   "cell_type": "code",
   "execution_count": 11,
   "metadata": {
    "autoscroll": "json-false",
    "collapsed": false,
    "deletable": true,
    "editable": true,
    "ein.tags": [
     "worksheet-0"
    ],
    "slideshow": {
     "slide_type": "-"
    }
   },
   "outputs": [],
   "source": [
    "national.drop([122], inplace=True)"
   ]
  },
  {
   "cell_type": "code",
   "execution_count": 12,
   "metadata": {
    "autoscroll": "json-false",
    "collapsed": false,
    "deletable": true,
    "editable": true,
    "ein.tags": [
     "worksheet-0"
    ],
    "slideshow": {
     "slide_type": "-"
    }
   },
   "outputs": [],
   "source": [
    "national[\"datetime\"] = national.apply(lambda row: datetime(row.Year, month_integers[row.month], 1),\n",
    "                                      axis=1)"
   ]
  },
  {
   "cell_type": "markdown",
   "metadata": {
    "deletable": true,
    "editable": true,
    "ein.tags": [
     "worksheet-0"
    ],
    "slideshow": {
     "slide_type": "-"
    }
   },
   "source": [
    "### S & P Index"
   ]
  },
  {
   "cell_type": "code",
   "execution_count": 13,
   "metadata": {
    "autoscroll": "json-false",
    "collapsed": false,
    "deletable": true,
    "editable": true,
    "ein.tags": [
     "worksheet-0"
    ],
    "slideshow": {
     "slide_type": "-"
    }
   },
   "outputs": [],
   "source": [
    "s_and_p_index = download_data(Paths.s_and_p, Urls.s_and_p, na_values=\".\")"
   ]
  },
  {
   "cell_type": "code",
   "execution_count": 14,
   "metadata": {
    "autoscroll": "json-false",
    "collapsed": false,
    "deletable": true,
    "editable": true,
    "ein.tags": [
     "worksheet-0"
    ],
    "slideshow": {
     "slide_type": "-"
    }
   },
   "outputs": [
    {
     "data": {
      "text/html": [
       "<div>\n",
       "<table border=\"1\" class=\"dataframe\">\n",
       "  <thead>\n",
       "    <tr style=\"text-align: right;\">\n",
       "      <th></th>\n",
       "      <th>DATE</th>\n",
       "      <th>VALUE</th>\n",
       "      <th>date</th>\n",
       "    </tr>\n",
       "  </thead>\n",
       "  <tbody>\n",
       "    <tr>\n",
       "      <th>0</th>\n",
       "      <td>2007-01-01</td>\n",
       "      <td>NaN</td>\n",
       "      <td>2007 Jan</td>\n",
       "    </tr>\n",
       "    <tr>\n",
       "      <th>1</th>\n",
       "      <td>2007-02-01</td>\n",
       "      <td>NaN</td>\n",
       "      <td>2007 Feb</td>\n",
       "    </tr>\n",
       "    <tr>\n",
       "      <th>2</th>\n",
       "      <td>2007-03-01</td>\n",
       "      <td>NaN</td>\n",
       "      <td>2007 Mar</td>\n",
       "    </tr>\n",
       "    <tr>\n",
       "      <th>3</th>\n",
       "      <td>2007-04-01</td>\n",
       "      <td>NaN</td>\n",
       "      <td>2007 Apr</td>\n",
       "    </tr>\n",
       "    <tr>\n",
       "      <th>4</th>\n",
       "      <td>2007-05-01</td>\n",
       "      <td>1511.14</td>\n",
       "      <td>2007 May</td>\n",
       "    </tr>\n",
       "  </tbody>\n",
       "</table>\n",
       "</div>"
      ],
      "text/plain": [
       "         DATE    VALUE      date\n",
       "0  2007-01-01      NaN  2007 Jan\n",
       "1  2007-02-01      NaN  2007 Feb\n",
       "2  2007-03-01      NaN  2007 Mar\n",
       "3  2007-04-01      NaN  2007 Apr\n",
       "4  2007-05-01  1511.14  2007 May"
      ]
     },
     "execution_count": 14,
     "metadata": {},
     "output_type": "execute_result"
    }
   ],
   "source": [
    "pre = pandas.DataFrame({\"DATE\": [\"2007-01-01\", \"2007-02-01\", \"2007-03-01\"], \"VALUE\": [numpy.nan, numpy.nan, numpy.nan]})\n",
    "s_and_p_index = pre.append(s_and_p_index)\n",
    "s_and_p_index[\"date\"] = portland.date.values\n",
    "s_and_p_index = s_and_p_index.reset_index(drop=True)\n",
    "s_and_p_index.head()"
   ]
  },
  {
   "cell_type": "markdown",
   "metadata": {
    "deletable": true,
    "editable": true,
    "ein.tags": [
     "worksheet-0"
    ],
    "slideshow": {
     "slide_type": "-"
    }
   },
   "source": [
    "Since I added date-times to the unemployment data I think I need to add it to all the other data too."
   ]
  },
  {
   "cell_type": "code",
   "execution_count": 15,
   "metadata": {
    "autoscroll": "json-false",
    "collapsed": false,
    "deletable": true,
    "editable": true,
    "ein.tags": [
     "worksheet-0"
    ],
    "slideshow": {
     "slide_type": "-"
    }
   },
   "outputs": [],
   "source": [
    "s_and_p_index[\"year\"] = s_and_p_index.date.apply(lambda row: int(row.split()[0]))\n",
    "s_and_p_index[\"month\"] = s_and_p_index.date.apply(lambda row: row.split()[1])"
   ]
  },
  {
   "cell_type": "code",
   "execution_count": 16,
   "metadata": {
    "autoscroll": "json-false",
    "collapsed": false,
    "deletable": true,
    "editable": true,
    "ein.tags": [
     "worksheet-0"
    ],
    "slideshow": {
     "slide_type": "-"
    }
   },
   "outputs": [],
   "source": [
    "s_and_p_index[\"datetime\"] = s_and_p_index.apply(lambda row: datetime(row.year,\n",
    "                                                                     month_integers[row.month], 1),\n",
    "                                                axis=1)"
   ]
  },
  {
   "cell_type": "markdown",
   "metadata": {
    "deletable": true,
    "editable": true,
    "ein.tags": [
     "worksheet-0"
    ],
    "slideshow": {
     "slide_type": "-"
    }
   },
   "source": [
    "### House Price Index"
   ]
  },
  {
   "cell_type": "code",
   "execution_count": 17,
   "metadata": {
    "autoscroll": "json-false",
    "collapsed": false,
    "deletable": true,
    "editable": true,
    "ein.tags": [
     "worksheet-0"
    ],
    "slideshow": {
     "slide_type": "-"
    }
   },
   "outputs": [],
   "source": [
    "house_price_index = download_data(Paths.house_price, Urls.house_price)"
   ]
  },
  {
   "cell_type": "code",
   "execution_count": 18,
   "metadata": {
    "autoscroll": "json-false",
    "collapsed": false,
    "deletable": true,
    "editable": true,
    "ein.tags": [
     "worksheet-0"
    ],
    "slideshow": {
     "slide_type": "-"
    }
   },
   "outputs": [],
   "source": [
    "house_price_index[\"price\"] = house_price_index.HPIPONM226S\n",
    "house_price_index[\"date\"] = portland.date[1:].values\n",
    "pre = pandas.DataFrame({\"DATE\": [\"2007-01-01\"], \"HPIPONM226S\": [numpy.nan], \"price\": [numpy.nan], \"date\": [\"2007 Jan\"]})\n",
    "house_price_index = pre.append(house_price_index)\n",
    "house_price_index = house_price_index.reset_index(drop=True)"
   ]
  },
  {
   "cell_type": "code",
   "execution_count": 19,
   "metadata": {
    "autoscroll": "json-false",
    "collapsed": false,
    "deletable": true,
    "editable": true,
    "ein.tags": [
     "worksheet-0"
    ],
    "slideshow": {
     "slide_type": "-"
    }
   },
   "outputs": [],
   "source": [
    "house_price_index[\"year\"] = house_price_index.date.apply(\n",
    "    lambda row: int(row.split()[0]))\n",
    "house_price_index[\"month\"] = house_price_index.date.apply(\n",
    "    lambda row: row.split()[1])\n",
    "house_price_index[\"datetime\"] = house_price_index.apply(\n",
    "    lambda row: datetime(row.year,\n",
    "                         month_integers[row.month], 1),\n",
    "    axis=1)"
   ]
  },
  {
   "cell_type": "markdown",
   "metadata": {
    "deletable": true,
    "editable": true,
    "ein.tags": [
     "worksheet-0"
    ],
    "slideshow": {
     "slide_type": "-"
    }
   },
   "source": [
    "# Getting significant points"
   ]
  },
  {
   "cell_type": "markdown",
   "metadata": {
    "deletable": true,
    "editable": true,
    "ein.tags": [
     "worksheet-0"
    ],
    "slideshow": {
     "slide_type": "-"
    }
   },
   "source": [
    "## Portland"
   ]
  },
  {
   "cell_type": "code",
   "execution_count": 20,
   "metadata": {
    "autoscroll": "json-false",
    "collapsed": false,
    "deletable": true,
    "editable": true,
    "ein.tags": [
     "worksheet-0"
    ],
    "slideshow": {
     "slide_type": "-"
    }
   },
   "outputs": [],
   "source": [
    "highest_unemployment = portland.unemployment_rate.max()\n",
    "unemployment_peaks = numpy.where(portland.unemployment_rate==highest_unemployment)[0]"
   ]
  },
  {
   "cell_type": "code",
   "execution_count": 21,
   "metadata": {
    "autoscroll": "json-false",
    "collapsed": false,
    "deletable": true,
    "editable": true,
    "ein.tags": [
     "worksheet-0"
    ],
    "slideshow": {
     "slide_type": "-"
    }
   },
   "outputs": [],
   "source": [
    "lowest_unemployment = portland.unemployment_rate.min()"
   ]
  },
  {
   "cell_type": "code",
   "execution_count": 22,
   "metadata": {
    "autoscroll": "json-false",
    "collapsed": false,
    "deletable": true,
    "editable": true,
    "ein.tags": [
     "worksheet-0"
    ],
    "slideshow": {
     "slide_type": "-"
    }
   },
   "outputs": [],
   "source": [
    "recession_start = numpy.where(portland.date==\"2007 Dec\")[0][0]\n",
    "recession_end = numpy.where(portland.date==\"2009 Jun\")[0][0]\n",
    "portland_recession_start = portland.unemployment_rate.iloc[recession_start]"
   ]
  },
  {
   "cell_type": "code",
   "execution_count": 23,
   "metadata": {
    "autoscroll": "json-false",
    "collapsed": false,
    "deletable": true,
    "editable": true,
    "ein.tags": [
     "worksheet-0"
    ],
    "slideshow": {
     "slide_type": "-"
    }
   },
   "outputs": [
    {
     "data": {
      "text/plain": [
       "11"
      ]
     },
     "execution_count": 23,
     "metadata": {},
     "output_type": "execute_result"
    }
   ],
   "source": [
    "recession_start"
   ]
  },
  {
   "cell_type": "markdown",
   "metadata": {
    "deletable": true,
    "editable": true,
    "ein.tags": [
     "worksheet-0"
    ],
    "slideshow": {
     "slide_type": "-"
    }
   },
   "source": [
    "## National"
   ]
  },
  {
   "cell_type": "code",
   "execution_count": 24,
   "metadata": {
    "autoscroll": "json-false",
    "collapsed": false,
    "deletable": true,
    "editable": true,
    "ein.tags": [
     "worksheet-0"
    ],
    "slideshow": {
     "slide_type": "-"
    }
   },
   "outputs": [
    {
     "data": {
      "text/plain": [
       "'2015 Oct'"
      ]
     },
     "execution_count": 24,
     "metadata": {},
     "output_type": "execute_result"
    }
   ],
   "source": [
    "peak = national.unemployment_rate.max()\n",
    "national_peak = numpy.where(national.unemployment_rate==peak)\n",
    "national_recession_start = national.unemployment_rate.iloc[recession_start]\n",
    "post_recession = national[national.Year > 2009]\n",
    "index = numpy.where(post_recession.unemployment_rate==national_recession_start)[0][0]\n",
    "post_recession.date.iloc[index]"
   ]
  },
  {
   "cell_type": "markdown",
   "metadata": {
    "deletable": true,
    "editable": true,
    "ein.tags": [
     "worksheet-0"
    ],
    "slideshow": {
     "slide_type": "-"
    }
   },
   "source": [
    "## S & P Index"
   ]
  },
  {
   "cell_type": "code",
   "execution_count": 25,
   "metadata": {
    "autoscroll": "json-false",
    "collapsed": false,
    "deletable": true,
    "editable": true,
    "ein.tags": [
     "worksheet-0"
    ],
    "slideshow": {
     "slide_type": "-"
    }
   },
   "outputs": [],
   "source": [
    "s_and_p_nadir = s_and_p_index.VALUE.min()\n",
    "s_and_p_nadir = numpy.where(s_and_p_index.VALUE==s_and_p_nadir)[0]"
   ]
  },
  {
   "cell_type": "markdown",
   "metadata": {
    "deletable": true,
    "editable": true,
    "ein.tags": [
     "worksheet-0"
    ],
    "slideshow": {
     "slide_type": "-"
    }
   },
   "source": [
    "## House Price Index"
   ]
  },
  {
   "cell_type": "code",
   "execution_count": 26,
   "metadata": {
    "autoscroll": "json-false",
    "collapsed": false,
    "deletable": true,
    "editable": true,
    "ein.tags": [
     "worksheet-0"
    ],
    "slideshow": {
     "slide_type": "-"
    }
   },
   "outputs": [],
   "source": [
    "housing_nadir = house_price_index.price.min()\n",
    "housing_nadir = numpy.where(house_price_index.price==housing_nadir)[0]"
   ]
  },
  {
   "cell_type": "markdown",
   "metadata": {
    "deletable": true,
    "editable": true,
    "ein.tags": [
     "worksheet-0"
    ],
    "slideshow": {
     "slide_type": "-"
    }
   },
   "source": [
    "# Plotting"
   ]
  },
  {
   "cell_type": "markdown",
   "metadata": {
    "deletable": true,
    "editable": true,
    "ein.tags": [
     "worksheet-0"
    ],
    "slideshow": {
     "slide_type": "-"
    }
   },
   "source": [
    "## Some Constants"
   ]
  },
  {
   "cell_type": "code",
   "execution_count": 27,
   "metadata": {
    "autoscroll": "json-false",
    "collapsed": false,
    "deletable": true,
    "editable": true,
    "ein.tags": [
     "worksheet-0"
    ],
    "slideshow": {
     "slide_type": "-"
    }
   },
   "outputs": [],
   "source": [
    "NATIONAL_COLOR = \"slategrey\"\n",
    "NATIONAL_LABEL = \"National\"\n",
    "PORTLAND_COLOR = \"cornflowerblue\"\n",
    "PORTLAND_LABEL = \"Portland-Hillsboro-Vancouver\"\n",
    "S_AND_P_COLOR = \"#90151B\"\n",
    "S_AND_P_LABEL = \"S & P 500 Index\"\n",
    "HOUSING_COLOR = \"#D89159\"\n",
    "HOUSING_LABEL = \"House Price Index\""
   ]
  },
  {
   "cell_type": "markdown",
   "metadata": {
    "deletable": true,
    "editable": true,
    "ein.tags": [
     "worksheet-0"
    ],
    "slideshow": {
     "slide_type": "-"
    }
   },
   "source": [
    "This is how you get it done with bokeh. The ColumnDataSource works sort of like pandas plotting, you pass it in as the data source and then give the names of the columns as strings. Actually, I wonder if you can just use the DataFrame directly... No, I just tried it and it raised an exception."
   ]
  },
  {
   "cell_type": "markdown",
   "metadata": {
    "deletable": true,
    "editable": true,
    "ein.tags": [
     "worksheet-0"
    ],
    "slideshow": {
     "slide_type": "-"
    }
   },
   "source": [
    "First, the import and set-up. Since I'm going to set values in the hover-tool (otherwise it just gives the current cursor coordinates, not the data values), I have to import all the classes that represent tools - like HoverTool, ResetTool, etc."
   ]
  },
  {
   "cell_type": "code",
   "execution_count": 28,
   "metadata": {
    "autoscroll": "json-false",
    "collapsed": false,
    "deletable": true,
    "editable": true,
    "ein.tags": [
     "worksheet-0"
    ],
    "slideshow": {
     "slide_type": "-"
    }
   },
   "outputs": [],
   "source": [
    "from bokeh.io import (\n",
    "    output_file,\n",
    "    output_notebook,\n",
    "    show,\n",
    "    )\n",
    "\n",
    "from bokeh.plotting import (\n",
    "    figure,\n",
    "    ColumnDataSource,\n",
    "    )\n",
    "\n",
    "from bokeh.models import (\n",
    "    CrosshairTool,\n",
    "    HoverTool,\n",
    "    PanTool,\n",
    "    ResetTool,\n",
    "    ResizeTool,\n",
    "    SaveTool,\n",
    "    UndoTool,\n",
    "    WheelZoomTool,\n",
    "    )"
   ]
  },
  {
   "cell_type": "code",
   "execution_count": 30,
   "metadata": {
    "autoscroll": "json-false",
    "collapsed": false,
    "deletable": true,
    "editable": true,
    "ein.tags": [
     "worksheet-0"
    ],
    "slideshow": {
     "slide_type": "-"
    }
   },
   "outputs": [
    {
     "data": {
      "text/html": [
       "\n",
       "    <div class=\"bk-root\">\n",
       "        <a href=\"http://bokeh.pydata.org\" target=\"_blank\" class=\"bk-logo bk-logo-small bk-logo-notebook\"></a>\n",
       "        <span id=\"f8883d47-b1b9-4c65-90c5-00489cf6a84d\">Loading BokehJS ...</span>\n",
       "    </div>"
      ]
     },
     "metadata": {},
     "output_type": "display_data"
    },
    {
     "data": {
      "application/javascript": [
       "\n",
       "(function(global) {\n",
       "  function now() {\n",
       "    return new Date();\n",
       "  }\n",
       "\n",
       "  var force = true;\n",
       "\n",
       "  if (typeof (window._bokeh_onload_callbacks) === \"undefined\" || force === true) {\n",
       "    window._bokeh_onload_callbacks = [];\n",
       "    window._bokeh_is_loading = undefined;\n",
       "  }\n",
       "\n",
       "\n",
       "  \n",
       "  if (typeof (window._bokeh_timeout) === \"undefined\" || force === true) {\n",
       "    window._bokeh_timeout = Date.now() + 5000;\n",
       "    window._bokeh_failed_load = false;\n",
       "  }\n",
       "\n",
       "  var NB_LOAD_WARNING = {'data': {'text/html':\n",
       "     \"<div style='background-color: #fdd'>\\n\"+\n",
       "     \"<p>\\n\"+\n",
       "     \"BokehJS does not appear to have successfully loaded. If loading BokehJS from CDN, this \\n\"+\n",
       "     \"may be due to a slow or bad network connection. Possible fixes:\\n\"+\n",
       "     \"</p>\\n\"+\n",
       "     \"<ul>\\n\"+\n",
       "     \"<li>re-rerun `output_notebook()` to attempt to load from CDN again, or</li>\\n\"+\n",
       "     \"<li>use INLINE resources instead, as so:</li>\\n\"+\n",
       "     \"</ul>\\n\"+\n",
       "     \"<code>\\n\"+\n",
       "     \"from bokeh.resources import INLINE\\n\"+\n",
       "     \"output_notebook(resources=INLINE)\\n\"+\n",
       "     \"</code>\\n\"+\n",
       "     \"</div>\"}};\n",
       "\n",
       "  function display_loaded() {\n",
       "    if (window.Bokeh !== undefined) {\n",
       "      var el = document.getElementById(\"f8883d47-b1b9-4c65-90c5-00489cf6a84d\");\n",
       "      el.textContent = \"BokehJS \" + Bokeh.version + \" successfully loaded.\";\n",
       "    } else if (Date.now() < window._bokeh_timeout) {\n",
       "      setTimeout(display_loaded, 100)\n",
       "    }\n",
       "  }\n",
       "\n",
       "  function run_callbacks() {\n",
       "    window._bokeh_onload_callbacks.forEach(function(callback) { callback() });\n",
       "    delete window._bokeh_onload_callbacks\n",
       "    console.info(\"Bokeh: all callbacks have finished\");\n",
       "  }\n",
       "\n",
       "  function load_libs(js_urls, callback) {\n",
       "    window._bokeh_onload_callbacks.push(callback);\n",
       "    if (window._bokeh_is_loading > 0) {\n",
       "      console.log(\"Bokeh: BokehJS is being loaded, scheduling callback at\", now());\n",
       "      return null;\n",
       "    }\n",
       "    if (js_urls == null || js_urls.length === 0) {\n",
       "      run_callbacks();\n",
       "      return null;\n",
       "    }\n",
       "    console.log(\"Bokeh: BokehJS not loaded, scheduling load and callback at\", now());\n",
       "    window._bokeh_is_loading = js_urls.length;\n",
       "    for (var i = 0; i < js_urls.length; i++) {\n",
       "      var url = js_urls[i];\n",
       "      var s = document.createElement('script');\n",
       "      s.src = url;\n",
       "      s.async = false;\n",
       "      s.onreadystatechange = s.onload = function() {\n",
       "        window._bokeh_is_loading--;\n",
       "        if (window._bokeh_is_loading === 0) {\n",
       "          console.log(\"Bokeh: all BokehJS libraries loaded\");\n",
       "          run_callbacks()\n",
       "        }\n",
       "      };\n",
       "      s.onerror = function() {\n",
       "        console.warn(\"failed to load library \" + url);\n",
       "      };\n",
       "      console.log(\"Bokeh: injecting script tag for BokehJS library: \", url);\n",
       "      document.getElementsByTagName(\"head\")[0].appendChild(s);\n",
       "    }\n",
       "  };var element = document.getElementById(\"f8883d47-b1b9-4c65-90c5-00489cf6a84d\");\n",
       "  if (element == null) {\n",
       "    console.log(\"Bokeh: ERROR: autoload.js configured with elementid 'f8883d47-b1b9-4c65-90c5-00489cf6a84d' but no matching script tag was found. \")\n",
       "    return false;\n",
       "  }\n",
       "\n",
       "  var js_urls = [\"https://cdn.pydata.org/bokeh/release/bokeh-0.12.5.min.js\", \"https://cdn.pydata.org/bokeh/release/bokeh-widgets-0.12.5.min.js\"];\n",
       "\n",
       "  var inline_js = [\n",
       "    function(Bokeh) {\n",
       "      Bokeh.set_log_level(\"info\");\n",
       "    },\n",
       "    \n",
       "    function(Bokeh) {\n",
       "      \n",
       "    },\n",
       "    \n",
       "    function(Bokeh) {\n",
       "      \n",
       "      document.getElementById(\"f8883d47-b1b9-4c65-90c5-00489cf6a84d\").textContent = \"BokehJS is loading...\";\n",
       "    },\n",
       "    function(Bokeh) {\n",
       "      console.log(\"Bokeh: injecting CSS: https://cdn.pydata.org/bokeh/release/bokeh-0.12.5.min.css\");\n",
       "      Bokeh.embed.inject_css(\"https://cdn.pydata.org/bokeh/release/bokeh-0.12.5.min.css\");\n",
       "      console.log(\"Bokeh: injecting CSS: https://cdn.pydata.org/bokeh/release/bokeh-widgets-0.12.5.min.css\");\n",
       "      Bokeh.embed.inject_css(\"https://cdn.pydata.org/bokeh/release/bokeh-widgets-0.12.5.min.css\");\n",
       "    }\n",
       "  ];\n",
       "\n",
       "  function run_inline_js() {\n",
       "    \n",
       "    if ((window.Bokeh !== undefined) || (force === true)) {\n",
       "      for (var i = 0; i < inline_js.length; i++) {\n",
       "        inline_js[i](window.Bokeh);\n",
       "      }if (force === true) {\n",
       "        display_loaded();\n",
       "      }} else if (Date.now() < window._bokeh_timeout) {\n",
       "      setTimeout(run_inline_js, 100);\n",
       "    } else if (!window._bokeh_failed_load) {\n",
       "      console.log(\"Bokeh: BokehJS failed to load within specified timeout.\");\n",
       "      window._bokeh_failed_load = true;\n",
       "    } else if (force !== true) {\n",
       "      var cell = $(document.getElementById(\"f8883d47-b1b9-4c65-90c5-00489cf6a84d\")).parents('.cell').data().cell;\n",
       "      cell.output_area.append_execute_result(NB_LOAD_WARNING)\n",
       "    }\n",
       "\n",
       "  }\n",
       "\n",
       "  if (window._bokeh_is_loading === 0) {\n",
       "    console.log(\"Bokeh: BokehJS loaded, going straight to plotting\");\n",
       "    run_inline_js();\n",
       "  } else {\n",
       "    load_libs(js_urls, function() {\n",
       "      console.log(\"Bokeh: BokehJS plotting callback run at\", now());\n",
       "      run_inline_js();\n",
       "    });\n",
       "  }\n",
       "}(this));"
      ]
     },
     "metadata": {},
     "output_type": "display_data"
    }
   ],
   "source": [
    "output_notebook()"
   ]
  },
  {
   "cell_type": "markdown",
   "metadata": {
    "deletable": true,
    "editable": true,
    "ein.tags": [
     "worksheet-0"
    ],
    "slideshow": {
     "slide_type": "-"
    }
   },
   "source": [
    "The *ColumnDataSource* looks like a pandas *DataFrame* (I think). The keys in the data dictionary are how you tell bokeh what you want to use."
   ]
  },
  {
   "cell_type": "code",
   "execution_count": 31,
   "metadata": {
    "autoscroll": "json-false",
    "collapsed": false,
    "deletable": true,
    "editable": true,
    "ein.tags": [
     "worksheet-0"
    ],
    "slideshow": {
     "slide_type": "-"
    }
   },
   "outputs": [],
   "source": [
    "source = ColumnDataSource(\n",
    "    data={\n",
    "        \"Month\": portland.datetime,\n",
    "        \"% Unemployment\": portland.unemployment_rate,\n",
    "        \"month\":portland.date,\n",
    "    }\n",
    ")"
   ]
  },
  {
   "cell_type": "markdown",
   "metadata": {
    "deletable": true,
    "editable": true,
    "ein.tags": [
     "worksheet-0"
    ],
    "slideshow": {
     "slide_type": "-"
    }
   },
   "source": [
    "The HoverTool lets you set what gets shown in the popup. The first item in the tuple (e.g. \"month\") is used as the label, and the second refers to the column in the *ColumnDataSource* that you give it. The data columns (*x* and *y* in this case) use a \"$\" but the other columns (only \"month\" here) are referenced with an \"@\"."
   ]
  },
  {
   "cell_type": "code",
   "execution_count": 32,
   "metadata": {
    "autoscroll": "json-false",
    "collapsed": false,
    "deletable": true,
    "editable": true,
    "ein.tags": [
     "worksheet-0"
    ],
    "slideshow": {
     "slide_type": "-"
    }
   },
   "outputs": [],
   "source": [
    "hover = HoverTool(tooltips=[\n",
    "    (\"month\", \"@month\"),\n",
    "    (\"unemployment\", \"$y\"),\n",
    "])"
   ]
  },
  {
   "cell_type": "code",
   "execution_count": 34,
   "metadata": {
    "autoscroll": "json-false",
    "collapsed": false,
    "deletable": true,
    "editable": true,
    "ein.tags": [
     "worksheet-0"
    ],
    "slideshow": {
     "slide_type": "-"
    }
   },
   "outputs": [],
   "source": [
    "portland_source = ColumnDataSource(\n",
    "    data=dict(\n",
    "        month_data=portland.datetime,\n",
    "        unemployment=portland.unemployment_rate,\n",
    "        month_label=portland.date,\n",
    "        )\n",
    ")\n",
    "hover = HoverTool(tooltips=[\n",
    "    (\"month\", \"@month_label\"),\n",
    "    (\"unemployment\", \"@unemployment\"),\n",
    "])"
   ]
  },
  {
   "cell_type": "markdown",
   "metadata": {
    "deletable": true,
    "editable": true,
    "ein.tags": [
     "worksheet-0"
    ],
    "slideshow": {
     "slide_type": "-"
    }
   },
   "source": [
    "## Portland and National"
   ]
  },
  {
   "cell_type": "markdown",
   "metadata": {
    "deletable": true,
    "editable": true,
    "ein.tags": [
     "worksheet-0"
    ],
    "slideshow": {
     "slide_type": "-"
    }
   },
   "source": [
    "First thing to do is make a *ColumnDataSource* for the national data."
   ]
  },
  {
   "cell_type": "code",
   "execution_count": 35,
   "metadata": {
    "autoscroll": "json-false",
    "collapsed": false,
    "deletable": true,
    "editable": true,
    "ein.tags": [
     "worksheet-0"
    ],
    "slideshow": {
     "slide_type": "-"
    }
   },
   "outputs": [],
   "source": [
    "national_source = ColumnDataSource(\n",
    "    data=dict(\n",
    "        month_data=national.datetime,\n",
    "        unemployment=national.unemployment_rate,\n",
    "        month_label=national.date,\n",
    "        )\n",
    ")"
   ]
  },
  {
   "cell_type": "markdown",
   "metadata": {
    "deletable": true,
    "editable": true,
    "ein.tags": [
     "worksheet-0"
    ],
    "slideshow": {
     "slide_type": "-"
    }
   },
   "source": [
    "I don't know why but the hover tool isn't re-usable (well, I'm guessing none of them are), so the tools have to get re-created."
   ]
  },
  {
   "cell_type": "code",
   "execution_count": 36,
   "metadata": {
    "autoscroll": "json-false",
    "collapsed": false,
    "deletable": true,
    "editable": true,
    "ein.tags": [
     "worksheet-0"
    ],
    "slideshow": {
     "slide_type": "-"
    }
   },
   "outputs": [],
   "source": [
    "def plot_data(fig, source, color, legend=None, x=\"month_data\", y=\"unemployment\"):\n",
    "    \"\"\"Plots source as a line and a circle\n",
    "\n",
    "    Args:\n",
    "     fig : figure instance\n",
    "     source: data-source\n",
    "     color (str): color for the lines and circles\n",
    "     legend (str): how to label the data\n",
    "    \"\"\"\n",
    "    line = fig.line(x, y,\n",
    "                    source=source,\n",
    "                    line_color=color,\n",
    "                    legend=legend)\n",
    "    circles = fig.circle(x, y,\n",
    "                         source=source,\n",
    "                         line_color=color,\n",
    "                         fill_color=\"white\")\n",
    "    return"
   ]
  },
  {
   "cell_type": "markdown",
   "metadata": {
    "deletable": true,
    "editable": true,
    "ein.tags": [
     "worksheet-0"
    ],
    "slideshow": {
     "slide_type": "-"
    }
   },
   "source": [
    "# The Final Plot"
   ]
  },
  {
   "cell_type": "markdown",
   "metadata": {
    "deletable": true,
    "editable": true,
    "ein.tags": [
     "worksheet-0"
    ],
    "slideshow": {
     "slide_type": "-"
    }
   },
   "source": [
    "This is a re-do of the final plot with the unemployment, housing, and S & P index data. First the two indices need to be changed to bokeh columns."
   ]
  },
  {
   "cell_type": "code",
   "execution_count": 37,
   "metadata": {
    "autoscroll": "json-false",
    "collapsed": false,
    "deletable": true,
    "editable": true,
    "ein.tags": [
     "worksheet-0"
    ],
    "slideshow": {
     "slide_type": "-"
    }
   },
   "outputs": [],
   "source": [
    "from bokeh.models import (\n",
    "    BoxAnnotation,\n",
    "    CustomJS,\n",
    "    Span,\n",
    "    Toggle,\n",
    "    )"
   ]
  },
  {
   "cell_type": "code",
   "execution_count": 38,
   "metadata": {
    "autoscroll": "json-false",
    "collapsed": false,
    "deletable": true,
    "editable": true,
    "ein.tags": [
     "worksheet-0"
    ],
    "slideshow": {
     "slide_type": "-"
    }
   },
   "outputs": [],
   "source": [
    "s_and_p_source = ColumnDataSource(\n",
    "    data=dict(\n",
    "        month_data=s_and_p_index.datetime,\n",
    "        value=s_and_p_index.VALUE,\n",
    "        month_label=s_and_p_index.date,\n",
    "        )\n",
    ")"
   ]
  },
  {
   "cell_type": "code",
   "execution_count": 39,
   "metadata": {
    "autoscroll": "json-false",
    "collapsed": false,
    "deletable": true,
    "editable": true,
    "ein.tags": [
     "worksheet-0"
    ],
    "slideshow": {
     "slide_type": "-"
    }
   },
   "outputs": [],
   "source": [
    "housing_source = ColumnDataSource(\n",
    "    data=dict(\n",
    "        month_data=house_price_index.datetime,\n",
    "        price=house_price_index.price,\n",
    "        month_label=s_and_p_index.date,\n",
    "        )\n",
    ")"
   ]
  },
  {
   "cell_type": "markdown",
   "metadata": {
    "deletable": true,
    "editable": true,
    "ein.tags": [
     "worksheet-0"
    ],
    "slideshow": {
     "slide_type": "-"
    }
   },
   "source": [
    "In order to get the plots aligned, you give them to the ``column`` function."
   ]
  },
  {
   "cell_type": "code",
   "execution_count": 40,
   "metadata": {
    "autoscroll": "json-false",
    "collapsed": false,
    "deletable": true,
    "editable": true,
    "ein.tags": [
     "worksheet-0"
    ],
    "slideshow": {
     "slide_type": "-"
    }
   },
   "outputs": [],
   "source": [
    "from bokeh.layouts import column"
   ]
  },
  {
   "cell_type": "code",
   "execution_count": 41,
   "metadata": {
    "autoscroll": "json-false",
    "collapsed": false,
    "deletable": true,
    "editable": true,
    "ein.tags": [
     "worksheet-0"
    ],
    "slideshow": {
     "slide_type": "-"
    }
   },
   "outputs": [],
   "source": [
    "FIGURE_WIDTH = 600\n",
    "FIGURE_HEIGHT = 300"
   ]
  },
  {
   "cell_type": "markdown",
   "metadata": {
    "deletable": true,
    "editable": true,
    "ein.tags": [
     "worksheet-0"
    ],
    "slideshow": {
     "slide_type": "-"
    }
   },
   "source": [
    "First I'll create the unemployment figures."
   ]
  },
  {
   "cell_type": "code",
   "execution_count": 42,
   "metadata": {
    "autoscroll": "json-false",
    "collapsed": false,
    "deletable": true,
    "editable": true,
    "ein.tags": [
     "worksheet-0"
    ],
    "slideshow": {
     "slide_type": "-"
    }
   },
   "outputs": [],
   "source": [
    "def make_tools():\n",
    "    \"\"\"makes the tools for the figures\n",
    "    \n",
    "    Returns:\n",
    "     list: tool objects\n",
    "    \"\"\"\n",
    "    hover = HoverTool(tooltips=[\n",
    "    (\"month\", \"@month_label\"),\n",
    "    (\"unemployment\", \"@unemployment\"),\n",
    "    ])\n",
    "    \n",
    "    tools = [\n",
    "        hover,\n",
    "        CrosshairTool(),\n",
    "        PanTool(),\n",
    "        ResetTool(),\n",
    "        ResizeTool(),\n",
    "        SaveTool(),\n",
    "        UndoTool(),\n",
    "        WheelZoomTool(),\n",
    "    ]\n",
    "    return tools"
   ]
  },
  {
   "cell_type": "code",
   "execution_count": 43,
   "metadata": {
    "autoscroll": "json-false",
    "collapsed": false,
    "deletable": true,
    "editable": true,
    "ein.tags": [
     "worksheet-0"
    ],
    "slideshow": {
     "slide_type": "-"
    }
   },
   "outputs": [],
   "source": [
    "tools = make_tools()\n",
    "unemployment_figure = figure(\n",
    "    plot_width=FIGURE_WIDTH,\n",
    "    plot_height=FIGURE_HEIGHT,\n",
    "    x_axis_type=\"datetime\",\n",
    "    tools=tools,\n",
    "    title=\"Portland Unemployment (2007-2017)\"\n",
    ")"
   ]
  },
  {
   "cell_type": "code",
   "execution_count": 44,
   "metadata": {
    "autoscroll": "json-false",
    "collapsed": false,
    "deletable": true,
    "editable": true,
    "ein.tags": [
     "worksheet-0"
    ],
    "slideshow": {
     "slide_type": "-"
    }
   },
   "outputs": [],
   "source": [
    "unemployment_figure.line(\n",
    "    \"month_data\", \"unemployment\",\n",
    "    source=portland_source,\n",
    "    line_color=PORTLAND_COLOR,\n",
    "    legend=PORTLAND_LABEL,\n",
    "          )\n",
    "\n",
    "line = unemployment_figure.line(\n",
    "    \"month_data\", \"unemployment\",\n",
    "    source=national_source,\n",
    "    line_color=NATIONAL_COLOR,\n",
    "    legend=NATIONAL_LABEL,\n",
    ")"
   ]
  },
  {
   "cell_type": "markdown",
   "metadata": {
    "deletable": true,
    "editable": true,
    "ein.tags": [
     "worksheet-0"
    ],
    "slideshow": {
     "slide_type": "-"
    }
   },
   "source": [
    "Now to add the recession. Bokeh doesn't really have a way to specify a location using the datetime value (or the index) so there's an ugly hack to use the timestamp."
   ]
  },
  {
   "cell_type": "code",
   "execution_count": 45,
   "metadata": {
    "autoscroll": "json-false",
    "collapsed": false,
    "deletable": true,
    "editable": true,
    "ein.tags": [
     "worksheet-0"
    ],
    "slideshow": {
     "slide_type": "-"
    }
   },
   "outputs": [],
   "source": [
    "TIME_SCALE = 10**3"
   ]
  },
  {
   "cell_type": "code",
   "execution_count": 47,
   "metadata": {
    "autoscroll": "json-false",
    "collapsed": false,
    "deletable": true,
    "editable": true,
    "ein.tags": [
     "worksheet-0"
    ],
    "slideshow": {
     "slide_type": "-"
    }
   },
   "outputs": [],
   "source": [
    "def scale_timestamp(index):\n",
    "    \"\"\"gets the scaled timestamp for element location\n",
    "\n",
    "    Args:\n",
    "     index: index in the portland.datetime series\n",
    "    Returns:\n",
    "     epoch timestamp used to locate place in plot\n",
    "    \"\"\"\n",
    "    return portland.datetime[index].timestamp() * TIME_SCALE"
   ]
  },
  {
   "cell_type": "code",
   "execution_count": 48,
   "metadata": {
    "autoscroll": "json-false",
    "collapsed": false,
    "deletable": true,
    "editable": true,
    "ein.tags": [
     "worksheet-0"
    ],
    "slideshow": {
     "slide_type": "-"
    }
   },
   "outputs": [],
   "source": [
    "def make_recession():\n",
    "    \"\"\"Makes the box for the recession\n",
    "\n",
    "    Returns:\n",
    "     BoxAnnotation to color the recession\n",
    "    \"\"\"\n",
    "    return BoxAnnotation(\n",
    "        left=scale_timestamp(recession_start),\n",
    "        right=scale_timestamp(recession_end),\n",
    "        fill_color=\"blue\",\n",
    "        fill_alpha=0.1)"
   ]
  },
  {
   "cell_type": "code",
   "execution_count": 49,
   "metadata": {
    "autoscroll": "json-false",
    "collapsed": false,
    "deletable": true,
    "editable": true,
    "ein.tags": [
     "worksheet-0"
    ],
    "slideshow": {
     "slide_type": "-"
    }
   },
   "outputs": [],
   "source": [
    "def make_vertical(location, color=\"darkorange\"):\n",
    "    \"\"\"makes a vertical line\n",
    "    \n",
    "    Args:\n",
    "     location: place on the x-axis for the line\n",
    "     color (str): line-color for the line\n",
    "    Returns:\n",
    "     Span at index\n",
    "    \"\"\"\n",
    "    return Span(\n",
    "        location=location,\n",
    "        line_color=color,\n",
    "        dimension=\"height\",\n",
    "    )"
   ]
  },
  {
   "cell_type": "code",
   "execution_count": 50,
   "metadata": {
    "autoscroll": "json-false",
    "collapsed": false,
    "deletable": true,
    "editable": true,
    "ein.tags": [
     "worksheet-0"
    ],
    "slideshow": {
     "slide_type": "-"
    }
   },
   "outputs": [],
   "source": [
    "def make_verticals(fig):\n",
    "    \"\"\"makes the verticals and adds them to the figures\"\"\"\n",
    "    fig.add_layout(make_vertical(\n",
    "        location=scale_timestamp(unemployment_peaks[0]),\n",
    "        color=\"darkorange\",\n",
    "    ))\n",
    "    fig.add_layout(make_vertical(\n",
    "        location=scale_timestamp(s_and_p_nadir[0]),\n",
    "        color=\"crimson\"))\n",
    "    fig.add_layout(make_vertical(\n",
    "        location=scale_timestamp(housing_nadir[0]),\n",
    "        color=\"limegreen\"))\n",
    "    fig.add_layout(make_vertical(\n",
    "        location=scale_timestamp(national_peak[0][0]),\n",
    "        color=\"grey\"))\n",
    "    return"
   ]
  },
  {
   "cell_type": "code",
   "execution_count": 51,
   "metadata": {
    "autoscroll": "json-false",
    "collapsed": false,
    "deletable": true,
    "editable": true,
    "ein.tags": [
     "worksheet-0"
    ],
    "slideshow": {
     "slide_type": "-"
    }
   },
   "outputs": [],
   "source": [
    "unemployment_figure.add_layout(make_recession())"
   ]
  },
  {
   "cell_type": "markdown",
   "metadata": {
    "deletable": true,
    "editable": true,
    "ein.tags": [
     "worksheet-0"
    ],
    "slideshow": {
     "slide_type": "-"
    }
   },
   "source": [
    "Next, I'll add the peaks."
   ]
  },
  {
   "cell_type": "code",
   "execution_count": 52,
   "metadata": {
    "autoscroll": "json-false",
    "collapsed": false,
    "deletable": true,
    "editable": true,
    "ein.tags": [
     "worksheet-0"
    ],
    "slideshow": {
     "slide_type": "-"
    }
   },
   "outputs": [],
   "source": [
    "make_verticals(unemployment_figure)"
   ]
  },
  {
   "cell_type": "markdown",
   "metadata": {
    "deletable": true,
    "editable": true,
    "ein.tags": [
     "worksheet-0"
    ],
    "slideshow": {
     "slide_type": "-"
    }
   },
   "source": [
    "Now to clean things up a little."
   ]
  },
  {
   "cell_type": "code",
   "execution_count": 53,
   "metadata": {
    "autoscroll": "json-false",
    "collapsed": false,
    "deletable": true,
    "editable": true,
    "ein.tags": [
     "worksheet-0"
    ],
    "slideshow": {
     "slide_type": "-"
    }
   },
   "outputs": [],
   "source": [
    "unemployment_figure.yaxis.axis_label = \"% Unemployment\"\n",
    "unemployment_figure.xaxis.axis_label = \"Month\"\n",
    "unemployment_figure.xgrid.visible = False\n",
    "unemployment_figure.ygrid.visible = False"
   ]
  },
  {
   "cell_type": "markdown",
   "metadata": {
    "deletable": true,
    "editable": true,
    "ein.tags": [
     "worksheet-0"
    ],
    "slideshow": {
     "slide_type": "-"
    }
   },
   "source": [
    "Now the S & P 500 Index."
   ]
  },
  {
   "cell_type": "code",
   "execution_count": 54,
   "metadata": {
    "autoscroll": "json-false",
    "collapsed": false,
    "deletable": true,
    "editable": true,
    "ein.tags": [
     "worksheet-0"
    ],
    "slideshow": {
     "slide_type": "-"
    }
   },
   "outputs": [],
   "source": [
    "hover = HoverTool(tooltips=[\n",
    "    (\"Month\", \"@month_label\"),\n",
    "    (\"Value\", \"@value\"),\n",
    "])\n",
    "tools = [\n",
    "    hover,\n",
    "    CrosshairTool(),\n",
    "    PanTool(),\n",
    "    ResetTool(),\n",
    "    ResizeTool(),\n",
    "    SaveTool(),\n",
    "    UndoTool(),\n",
    "    WheelZoomTool(),\n",
    "]\n",
    "s_and_p_figure = figure(\n",
    "    plot_width=FIGURE_WIDTH,\n",
    "    plot_height=FIGURE_HEIGHT,\n",
    "    x_range=unemployment_figure.x_range,\n",
    "    x_axis_type=\"datetime\",\n",
    "    tools=tools,\n",
    "    title=\"S & P 500 Index\",\n",
    ")\n",
    "line = s_and_p_figure.line(\"month_data\", \"value\",\n",
    "                    source=s_and_p_source,\n",
    "                    line_color=S_AND_P_COLOR)"
   ]
  },
  {
   "cell_type": "code",
   "execution_count": 55,
   "metadata": {
    "autoscroll": "json-false",
    "collapsed": false,
    "deletable": true,
    "editable": true,
    "ein.tags": [
     "worksheet-0"
    ],
    "slideshow": {
     "slide_type": "-"
    }
   },
   "outputs": [],
   "source": [
    "s_and_p_figure.add_layout(make_recession())"
   ]
  },
  {
   "cell_type": "code",
   "execution_count": 56,
   "metadata": {
    "autoscroll": "json-false",
    "collapsed": false,
    "deletable": true,
    "editable": true,
    "ein.tags": [
     "worksheet-0"
    ],
    "slideshow": {
     "slide_type": "-"
    }
   },
   "outputs": [],
   "source": [
    "make_verticals(s_and_p_figure)"
   ]
  },
  {
   "cell_type": "code",
   "execution_count": 57,
   "metadata": {
    "autoscroll": "json-false",
    "collapsed": false,
    "deletable": true,
    "editable": true,
    "ein.tags": [
     "worksheet-0"
    ],
    "slideshow": {
     "slide_type": "-"
    }
   },
   "outputs": [],
   "source": [
    "s_and_p_figure.yaxis.axis_label = \"S & P 500 Valuation\"\n",
    "s_and_p_figure.xaxis.axis_label = \"Month\"\n",
    "s_and_p_figure.xgrid.visible = False\n",
    "s_and_p_figure.ygrid.visible = False"
   ]
  },
  {
   "cell_type": "markdown",
   "metadata": {
    "deletable": true,
    "editable": true,
    "ein.tags": [
     "worksheet-0"
    ],
    "slideshow": {
     "slide_type": "-"
    }
   },
   "source": [
    "The S & P Index climbs to the right, so the legend has to go somewhere else."
   ]
  },
  {
   "cell_type": "code",
   "execution_count": 58,
   "metadata": {
    "autoscroll": "json-false",
    "collapsed": false,
    "deletable": true,
    "editable": true,
    "ein.tags": [
     "worksheet-0"
    ],
    "slideshow": {
     "slide_type": "-"
    }
   },
   "outputs": [],
   "source": [
    "s_and_p_figure.legend.location = \"bottom_right\""
   ]
  },
  {
   "cell_type": "markdown",
   "metadata": {
    "deletable": true,
    "editable": true,
    "ein.tags": [
     "worksheet-0"
    ],
    "slideshow": {
     "slide_type": "-"
    }
   },
   "source": [
    "Finally the House Price Index"
   ]
  },
  {
   "cell_type": "code",
   "execution_count": 59,
   "metadata": {
    "autoscroll": "json-false",
    "collapsed": false,
    "deletable": true,
    "editable": true,
    "ein.tags": [
     "worksheet-0"
    ],
    "slideshow": {
     "slide_type": "-"
    }
   },
   "outputs": [],
   "source": [
    "hover = HoverTool(tooltips=[\n",
    "    (\"Month\", \"@month_label\"),\n",
    "    (\"Price\", \"@price\"),\n",
    "])\n",
    "tools = [\n",
    "    hover,\n",
    "    CrosshairTool(),\n",
    "    PanTool(),\n",
    "    ResetTool(),\n",
    "    ResizeTool(),\n",
    "    SaveTool(),\n",
    "    UndoTool(),\n",
    "    WheelZoomTool(),\n",
    "]\n",
    "housing_figure = figure(\n",
    "    plot_width=FIGURE_WIDTH,\n",
    "    plot_height=FIGURE_HEIGHT,\n",
    "    x_range=unemployment_figure.x_range,\n",
    "    x_axis_type=\"datetime\",\n",
    "    tools=tools,\n",
    "    title=\"House Price Index\",\n",
    ")\n",
    "line = housing_figure.line(\"month_data\", \"price\",\n",
    "                           source=housing_source,\n",
    "                           line_color=HOUSING_COLOR)"
   ]
  },
  {
   "cell_type": "code",
   "execution_count": 60,
   "metadata": {
    "autoscroll": "json-false",
    "collapsed": false,
    "deletable": true,
    "editable": true,
    "ein.tags": [
     "worksheet-0"
    ],
    "slideshow": {
     "slide_type": "-"
    }
   },
   "outputs": [],
   "source": [
    "housing_figure.add_layout(make_recession())\n",
    "make_verticals(housing_figure)"
   ]
  },
  {
   "cell_type": "code",
   "execution_count": 61,
   "metadata": {
    "autoscroll": "json-false",
    "collapsed": false,
    "deletable": true,
    "editable": true,
    "ein.tags": [
     "worksheet-0"
    ],
    "slideshow": {
     "slide_type": "-"
    }
   },
   "outputs": [],
   "source": [
    "housing_figure.yaxis.axis_label = \"Sale Price ($1,000)\"\n",
    "housing_figure.xaxis.axis_label = \"Month\"\n",
    "housing_figure.xgrid.visible = False\n",
    "housing_figure.ygrid.visible = False"
   ]
  },
  {
   "cell_type": "markdown",
   "metadata": {
    "deletable": true,
    "editable": true,
    "ein.tags": [
     "worksheet-0"
    ],
    "slideshow": {
     "slide_type": "-"
    }
   },
   "source": [
    "As with the S & P index, the house index climbs, so it has to be moved."
   ]
  },
  {
   "cell_type": "code",
   "execution_count": 62,
   "metadata": {
    "autoscroll": "json-false",
    "collapsed": false,
    "deletable": true,
    "editable": true,
    "ein.tags": [
     "worksheet-0"
    ],
    "slideshow": {
     "slide_type": "-"
    }
   },
   "outputs": [],
   "source": [
    "housing_figure.legend.location = \"bottom_right\""
   ]
  },
  {
   "cell_type": "markdown",
   "metadata": {
    "deletable": true,
    "editable": true
   },
   "source": [
    "## The Final Plot"
   ]
  },
  {
   "cell_type": "markdown",
   "metadata": {
    "deletable": true,
    "editable": true
   },
   "source": [
    "The figures are combined into a single plot using the ``column`` function."
   ]
  },
  {
   "cell_type": "code",
   "execution_count": 63,
   "metadata": {
    "collapsed": true,
    "deletable": true,
    "editable": true
   },
   "outputs": [],
   "source": [
    "combined = column(unemployment_figure, s_and_p_figure, housing_figure)"
   ]
  },
  {
   "cell_type": "markdown",
   "metadata": {
    "deletable": true,
    "editable": true
   },
   "source": [
    "## First Save it as a Fragment to embed elsewhere"
   ]
  },
  {
   "cell_type": "markdown",
   "metadata": {
    "deletable": true,
    "editable": true
   },
   "source": [
    "The first time I tried it the javascript raised some errors. This is to see if putting it before any other plotting will help it."
   ]
  },
  {
   "cell_type": "code",
   "execution_count": 65,
   "metadata": {
    "collapsed": true,
    "deletable": true,
    "editable": true
   },
   "outputs": [],
   "source": [
    "from bokeh.resources import CDN\n",
    "from bokeh.embed import autoload_static"
   ]
  },
  {
   "cell_type": "code",
   "execution_count": 66,
   "metadata": {
    "collapsed": true,
    "deletable": true,
    "editable": true
   },
   "outputs": [],
   "source": [
    "PATH_TO_JAVASCRIPT = \"portland_unemployment.js\"\n",
    "PATH_TO_HTML = \"portland_unemployment_emed.html\""
   ]
  },
  {
   "cell_type": "code",
   "execution_count": 67,
   "metadata": {
    "collapsed": true,
    "deletable": true,
    "editable": true
   },
   "outputs": [],
   "source": [
    "plot_javascript, tag = autoload_static(combined, CDN, PATH_TO_JAVASCRIPT)"
   ]
  },
  {
   "cell_type": "code",
   "execution_count": 68,
   "metadata": {
    "collapsed": true,
    "deletable": true,
    "editable": true
   },
   "outputs": [],
   "source": [
    "with open(PATH_TO_JAVASCRIPT, \"w\") as writer:\n",
    "    writer.write(plot_javascript)"
   ]
  },
  {
   "cell_type": "code",
   "execution_count": 69,
   "metadata": {
    "collapsed": true,
    "deletable": true,
    "editable": true
   },
   "outputs": [],
   "source": [
    "with open(PATH_TO_HTML, \"w\") as writer:\n",
    "    writer.write(tag)"
   ]
  },
  {
   "cell_type": "code",
   "execution_count": 70,
   "metadata": {
    "autoscroll": "json-false",
    "collapsed": false,
    "deletable": true,
    "editable": true,
    "ein.tags": [
     "worksheet-0"
    ],
    "slideshow": {
     "slide_type": "-"
    }
   },
   "outputs": [
    {
     "data": {
      "text/html": [
       "\n",
       "\n",
       "    <div class=\"bk-root\">\n",
       "        <div class=\"bk-plotdiv\" id=\"3b515386-777e-4045-85dc-f22bf7cfd72a\"></div>\n",
       "    </div>\n",
       "<script type=\"text/javascript\">\n",
       "  \n",
       "  (function(global) {\n",
       "    function now() {\n",
       "      return new Date();\n",
       "    }\n",
       "  \n",
       "    var force = false;\n",
       "  \n",
       "    if (typeof (window._bokeh_onload_callbacks) === \"undefined\" || force === true) {\n",
       "      window._bokeh_onload_callbacks = [];\n",
       "      window._bokeh_is_loading = undefined;\n",
       "    }\n",
       "  \n",
       "  \n",
       "    \n",
       "    if (typeof (window._bokeh_timeout) === \"undefined\" || force === true) {\n",
       "      window._bokeh_timeout = Date.now() + 0;\n",
       "      window._bokeh_failed_load = false;\n",
       "    }\n",
       "  \n",
       "    var NB_LOAD_WARNING = {'data': {'text/html':\n",
       "       \"<div style='background-color: #fdd'>\\n\"+\n",
       "       \"<p>\\n\"+\n",
       "       \"BokehJS does not appear to have successfully loaded. If loading BokehJS from CDN, this \\n\"+\n",
       "       \"may be due to a slow or bad network connection. Possible fixes:\\n\"+\n",
       "       \"</p>\\n\"+\n",
       "       \"<ul>\\n\"+\n",
       "       \"<li>re-rerun `output_notebook()` to attempt to load from CDN again, or</li>\\n\"+\n",
       "       \"<li>use INLINE resources instead, as so:</li>\\n\"+\n",
       "       \"</ul>\\n\"+\n",
       "       \"<code>\\n\"+\n",
       "       \"from bokeh.resources import INLINE\\n\"+\n",
       "       \"output_notebook(resources=INLINE)\\n\"+\n",
       "       \"</code>\\n\"+\n",
       "       \"</div>\"}};\n",
       "  \n",
       "    function display_loaded() {\n",
       "      if (window.Bokeh !== undefined) {\n",
       "        var el = document.getElementById(\"3b515386-777e-4045-85dc-f22bf7cfd72a\");\n",
       "        el.textContent = \"BokehJS \" + Bokeh.version + \" successfully loaded.\";\n",
       "      } else if (Date.now() < window._bokeh_timeout) {\n",
       "        setTimeout(display_loaded, 100)\n",
       "      }\n",
       "    }\n",
       "  \n",
       "    function run_callbacks() {\n",
       "      window._bokeh_onload_callbacks.forEach(function(callback) { callback() });\n",
       "      delete window._bokeh_onload_callbacks\n",
       "      console.info(\"Bokeh: all callbacks have finished\");\n",
       "    }\n",
       "  \n",
       "    function load_libs(js_urls, callback) {\n",
       "      window._bokeh_onload_callbacks.push(callback);\n",
       "      if (window._bokeh_is_loading > 0) {\n",
       "        console.log(\"Bokeh: BokehJS is being loaded, scheduling callback at\", now());\n",
       "        return null;\n",
       "      }\n",
       "      if (js_urls == null || js_urls.length === 0) {\n",
       "        run_callbacks();\n",
       "        return null;\n",
       "      }\n",
       "      console.log(\"Bokeh: BokehJS not loaded, scheduling load and callback at\", now());\n",
       "      window._bokeh_is_loading = js_urls.length;\n",
       "      for (var i = 0; i < js_urls.length; i++) {\n",
       "        var url = js_urls[i];\n",
       "        var s = document.createElement('script');\n",
       "        s.src = url;\n",
       "        s.async = false;\n",
       "        s.onreadystatechange = s.onload = function() {\n",
       "          window._bokeh_is_loading--;\n",
       "          if (window._bokeh_is_loading === 0) {\n",
       "            console.log(\"Bokeh: all BokehJS libraries loaded\");\n",
       "            run_callbacks()\n",
       "          }\n",
       "        };\n",
       "        s.onerror = function() {\n",
       "          console.warn(\"failed to load library \" + url);\n",
       "        };\n",
       "        console.log(\"Bokeh: injecting script tag for BokehJS library: \", url);\n",
       "        document.getElementsByTagName(\"head\")[0].appendChild(s);\n",
       "      }\n",
       "    };var element = document.getElementById(\"3b515386-777e-4045-85dc-f22bf7cfd72a\");\n",
       "    if (element == null) {\n",
       "      console.log(\"Bokeh: ERROR: autoload.js configured with elementid '3b515386-777e-4045-85dc-f22bf7cfd72a' but no matching script tag was found. \")\n",
       "      return false;\n",
       "    }\n",
       "  \n",
       "    var js_urls = [];\n",
       "  \n",
       "    var inline_js = [\n",
       "      function(Bokeh) {\n",
       "        (function() {\n",
       "          var fn = function() {\n",
       "            var docs_json = {\"8ccae7c3-94a9-4f0b-b085-aa9a11d39f65\":{\"roots\":{\"references\":[{\"attributes\":{\"days\":[1,15]},\"id\":\"5de8c7e5-e52c-4ca2-9511-600b720d7d5d\",\"type\":\"DaysTicker\"},{\"attributes\":{\"max_interval\":500.0,\"num_minor_ticks\":0},\"id\":\"d7cb5e9a-9e61-444f-b6d9-625cf5e2a800\",\"type\":\"AdaptiveTicker\"},{\"attributes\":{\"months\":[0,4,8]},\"id\":\"84348bdc-79b8-4973-810a-7108d780e565\",\"type\":\"MonthsTicker\"},{\"attributes\":{\"dimension\":\"height\",\"line_color\":{\"value\":\"darkorange\"},\"location\":1243839600000.0,\"plot\":{\"id\":\"b8a368d5-488a-4fcd-8267-ed774b9270eb\",\"subtype\":\"Figure\",\"type\":\"Plot\"}},\"id\":\"051307cb-27d9-4769-a084-636c64f2e918\",\"type\":\"Span\"},{\"attributes\":{\"plot\":{\"id\":\"dbdd2fe7-fe9f-43b8-8cb2-596d7247c130\",\"subtype\":\"Figure\",\"type\":\"Plot\"}},\"id\":\"46505d45-b25d-4669-8e11-d789eb8241cd\",\"type\":\"PanTool\"},{\"attributes\":{\"months\":[0,4,8]},\"id\":\"7558d57a-e534-4c3c-acec-3e0089472398\",\"type\":\"MonthsTicker\"},{\"attributes\":{\"months\":[0,2,4,6,8,10]},\"id\":\"6c881180-bc5d-4d4d-a666-27d2822187d1\",\"type\":\"MonthsTicker\"},{\"attributes\":{\"data_source\":{\"id\":\"67b79c4a-fad8-4958-af3e-210a7431fa9a\",\"type\":\"ColumnDataSource\"},\"glyph\":{\"id\":\"d7f2d301-3633-4f37-bb4c-6a40b0c0999a\",\"type\":\"Line\"},\"hover_glyph\":null,\"muted_glyph\":null,\"nonselection_glyph\":{\"id\":\"d3d30d4c-d125-42ab-ab5f-549dae8a6a56\",\"type\":\"Line\"},\"selection_glyph\":null},\"id\":\"f25bed61-063e-4901-9695-78136f359225\",\"type\":\"GlyphRenderer\"},{\"attributes\":{\"callback\":null,\"column_names\":[\"unemployment\",\"month_label\",\"month_data\"],\"data\":{\"month_data\":{\"__ndarray__\":\"AACASa/9cEIAAMCbqQdxQgAAwLysEHFCAAAAD6cacUIAAID7TiRxQgAAwE1JLnFCAABAOvE3cUIAAICM60FxQgAAwN7lS3FCAABAy41VcUIAAIAdiF9xQgAAAAowaXFCAABAXCpzcUIAAICuJH1xQgAAQDV6hnFCAACAh3SQcUIAAAB0HJpxQgAAQMYWpHFCAADAsr6tcUIAAAAFubdxQgAAQFezwXFCAADAQ1vLcUIAAACWVdVxQgAAgIL93nFCAADA1PfocUIAAAAn8vJxQgAAAEj1+3FCAABAmu8FckIAAMCGlw9yQgAAANmRGXJCAACAxTkjckIAAMAXNC1yQgAAAGouN3JCAACAVtZAckIAAMCo0EpyQgAAQJV4VHJCAACA53JeckIAAMA5bWhyQgAAwFpwcXJCAAAArWp7ckIAAICZEoVyQgAAwOsMj3JCAABA2LSYckIAAIAqr6JyQgAAwHyprHJCAABAaVG2ckIAAIC7S8ByQgAAAKjzyXJCAABA+u3TckIAAIBM6N1yQgAAgG3r5nJCAADAv+XwckIAAECsjfpyQgAAgP6HBHNCAAAA6y8Oc0IAAEA9KhhzQgAAgI8kInNCAAAAfMwrc0IAAEDOxjVzQgAAwLpuP3NCAAAADWlJc0IAAEBfY1NzQgAAAOa4XHNCAABAOLNmc0IAAMAkW3BzQgAAAHdVenNCAACAY/2Dc0IAAMC1941zQgAAAAjyl3NCAACA9Jmhc0IAAMBGlKtzQgAAQDM8tXNCAACAhTa/c0IAAMDXMMlzQgAAwPgz0nNCAAAASy7cc0IAAIA31uVzQgAAwInQ73NCAABAdnj5c0IAAIDIcgN0QgAAwBptDXRCAABABxUXdEIAAIBZDyF0QgAAAEa3KnRCAABAmLE0dEIAAIDqqz50QgAAgAuvR3RCAADAXalRdEIAAEBKUVt0QgAAgJxLZXRCAAAAifNudEIAAEDb7Xh0QgAAgC3ognRCAAAAGpCMdEIAAEBsipZ0QgAAwFgyoHRCAAAAqyyqdEIAAED9JrR0QgAAQB4qvXRCAACAcCTHdEIAAABdzNB0QgAAQK/G2nRCAADAm27kdEIAAADuaO50QgAAQEBj+HRCAADALAsCdUIAAAB/BQx1QgAAgGutFXVCAADAvacfdUIAAAAQoil1QgAAwJb3MnVCAAAA6fE8dUIAAIDVmUZ1QgAAwCeUUHVCAABAFDxadUIAAIBmNmR1QgAAwLgwbnVCAABApdh3dUIAAID30oF1QgAAAOR6i3VCAABANnWVdUIAAICIb591Qg==\",\"dtype\":\"float64\",\"shape\":[122]},\"month_label\":[\"2007 Jan\",\"2007 Feb\",\"2007 Mar\",\"2007 Apr\",\"2007 May\",\"2007 Jun\",\"2007 Jul\",\"2007 Aug\",\"2007 Sep\",\"2007 Oct\",\"2007 Nov\",\"2007 Dec\",\"2008 Jan\",\"2008 Feb\",\"2008 Mar\",\"2008 Apr\",\"2008 May\",\"2008 Jun\",\"2008 Jul\",\"2008 Aug\",\"2008 Sep\",\"2008 Oct\",\"2008 Nov\",\"2008 Dec\",\"2009 Jan\",\"2009 Feb\",\"2009 Mar\",\"2009 Apr\",\"2009 May\",\"2009 Jun\",\"2009 Jul\",\"2009 Aug\",\"2009 Sep\",\"2009 Oct\",\"2009 Nov\",\"2009 Dec\",\"2010 Jan\",\"2010 Feb\",\"2010 Mar\",\"2010 Apr\",\"2010 May\",\"2010 Jun\",\"2010 Jul\",\"2010 Aug\",\"2010 Sep\",\"2010 Oct\",\"2010 Nov\",\"2010 Dec\",\"2011 Jan\",\"2011 Feb\",\"2011 Mar\",\"2011 Apr\",\"2011 May\",\"2011 Jun\",\"2011 Jul\",\"2011 Aug\",\"2011 Sep\",\"2011 Oct\",\"2011 Nov\",\"2011 Dec\",\"2012 Jan\",\"2012 Feb\",\"2012 Mar\",\"2012 Apr\",\"2012 May\",\"2012 Jun\",\"2012 Jul\",\"2012 Aug\",\"2012 Sep\",\"2012 Oct\",\"2012 Nov\",\"2012 Dec\",\"2013 Jan\",\"2013 Feb\",\"2013 Mar\",\"2013 Apr\",\"2013 May\",\"2013 Jun\",\"2013 Jul\",\"2013 Aug\",\"2013 Sep\",\"2013 Oct\",\"2013 Nov\",\"2013 Dec\",\"2014 Jan\",\"2014 Feb\",\"2014 Mar\",\"2014 Apr\",\"2014 May\",\"2014 Jun\",\"2014 Jul\",\"2014 Aug\",\"2014 Sep\",\"2014 Oct\",\"2014 Nov\",\"2014 Dec\",\"2015 Jan\",\"2015 Feb\",\"2015 Mar\",\"2015 Apr\",\"2015 May\",\"2015 Jun\",\"2015 Jul\",\"2015 Aug\",\"2015 Sep\",\"2015 Oct\",\"2015 Nov\",\"2015 Dec\",\"2016 Jan\",\"2016 Feb\",\"2016 Mar\",\"2016 Apr\",\"2016 May\",\"2016 Jun\",\"2016 Jul\",\"2016 Aug\",\"2016 Sep\",\"2016 Oct\",\"2016 Nov\",\"2016 Dec\",\"2017 Jan\",\"2017 Feb\"],\"unemployment\":{\"__ndarray__\":\"AAAAAAAAFECamZmZmZkTQAAAAAAAABJAMzMzMzMzEUAzMzMzMzMRQM3MzMzMzBJAmpmZmZmZE0BmZmZmZmYSQAAAAAAAABJAmpmZmZmZEUAAAAAAAAASQDMzMzMzMxNAmpmZmZmZFUDNzMzMzMwUQM3MzMzMzBRAMzMzMzMzE0DNzMzMzMwUQM3MzMzMzBZAAAAAAAAAGEBmZmZmZmYYQAAAAAAAABhAZmZmZmZmGEAAAAAAAAAaQGZmZmZmZhxAAAAAAAAAIUDNzMzMzMwhQAAAAAAAACJAMzMzMzMzIUAzMzMzMzMiQGZmZmZmZiNAZmZmZmZmI0AzMzMzMzMjQAAAAAAAACNAAAAAAAAAI0DNzMzMzMwiQGZmZmZmZiNAMzMzMzMzJUDNzMzMzMwkQGZmZmZmZiRAAAAAAAAAI0CamZmZmZkiQDMzMzMzMyNAZmZmZmZmI0AAAAAAAAAjQGZmZmZmZiJAAAAAAAAAIkCamZmZmZkiQDMzMzMzMyJAmpmZmZmZI0AAAAAAAAAjQGZmZmZmZiJAZmZmZmZmIUBmZmZmZmYhQJqZmZmZmSJAmpmZmZmZIkAzMzMzMzMiQJqZmZmZmSFAAAAAAAAAIUBmZmZmZmYgQJqZmZmZmSBAmpmZmZmZIUBmZmZmZmYhQM3MzMzMzCBAzczMzMzMHkCamZmZmZkfQM3MzMzMzCBAMzMzMzMzIUBmZmZmZmYgQGZmZmZmZh5AAAAAAAAAHkCamZmZmZkdQGZmZmZmZh5AAAAAAAAAIUAzMzMzMzMgQGZmZmZmZh5AZmZmZmZmHEAzMzMzMzMdQDMzMzMzMx9AzczMzMzMHkAzMzMzMzMdQAAAAAAAABxAAAAAAAAAHEBmZmZmZmYaQAAAAAAAABpAAAAAAAAAHEAAAAAAAAAcQDMzMzMzMxtAmpmZmZmZF0BmZmZmZmYYQDMzMzMzMxlAAAAAAAAAGkAzMzMzMzMZQM3MzMzMzBZAAAAAAAAAFkAAAAAAAAAWQJqZmZmZmRVAZmZmZmZmGEAzMzMzMzMXQGZmZmZmZhZAZmZmZmZmFEAzMzMzMzMVQAAAAAAAABZAZmZmZmZmFkDNzMzMzMwUQJqZmZmZmRNAMzMzMzMzE0AzMzMzMzMTQDMzMzMzMxNAMzMzMzMzFUDNzMzMzMwUQGZmZmZmZhRAzczMzMzMEkAAAAAAAAASQGZmZmZmZhRAZmZmZmZmFEAAAAAAAAAUQDMzMzMzMxNAzczMzMzMEkCamZmZmZkRQAAAAAAAABJAZmZmZmZmFECamZmZmZkTQA==\",\"dtype\":\"float64\",\"shape\":[122]}}},\"id\":\"67b79c4a-fad8-4958-af3e-210a7431fa9a\",\"type\":\"ColumnDataSource\"},{\"attributes\":{\"base\":24,\"mantissas\":[1,2,4,6,8,12],\"max_interval\":43200000.0,\"min_interval\":3600000.0,\"num_minor_ticks\":0},\"id\":\"825261b5-6199-48e6-81a0-aa379e418463\",\"type\":\"AdaptiveTicker\"},{\"attributes\":{\"base\":60,\"mantissas\":[1,2,5,10,15,20,30],\"max_interval\":1800000.0,\"min_interval\":1000.0,\"num_minor_ticks\":0},\"id\":\"bf95d249-193d-4cda-af83-fa919fe39dc2\",\"type\":\"AdaptiveTicker\"},{\"attributes\":{\"months\":[0,2,4,6,8,10]},\"id\":\"f00248fb-22b1-49d2-81a7-0a6715d2bec3\",\"type\":\"MonthsTicker\"},{\"attributes\":{\"line_alpha\":{\"value\":0.1},\"line_color\":{\"value\":\"#1f77b4\"},\"x\":{\"field\":\"month_data\"},\"y\":{\"field\":\"unemployment\"}},\"id\":\"d3d30d4c-d125-42ab-ab5f-549dae8a6a56\",\"type\":\"Line\"},{\"attributes\":{},\"id\":\"4d5e69d4-195b-43c0-97c5-68344fd03007\",\"type\":\"BasicTickFormatter\"},{\"attributes\":{\"plot\":{\"id\":\"dbdd2fe7-fe9f-43b8-8cb2-596d7247c130\",\"subtype\":\"Figure\",\"type\":\"Plot\"}},\"id\":\"80fa3b04-e26b-4715-a541-688816c3eafd\",\"type\":\"CrosshairTool\"},{\"attributes\":{\"plot\":{\"id\":\"69429a4b-9139-4757-bc09-531917981616\",\"subtype\":\"Figure\",\"type\":\"Plot\"}},\"id\":\"2027e800-fb1e-47b7-b0fd-e168940cfb66\",\"type\":\"SaveTool\"},{\"attributes\":{\"months\":[0,1,2,3,4,5,6,7,8,9,10,11]},\"id\":\"6c00de95-c0d3-4fca-9a77-62e125b09eb8\",\"type\":\"MonthsTicker\"},{\"attributes\":{\"plot\":{\"id\":\"b8a368d5-488a-4fcd-8267-ed774b9270eb\",\"subtype\":\"Figure\",\"type\":\"Plot\"}},\"id\":\"e674d97e-22e6-4a8a-b458-427fed5cf52f\",\"type\":\"ResizeTool\"},{\"attributes\":{\"line_alpha\":{\"value\":0.1},\"line_color\":{\"value\":\"#1f77b4\"},\"x\":{\"field\":\"month_data\"},\"y\":{\"field\":\"value\"}},\"id\":\"a38857d5-85bd-4a94-80d8-6bbc89a97345\",\"type\":\"Line\"},{\"attributes\":{},\"id\":\"9e4a8d91-4161-4a29-b21c-f39c7ea5367d\",\"type\":\"BasicTickFormatter\"},{\"attributes\":{},\"id\":\"cb6e9528-2ed7-43b9-8e47-cc4217639720\",\"type\":\"BasicTicker\"},{\"attributes\":{\"days\":[1,4,7,10,13,16,19,22,25,28]},\"id\":\"a7105567-2913-434c-b11d-f16191a1ecd1\",\"type\":\"DaysTicker\"},{\"attributes\":{\"active_drag\":\"auto\",\"active_scroll\":\"auto\",\"active_tap\":\"auto\",\"tools\":[{\"id\":\"8473dda4-bfa8-4f29-b341-5dca14817c57\",\"type\":\"HoverTool\"},{\"id\":\"637ee9ce-3af0-4930-978b-dd4a2c552caa\",\"type\":\"CrosshairTool\"},{\"id\":\"5aeec116-c3bd-415d-b823-b7a0fa0579e6\",\"type\":\"PanTool\"},{\"id\":\"a9f76a59-656d-491d-b6d9-9f2ddcc1f436\",\"type\":\"ResetTool\"},{\"id\":\"030fc25a-1552-4a00-85e6-e84f9d693fd4\",\"type\":\"ResizeTool\"},{\"id\":\"2027e800-fb1e-47b7-b0fd-e168940cfb66\",\"type\":\"SaveTool\"},{\"id\":\"6f4c4380-49b4-42c7-a318-a72450b4392a\",\"type\":\"UndoTool\"},{\"id\":\"10caec6c-2a3a-4efe-953c-96beb3322e40\",\"type\":\"WheelZoomTool\"}]},\"id\":\"a814d8d8-e8db-4329-ba0d-f03415c511f9\",\"type\":\"Toolbar\"},{\"attributes\":{\"plot\":{\"id\":\"dbdd2fe7-fe9f-43b8-8cb2-596d7247c130\",\"subtype\":\"Figure\",\"type\":\"Plot\"}},\"id\":\"21c0d3fb-cbf8-4432-847a-dd608e040ea5\",\"type\":\"ResetTool\"},{\"attributes\":{\"dimension\":1,\"plot\":{\"id\":\"b8a368d5-488a-4fcd-8267-ed774b9270eb\",\"subtype\":\"Figure\",\"type\":\"Plot\"},\"ticker\":{\"id\":\"1f3f26a9-3c12-4419-9de8-3b9432e00eeb\",\"type\":\"BasicTicker\"},\"visible\":false},\"id\":\"2c4c8097-86da-431e-8b61-6d4d9fe36f70\",\"type\":\"Grid\"},{\"attributes\":{\"plot\":{\"id\":\"69429a4b-9139-4757-bc09-531917981616\",\"subtype\":\"Figure\",\"type\":\"Plot\"}},\"id\":\"5aeec116-c3bd-415d-b823-b7a0fa0579e6\",\"type\":\"PanTool\"},{\"attributes\":{\"max_interval\":500.0,\"num_minor_ticks\":0},\"id\":\"b4fc5d81-249d-4202-a7ee-18c6565da12d\",\"type\":\"AdaptiveTicker\"},{\"attributes\":{\"callback\":null,\"column_names\":[\"unemployment\",\"month_label\",\"month_data\"],\"data\":{\"month_data\":{\"__ndarray__\":\"AACASa/9cEIAAMCbqQdxQgAAwLysEHFCAAAAD6cacUIAAID7TiRxQgAAwE1JLnFCAABAOvE3cUIAAICM60FxQgAAwN7lS3FCAABAy41VcUIAAIAdiF9xQgAAAAowaXFCAABAXCpzcUIAAICuJH1xQgAAQDV6hnFCAACAh3SQcUIAAAB0HJpxQgAAQMYWpHFCAADAsr6tcUIAAAAFubdxQgAAQFezwXFCAADAQ1vLcUIAAACWVdVxQgAAgIL93nFCAADA1PfocUIAAAAn8vJxQgAAAEj1+3FCAABAmu8FckIAAMCGlw9yQgAAANmRGXJCAACAxTkjckIAAMAXNC1yQgAAAGouN3JCAACAVtZAckIAAMCo0EpyQgAAQJV4VHJCAACA53JeckIAAMA5bWhyQgAAwFpwcXJCAAAArWp7ckIAAICZEoVyQgAAwOsMj3JCAABA2LSYckIAAIAqr6JyQgAAwHyprHJCAABAaVG2ckIAAIC7S8ByQgAAAKjzyXJCAABA+u3TckIAAIBM6N1yQgAAgG3r5nJCAADAv+XwckIAAECsjfpyQgAAgP6HBHNCAAAA6y8Oc0IAAEA9KhhzQgAAgI8kInNCAAAAfMwrc0IAAEDOxjVzQgAAwLpuP3NCAAAADWlJc0IAAEBfY1NzQgAAAOa4XHNCAABAOLNmc0IAAMAkW3BzQgAAAHdVenNCAACAY/2Dc0IAAMC1941zQgAAAAjyl3NCAACA9Jmhc0IAAMBGlKtzQgAAQDM8tXNCAACAhTa/c0IAAMDXMMlzQgAAwPgz0nNCAAAASy7cc0IAAIA31uVzQgAAwInQ73NCAABAdnj5c0IAAIDIcgN0QgAAwBptDXRCAABABxUXdEIAAIBZDyF0QgAAAEa3KnRCAABAmLE0dEIAAIDqqz50QgAAgAuvR3RCAADAXalRdEIAAEBKUVt0QgAAgJxLZXRCAAAAifNudEIAAEDb7Xh0QgAAgC3ognRCAAAAGpCMdEIAAEBsipZ0QgAAwFgyoHRCAAAAqyyqdEIAAED9JrR0QgAAQB4qvXRCAACAcCTHdEIAAABdzNB0QgAAQK/G2nRCAADAm27kdEIAAADuaO50QgAAQEBj+HRCAADALAsCdUIAAAB/BQx1QgAAgGutFXVCAADAvacfdUIAAAAQoil1QgAAwJb3MnVCAAAA6fE8dUIAAIDVmUZ1QgAAwCeUUHVCAABAFDxadUIAAIBmNmR1QgAAwLgwbnVCAABApdh3dUIAAID30oF1QgAAAOR6i3VCAABANnWVdUIAAICIb591Qg==\",\"dtype\":\"float64\",\"shape\":[122]},\"month_label\":[\"2007 Jan\",\"2007 Feb\",\"2007 Mar\",\"2007 Apr\",\"2007 May\",\"2007 Jun\",\"2007 Jul\",\"2007 Aug\",\"2007 Sep\",\"2007 Oct\",\"2007 Nov\",\"2007 Dec\",\"2008 Jan\",\"2008 Feb\",\"2008 Mar\",\"2008 Apr\",\"2008 May\",\"2008 Jun\",\"2008 Jul\",\"2008 Aug\",\"2008 Sep\",\"2008 Oct\",\"2008 Nov\",\"2008 Dec\",\"2009 Jan\",\"2009 Feb\",\"2009 Mar\",\"2009 Apr\",\"2009 May\",\"2009 Jun\",\"2009 Jul\",\"2009 Aug\",\"2009 Sep\",\"2009 Oct\",\"2009 Nov\",\"2009 Dec\",\"2010 Jan\",\"2010 Feb\",\"2010 Mar\",\"2010 Apr\",\"2010 May\",\"2010 Jun\",\"2010 Jul\",\"2010 Aug\",\"2010 Sep\",\"2010 Oct\",\"2010 Nov\",\"2010 Dec\",\"2011 Jan\",\"2011 Feb\",\"2011 Mar\",\"2011 Apr\",\"2011 May\",\"2011 Jun\",\"2011 Jul\",\"2011 Aug\",\"2011 Sep\",\"2011 Oct\",\"2011 Nov\",\"2011 Dec\",\"2012 Jan\",\"2012 Feb\",\"2012 Mar\",\"2012 Apr\",\"2012 May\",\"2012 Jun\",\"2012 Jul\",\"2012 Aug\",\"2012 Sep\",\"2012 Oct\",\"2012 Nov\",\"2012 Dec\",\"2013 Jan\",\"2013 Feb\",\"2013 Mar\",\"2013 Apr\",\"2013 May\",\"2013 Jun\",\"2013 Jul\",\"2013 Aug\",\"2013 Sep\",\"2013 Oct\",\"2013 Nov\",\"2013 Dec\",\"2014 Jan\",\"2014 Feb\",\"2014 Mar\",\"2014 Apr\",\"2014 May\",\"2014 Jun\",\"2014 Jul\",\"2014 Aug\",\"2014 Sep\",\"2014 Oct\",\"2014 Nov\",\"2014 Dec\",\"2015 Jan\",\"2015 Feb\",\"2015 Mar\",\"2015 Apr\",\"2015 May\",\"2015 Jun\",\"2015 Jul\",\"2015 Aug\",\"2015 Sep\",\"2015 Oct\",\"2015 Nov\",\"2015 Dec\",\"2016 Jan\",\"2016 Feb\",\"2016 Mar\",\"2016 Apr\",\"2016 May\",\"2016 Jun\",\"2016 Jul\",\"2016 Aug\",\"2016 Sep\",\"2016 Oct\",\"2016 Nov\",\"2016 Dec\",\"2017 Jan\",\"2017 Feb\"],\"unemployment\":{\"__ndarray__\":\"mpmZmZmZFUAAAAAAAAAWQDMzMzMzMxVAAAAAAAAAFEDNzMzMzMwSQJqZmZmZmRNAAAAAAAAAFEBmZmZmZmYUQGZmZmZmZhJAZmZmZmZmEkDNzMzMzMwSQDMzMzMzMxNAAAAAAAAAFkAAAAAAAAAWQJqZmZmZmRVAZmZmZmZmFEBmZmZmZmYUQGZmZmZmZhZAmpmZmZmZF0AzMzMzMzMZQAAAAAAAABhAzczMzMzMGkCamZmZmZkdQJqZmZmZmSBAmpmZmZmZI0CamZmZmZklQJqZmZmZmSZAZmZmZmZmJkAzMzMzMzMmQM3MzMzMzCZAmpmZmZmZJkBmZmZmZmYmQDMzMzMzMyVAZmZmZmZmJUAAAAAAAAAlQJqZmZmZmSVAzczMzMzMJkCamZmZmZkmQJqZmZmZmSZAMzMzMzMzJUBmZmZmZmYkQJqZmZmZmSRAMzMzMzMzJEAAAAAAAAAkQAAAAAAAACNAzczMzMzMIkAzMzMzMzMjQJqZmZmZmSJAAAAAAAAAJECamZmZmZkjQAAAAAAAACNAzczMzMzMIUCamZmZmZkhQDMzMzMzMyJAAAAAAAAAIkAAAAAAAAAiQAAAAAAAACFAAAAAAAAAIUCamZmZmZkgQDMzMzMzMyBAZmZmZmZmIUBmZmZmZmYhQAAAAAAAACFAmpmZmZmZH0DNzMzMzMweQDMzMzMzMyBAZmZmZmZmIEAAAAAAAAAgQJqZmZmZmR1AAAAAAAAAHkCamZmZmZkdQGZmZmZmZh5AzczMzMzMIEAzMzMzMzMgQM3MzMzMzB5AzczMzMzMHEAAAAAAAAAcQJqZmZmZmR1AMzMzMzMzHUAAAAAAAAAcQJqZmZmZmRlAZmZmZmZmGkCamZmZmZkZQDMzMzMzMxlAMzMzMzMzG0AAAAAAAAAcQDMzMzMzMxtAAAAAAAAAGEAAAAAAAAAYQM3MzMzMzBhAmpmZmZmZGUAzMzMzMzMZQM3MzMzMzBZAzczMzMzMFkDNzMzMzMwWQDMzMzMzMxVAMzMzMzMzF0DNzMzMzMwWQAAAAAAAABZAzczMzMzMFEAzMzMzMzMVQAAAAAAAABZAZmZmZmZmFkAzMzMzMzMVQJqZmZmZmRNAMzMzMzMzE0DNzMzMzMwSQGZmZmZmZhJAmpmZmZmZE0CamZmZmZkTQJqZmZmZmRNAZmZmZmZmEkAAAAAAAAASQGZmZmZmZhRAZmZmZmZmFEAAAAAAAAAUQAAAAAAAABJAAAAAAAAAEkDNzMzMzMwQQAAAAAAAABBAzczMzMzMEEAzMzMzMzMPQA==\",\"dtype\":\"float64\",\"shape\":[122]}}},\"id\":\"9613b378-a88e-41bb-b899-e5752a26007e\",\"type\":\"ColumnDataSource\"},{\"attributes\":{\"callback\":null},\"id\":\"34031168-64d2-4e04-9975-a7df01015b21\",\"type\":\"DataRange1d\"},{\"attributes\":{\"line_color\":{\"value\":\"#D89159\"},\"x\":{\"field\":\"month_data\"},\"y\":{\"field\":\"price\"}},\"id\":\"8973af5f-6a10-487d-89c5-e02c45f990cf\",\"type\":\"Line\"},{\"attributes\":{\"callback\":null},\"id\":\"086435bd-99fd-44de-aef5-101d25138059\",\"type\":\"DataRange1d\"},{\"attributes\":{\"plot\":{\"id\":\"69429a4b-9139-4757-bc09-531917981616\",\"subtype\":\"Figure\",\"type\":\"Plot\"}},\"id\":\"10caec6c-2a3a-4efe-953c-96beb3322e40\",\"type\":\"WheelZoomTool\"},{\"attributes\":{\"days\":[1,8,15,22]},\"id\":\"bfb24916-f798-49b4-b9aa-6a810e274d0d\",\"type\":\"DaysTicker\"},{\"attributes\":{\"months\":[0,1,2,3,4,5,6,7,8,9,10,11]},\"id\":\"1fe6c585-7e3c-49f4-b5e5-dfeff9d7c873\",\"type\":\"MonthsTicker\"},{\"attributes\":{\"plot\":{\"id\":\"dbdd2fe7-fe9f-43b8-8cb2-596d7247c130\",\"subtype\":\"Figure\",\"type\":\"Plot\"}},\"id\":\"980d40c4-8163-4120-879b-c92acaff496d\",\"type\":\"WheelZoomTool\"},{\"attributes\":{},\"id\":\"2c46eed2-ca18-4f6f-8afd-7bcfea354e8f\",\"type\":\"BasicTickFormatter\"},{\"attributes\":{\"dimension\":\"height\",\"line_color\":{\"value\":\"crimson\"},\"location\":1235894400000.0,\"plot\":{\"id\":\"b8a368d5-488a-4fcd-8267-ed774b9270eb\",\"subtype\":\"Figure\",\"type\":\"Plot\"}},\"id\":\"fb33cc07-ccb9-4c7e-b72c-1d6238c6efdf\",\"type\":\"Span\"},{\"attributes\":{\"plot\":{\"id\":\"b8a368d5-488a-4fcd-8267-ed774b9270eb\",\"subtype\":\"Figure\",\"type\":\"Plot\"}},\"id\":\"5a11bd02-f5b4-4798-8a78-d8770e24afbd\",\"type\":\"CrosshairTool\"},{\"attributes\":{\"plot\":{\"id\":\"dbdd2fe7-fe9f-43b8-8cb2-596d7247c130\",\"subtype\":\"Figure\",\"type\":\"Plot\"}},\"id\":\"dd4462d0-2b14-42c6-8b79-e04974ff7c9a\",\"type\":\"ResizeTool\"},{\"attributes\":{\"days\":[1,2,3,4,5,6,7,8,9,10,11,12,13,14,15,16,17,18,19,20,21,22,23,24,25,26,27,28,29,30,31]},\"id\":\"75031386-bbe4-4f7e-b847-625474a23b68\",\"type\":\"DaysTicker\"},{\"attributes\":{\"months\":[0,2,4,6,8,10]},\"id\":\"862a2644-fb3f-4683-9c53-b9e48fa08c34\",\"type\":\"MonthsTicker\"},{\"attributes\":{\"num_minor_ticks\":5},\"id\":\"bdd06465-d6fc-4244-803f-c8238b65d529\",\"type\":\"DatetimeTicker\"},{\"attributes\":{},\"id\":\"546cad5f-9928-412f-8678-b6be8b7b478b\",\"type\":\"DatetimeTickFormatter\"},{\"attributes\":{\"dimension\":\"height\",\"line_color\":{\"value\":\"crimson\"},\"location\":1235894400000.0,\"plot\":{\"id\":\"69429a4b-9139-4757-bc09-531917981616\",\"subtype\":\"Figure\",\"type\":\"Plot\"}},\"id\":\"9d4a6206-6941-4630-a789-e13b36e20251\",\"type\":\"Span\"},{\"attributes\":{\"plot\":null,\"text\":\"House Price Index\"},\"id\":\"4fc4aaf6-6837-4406-881c-735240ef3b38\",\"type\":\"Title\"},{\"attributes\":{\"data_source\":{\"id\":\"09edbbf0-65ee-4b84-a70e-c4ed8cbf7460\",\"type\":\"ColumnDataSource\"},\"glyph\":{\"id\":\"9c57c72b-18fd-4ffd-a416-b1460b0fe1a5\",\"type\":\"Line\"},\"hover_glyph\":null,\"muted_glyph\":null,\"nonselection_glyph\":{\"id\":\"a38857d5-85bd-4a94-80d8-6bbc89a97345\",\"type\":\"Line\"},\"selection_glyph\":null},\"id\":\"7c24b85b-37fa-474d-8204-7ab2c583bb5a\",\"type\":\"GlyphRenderer\"},{\"attributes\":{\"dimension\":\"height\",\"line_color\":{\"value\":\"grey\"},\"location\":1262332800000.0,\"plot\":{\"id\":\"dbdd2fe7-fe9f-43b8-8cb2-596d7247c130\",\"subtype\":\"Figure\",\"type\":\"Plot\"}},\"id\":\"8cd530e8-6cf0-4a0c-a4f4-60b4643e76a5\",\"type\":\"Span\"},{\"attributes\":{\"axis_label\":\"% Unemployment\",\"formatter\":{\"id\":\"2c46eed2-ca18-4f6f-8afd-7bcfea354e8f\",\"type\":\"BasicTickFormatter\"},\"plot\":{\"id\":\"69429a4b-9139-4757-bc09-531917981616\",\"subtype\":\"Figure\",\"type\":\"Plot\"},\"ticker\":{\"id\":\"d72f6fb8-d620-40fc-8798-3a556b47a9a2\",\"type\":\"BasicTicker\"}},\"id\":\"9a37f52a-8253-4f9f-a614-31ca7ec3593c\",\"type\":\"LinearAxis\"},{\"attributes\":{\"axis_label\":\"Month\",\"formatter\":{\"id\":\"546cad5f-9928-412f-8678-b6be8b7b478b\",\"type\":\"DatetimeTickFormatter\"},\"plot\":{\"id\":\"b8a368d5-488a-4fcd-8267-ed774b9270eb\",\"subtype\":\"Figure\",\"type\":\"Plot\"},\"ticker\":{\"id\":\"65b6d50c-7f7a-4b63-b15d-72d94c906a5d\",\"type\":\"DatetimeTicker\"}},\"id\":\"eb2833ac-deb0-49f9-b62a-f4f6df21238a\",\"type\":\"DatetimeAxis\"},{\"attributes\":{\"callback\":null,\"column_names\":[\"month_label\",\"price\",\"month_data\"],\"data\":{\"month_data\":{\"__ndarray__\":\"AACASa/9cEIAAMCbqQdxQgAAwLysEHFCAAAAD6cacUIAAID7TiRxQgAAwE1JLnFCAABAOvE3cUIAAICM60FxQgAAwN7lS3FCAABAy41VcUIAAIAdiF9xQgAAAAowaXFCAABAXCpzcUIAAICuJH1xQgAAQDV6hnFCAACAh3SQcUIAAAB0HJpxQgAAQMYWpHFCAADAsr6tcUIAAAAFubdxQgAAQFezwXFCAADAQ1vLcUIAAACWVdVxQgAAgIL93nFCAADA1PfocUIAAAAn8vJxQgAAAEj1+3FCAABAmu8FckIAAMCGlw9yQgAAANmRGXJCAACAxTkjckIAAMAXNC1yQgAAAGouN3JCAACAVtZAckIAAMCo0EpyQgAAQJV4VHJCAACA53JeckIAAMA5bWhyQgAAwFpwcXJCAAAArWp7ckIAAICZEoVyQgAAwOsMj3JCAABA2LSYckIAAIAqr6JyQgAAwHyprHJCAABAaVG2ckIAAIC7S8ByQgAAAKjzyXJCAABA+u3TckIAAIBM6N1yQgAAgG3r5nJCAADAv+XwckIAAECsjfpyQgAAgP6HBHNCAAAA6y8Oc0IAAEA9KhhzQgAAgI8kInNCAAAAfMwrc0IAAEDOxjVzQgAAwLpuP3NCAAAADWlJc0IAAEBfY1NzQgAAAOa4XHNCAABAOLNmc0IAAMAkW3BzQgAAAHdVenNCAACAY/2Dc0IAAMC1941zQgAAAAjyl3NCAACA9Jmhc0IAAMBGlKtzQgAAQDM8tXNCAACAhTa/c0IAAMDXMMlzQgAAwPgz0nNCAAAASy7cc0IAAIA31uVzQgAAwInQ73NCAABAdnj5c0IAAIDIcgN0QgAAwBptDXRCAABABxUXdEIAAIBZDyF0QgAAAEa3KnRCAABAmLE0dEIAAIDqqz50QgAAgAuvR3RCAADAXalRdEIAAEBKUVt0QgAAgJxLZXRCAAAAifNudEIAAEDb7Xh0QgAAgC3ognRCAAAAGpCMdEIAAEBsipZ0QgAAwFgyoHRCAAAAqyyqdEIAAED9JrR0QgAAQB4qvXRCAACAcCTHdEIAAABdzNB0QgAAQK/G2nRCAADAm27kdEIAAADuaO50QgAAQEBj+HRCAADALAsCdUIAAAB/BQx1QgAAgGutFXVCAADAvacfdUIAAAAQoil1QgAAwJb3MnVCAAAA6fE8dUIAAIDVmUZ1QgAAwCeUUHVCAABAFDxadUIAAIBmNmR1QgAAwLgwbnVCAABApdh3dUIAAID30oF1QgAAAOR6i3VCAABANnWVdUIAAICIb591Qg==\",\"dtype\":\"float64\",\"shape\":[122]},\"month_label\":[\"2007 Jan\",\"2007 Feb\",\"2007 Mar\",\"2007 Apr\",\"2007 May\",\"2007 Jun\",\"2007 Jul\",\"2007 Aug\",\"2007 Sep\",\"2007 Oct\",\"2007 Nov\",\"2007 Dec\",\"2008 Jan\",\"2008 Feb\",\"2008 Mar\",\"2008 Apr\",\"2008 May\",\"2008 Jun\",\"2008 Jul\",\"2008 Aug\",\"2008 Sep\",\"2008 Oct\",\"2008 Nov\",\"2008 Dec\",\"2009 Jan\",\"2009 Feb\",\"2009 Mar\",\"2009 Apr\",\"2009 May\",\"2009 Jun\",\"2009 Jul\",\"2009 Aug\",\"2009 Sep\",\"2009 Oct\",\"2009 Nov\",\"2009 Dec\",\"2010 Jan\",\"2010 Feb\",\"2010 Mar\",\"2010 Apr\",\"2010 May\",\"2010 Jun\",\"2010 Jul\",\"2010 Aug\",\"2010 Sep\",\"2010 Oct\",\"2010 Nov\",\"2010 Dec\",\"2011 Jan\",\"2011 Feb\",\"2011 Mar\",\"2011 Apr\",\"2011 May\",\"2011 Jun\",\"2011 Jul\",\"2011 Aug\",\"2011 Sep\",\"2011 Oct\",\"2011 Nov\",\"2011 Dec\",\"2012 Jan\",\"2012 Feb\",\"2012 Mar\",\"2012 Apr\",\"2012 May\",\"2012 Jun\",\"2012 Jul\",\"2012 Aug\",\"2012 Sep\",\"2012 Oct\",\"2012 Nov\",\"2012 Dec\",\"2013 Jan\",\"2013 Feb\",\"2013 Mar\",\"2013 Apr\",\"2013 May\",\"2013 Jun\",\"2013 Jul\",\"2013 Aug\",\"2013 Sep\",\"2013 Oct\",\"2013 Nov\",\"2013 Dec\",\"2014 Jan\",\"2014 Feb\",\"2014 Mar\",\"2014 Apr\",\"2014 May\",\"2014 Jun\",\"2014 Jul\",\"2014 Aug\",\"2014 Sep\",\"2014 Oct\",\"2014 Nov\",\"2014 Dec\",\"2015 Jan\",\"2015 Feb\",\"2015 Mar\",\"2015 Apr\",\"2015 May\",\"2015 Jun\",\"2015 Jul\",\"2015 Aug\",\"2015 Sep\",\"2015 Oct\",\"2015 Nov\",\"2015 Dec\",\"2016 Jan\",\"2016 Feb\",\"2016 Mar\",\"2016 Apr\",\"2016 May\",\"2016 Jun\",\"2016 Jul\",\"2016 Aug\",\"2016 Sep\",\"2016 Oct\",\"2016 Nov\",\"2016 Dec\",\"2017 Jan\",\"2017 Feb\"],\"price\":{\"__ndarray__\":\"AAAAAAAA+H/sUbgehStsQHE9CtejUGxAAAAAAABQbEDNzMzMzCxsQOxRuB6FE2xACtejcD3ya0CkcD0K19NrQFyPwvUotGtAzczMzMx8a0D2KFyPwk1rQIXrUbgeLWtASOF6FK7vakAAAAAAAMhqQKRwPQrXi2pAcT0K16NAakCuR+F6FPZpQFyPwvUozGlAUrgeheuRaUAUrkfhelRpQMP1KFyPGmlAZmZmZmbeaECuR+F6FG5oQI/C9ShcX2hAH4XrUbieaEDXo3A9CqdoQHE9CtejWGhAAAAAAAA4aEDhehSuRyloQGZmZmZmJmhAFK5H4XoUaEAAAAAAAAhoQGZmZmZmBmhAMzMzMzMTaEDhehSuRyFoQJqZmZmZ4WdAMzMzMzPrZ0CkcD0K18tnQM3MzMzMzGdAUrgehevRZ0CkcD0K19NnQLgehetRkGdA7FG4HoVrZ0A9CtejcGVnQPYoXI/CLWdAFK5H4Xo0Z0BI4XoUrh9nQK5H4XoU9mZAZmZmZmbeZkA9CtejcJ1mQOF6FK5HaWZA9ihcj8J1ZkDXo3A9CmdmQFyPwvUofGZArkfhehSOZkAK16NwPXpmQNejcD0Kn2ZAw/UoXI96ZkA9CtejcJVmQFK4HoXrqWZA16NwPQqXZkBI4XoUrqdmQKRwPQrX22ZASOF6FK7/ZkAK16NwPSJnQJqZmZmZOWdApHA9CtdDZ0BI4XoUrmdnQDMzMzMzg2dAPQrXo3ClZ0B7FK5H4cJnQLgehetR4GdAMzMzMzMLaEAK16NwPTJoQHsUrkfhemhApHA9CtebaEApXI/C9dBoQHE9Ctej+GhAUrgeheshaUBSuB6F6zlpQJqZmZmZWWlAFK5H4Xp0aUCuR+F6FHZpQOF6FK5HmWlA9ihcj8K9aUD2KFyPwtVpQHE9Ctej8GlAzczMzMwEakDsUbgehRNqQLgehetRMGpA9ihcj8JNakDNzMzMzGxqQKRwPQrXe2pAZmZmZmaeakA9CtejcL1qQM3MzMzM9GpACtejcD0Ca0BmZmZmZi5rQFyPwvUoTGtAAAAAAABwa0DNzMzMzJRrQB+F61G4rmtAzczMzMzMa0A9CtejcN1rQPYoXI/CFWxArkfhehQ2bEAzMzMzM2NsQK5H4XoUhmxAzczMzMysbEAAAAAAAMBsQK5H4XoUBm1ACtejcD0abUBmZmZmZjZtQBSuR+F6VG1AmpmZmZl5bUBmZmZmZq5tQB+F61G45m1AMzMzMzP7bUApXI/C9TBuQM3MzMzMTG5AXI/C9ShcbkCamZmZmZluQA==\",\"dtype\":\"float64\",\"shape\":[122]}}},\"id\":\"83a034f3-080f-407c-818f-49c02106d7b9\",\"type\":\"ColumnDataSource\"},{\"attributes\":{\"plot\":{\"id\":\"b8a368d5-488a-4fcd-8267-ed774b9270eb\",\"subtype\":\"Figure\",\"type\":\"Plot\"}},\"id\":\"cf94a093-3b1a-496f-990c-c2c3d84586f6\",\"type\":\"WheelZoomTool\"},{\"attributes\":{\"below\":[{\"id\":\"eb2833ac-deb0-49f9-b62a-f4f6df21238a\",\"type\":\"DatetimeAxis\"}],\"left\":[{\"id\":\"2726eea2-cd8a-4fd4-b53d-e789104eee25\",\"type\":\"LinearAxis\"}],\"plot_height\":300,\"renderers\":[{\"id\":\"eb2833ac-deb0-49f9-b62a-f4f6df21238a\",\"type\":\"DatetimeAxis\"},{\"id\":\"8c7db04e-ed76-4e6a-bd37-162b488b67c7\",\"type\":\"Grid\"},{\"id\":\"2726eea2-cd8a-4fd4-b53d-e789104eee25\",\"type\":\"LinearAxis\"},{\"id\":\"2c4c8097-86da-431e-8b61-6d4d9fe36f70\",\"type\":\"Grid\"},{\"id\":\"4f445ea8-2b5b-468d-bd89-0317ae93e1a1\",\"type\":\"GlyphRenderer\"},{\"id\":\"d326c114-874e-4549-ac05-9c4edd99bbbd\",\"type\":\"BoxAnnotation\"},{\"id\":\"051307cb-27d9-4769-a084-636c64f2e918\",\"type\":\"Span\"},{\"id\":\"fb33cc07-ccb9-4c7e-b72c-1d6238c6efdf\",\"type\":\"Span\"},{\"id\":\"55d34289-2784-4f71-be5e-8b6c836e4e99\",\"type\":\"Span\"},{\"id\":\"b680ea58-870a-491a-ba36-ff1f52833db1\",\"type\":\"Span\"}],\"title\":{\"id\":\"4fc4aaf6-6837-4406-881c-735240ef3b38\",\"type\":\"Title\"},\"tool_events\":{\"id\":\"35d15ea3-6137-4456-8a03-ca20329314f3\",\"type\":\"ToolEvents\"},\"toolbar\":{\"id\":\"42de0f1a-abdb-4ea7-b843-949ebc3e35e2\",\"type\":\"Toolbar\"},\"x_range\":{\"id\":\"15fdb2fa-a0d0-4dac-8f2f-d54eeba66ae3\",\"type\":\"DataRange1d\"},\"y_range\":{\"id\":\"34031168-64d2-4e04-9975-a7df01015b21\",\"type\":\"DataRange1d\"}},\"id\":\"b8a368d5-488a-4fcd-8267-ed774b9270eb\",\"subtype\":\"Figure\",\"type\":\"Plot\"},{\"attributes\":{\"axis_label\":\"Month\",\"formatter\":{\"id\":\"5fa50317-abee-4dd4-8626-404f31011309\",\"type\":\"DatetimeTickFormatter\"},\"plot\":{\"id\":\"dbdd2fe7-fe9f-43b8-8cb2-596d7247c130\",\"subtype\":\"Figure\",\"type\":\"Plot\"},\"ticker\":{\"id\":\"50cc2159-08f4-4c7f-bc58-21269d28d9b8\",\"type\":\"DatetimeTicker\"}},\"id\":\"77622fa1-2a10-4b42-9dfa-a3332401df86\",\"type\":\"DatetimeAxis\"},{\"attributes\":{\"dimension\":\"height\",\"line_color\":{\"value\":\"limegreen\"},\"location\":1304233200000.0,\"plot\":{\"id\":\"dbdd2fe7-fe9f-43b8-8cb2-596d7247c130\",\"subtype\":\"Figure\",\"type\":\"Plot\"}},\"id\":\"a3c4f423-9387-4e8f-987b-18e170201ef2\",\"type\":\"Span\"},{\"attributes\":{\"dimension\":1,\"plot\":{\"id\":\"69429a4b-9139-4757-bc09-531917981616\",\"subtype\":\"Figure\",\"type\":\"Plot\"},\"ticker\":{\"id\":\"d72f6fb8-d620-40fc-8798-3a556b47a9a2\",\"type\":\"BasicTicker\"},\"visible\":false},\"id\":\"c5d0abe0-a8bd-4cae-b8c8-c11fa980af4f\",\"type\":\"Grid\"},{\"attributes\":{\"below\":[{\"id\":\"c0d72635-b60f-44c4-b73d-22d07a537508\",\"type\":\"DatetimeAxis\"}],\"left\":[{\"id\":\"9a37f52a-8253-4f9f-a614-31ca7ec3593c\",\"type\":\"LinearAxis\"}],\"plot_height\":300,\"renderers\":[{\"id\":\"c0d72635-b60f-44c4-b73d-22d07a537508\",\"type\":\"DatetimeAxis\"},{\"id\":\"3c6c7095-66cd-41b6-9707-cd7f22e277b4\",\"type\":\"Grid\"},{\"id\":\"9a37f52a-8253-4f9f-a614-31ca7ec3593c\",\"type\":\"LinearAxis\"},{\"id\":\"c5d0abe0-a8bd-4cae-b8c8-c11fa980af4f\",\"type\":\"Grid\"},{\"id\":\"1580f107-5741-4348-8aba-6d5fb57777a5\",\"type\":\"Legend\"},{\"id\":\"38c3e727-5537-4b5a-9460-a7031c30222e\",\"type\":\"GlyphRenderer\"},{\"id\":\"f25bed61-063e-4901-9695-78136f359225\",\"type\":\"GlyphRenderer\"},{\"id\":\"0b6e260c-f4ba-47ed-b66c-f384ecd49076\",\"type\":\"BoxAnnotation\"},{\"id\":\"923f8dfd-aadc-4852-85a1-d2b4e56def2a\",\"type\":\"Span\"},{\"id\":\"9d4a6206-6941-4630-a789-e13b36e20251\",\"type\":\"Span\"},{\"id\":\"d69e6f79-69ba-47a9-a01a-40f582648425\",\"type\":\"Span\"},{\"id\":\"4d67461d-2883-48af-a2ce-1b9128673efe\",\"type\":\"Span\"}],\"title\":{\"id\":\"0523d067-0c2f-4c68-b0d4-6fe50f19ca0c\",\"type\":\"Title\"},\"tool_events\":{\"id\":\"0b04bd90-1a74-498e-b6b5-787183338cfc\",\"type\":\"ToolEvents\"},\"toolbar\":{\"id\":\"a814d8d8-e8db-4329-ba0d-f03415c511f9\",\"type\":\"Toolbar\"},\"x_range\":{\"id\":\"15fdb2fa-a0d0-4dac-8f2f-d54eeba66ae3\",\"type\":\"DataRange1d\"},\"y_range\":{\"id\":\"f84b4833-83cb-4eb1-b28e-3df47b8e16ec\",\"type\":\"DataRange1d\"}},\"id\":\"69429a4b-9139-4757-bc09-531917981616\",\"subtype\":\"Figure\",\"type\":\"Plot\"},{\"attributes\":{\"axis_label\":\"Sale Price ($1,000)\",\"formatter\":{\"id\":\"4d5e69d4-195b-43c0-97c5-68344fd03007\",\"type\":\"BasicTickFormatter\"},\"plot\":{\"id\":\"b8a368d5-488a-4fcd-8267-ed774b9270eb\",\"subtype\":\"Figure\",\"type\":\"Plot\"},\"ticker\":{\"id\":\"1f3f26a9-3c12-4419-9de8-3b9432e00eeb\",\"type\":\"BasicTicker\"}},\"id\":\"2726eea2-cd8a-4fd4-b53d-e789104eee25\",\"type\":\"LinearAxis\"},{\"attributes\":{\"plot\":{\"id\":\"b8a368d5-488a-4fcd-8267-ed774b9270eb\",\"subtype\":\"Figure\",\"type\":\"Plot\"}},\"id\":\"f2ba8fbf-8522-4c56-a9d4-6600eaeed9f4\",\"type\":\"ResetTool\"},{\"attributes\":{\"days\":[1,15]},\"id\":\"a04f9f95-0b74-41d3-b5f1-6dc765dc3740\",\"type\":\"DaysTicker\"},{\"attributes\":{\"items\":[{\"id\":\"f62cddf1-98b7-45e6-a5d8-a8123ab19eb4\",\"type\":\"LegendItem\"},{\"id\":\"f9f92ad3-ba3a-422a-9886-866bc9ca899b\",\"type\":\"LegendItem\"}],\"plot\":{\"id\":\"69429a4b-9139-4757-bc09-531917981616\",\"subtype\":\"Figure\",\"type\":\"Plot\"}},\"id\":\"1580f107-5741-4348-8aba-6d5fb57777a5\",\"type\":\"Legend\"},{\"attributes\":{\"dimension\":1,\"plot\":{\"id\":\"dbdd2fe7-fe9f-43b8-8cb2-596d7247c130\",\"subtype\":\"Figure\",\"type\":\"Plot\"},\"ticker\":{\"id\":\"cb6e9528-2ed7-43b9-8e47-cc4217639720\",\"type\":\"BasicTicker\"},\"visible\":false},\"id\":\"83a5929c-e12f-4107-ad1c-9f3810a9b9fc\",\"type\":\"Grid\"},{\"attributes\":{\"months\":[0,6]},\"id\":\"ead08329-59fd-4bfa-ad40-3cf01518029c\",\"type\":\"MonthsTicker\"},{\"attributes\":{\"plot\":{\"id\":\"69429a4b-9139-4757-bc09-531917981616\",\"subtype\":\"Figure\",\"type\":\"Plot\"}},\"id\":\"a9f76a59-656d-491d-b6d9-9f2ddcc1f436\",\"type\":\"ResetTool\"},{\"attributes\":{\"plot\":null,\"text\":\"S & P 500 Index\"},\"id\":\"641a7f52-71a5-4622-bda7-39d1e4467313\",\"type\":\"Title\"},{\"attributes\":{\"callback\":null},\"id\":\"f84b4833-83cb-4eb1-b28e-3df47b8e16ec\",\"type\":\"DataRange1d\"},{\"attributes\":{\"callback\":null,\"plot\":{\"id\":\"dbdd2fe7-fe9f-43b8-8cb2-596d7247c130\",\"subtype\":\"Figure\",\"type\":\"Plot\"},\"tooltips\":[[\"Month\",\"@month_label\"],[\"Value\",\"@value\"]]},\"id\":\"b3504a07-c7f0-47e7-aa20-07dfaa486ba9\",\"type\":\"HoverTool\"},{\"attributes\":{\"children\":[{\"id\":\"69429a4b-9139-4757-bc09-531917981616\",\"subtype\":\"Figure\",\"type\":\"Plot\"},{\"id\":\"dbdd2fe7-fe9f-43b8-8cb2-596d7247c130\",\"subtype\":\"Figure\",\"type\":\"Plot\"},{\"id\":\"b8a368d5-488a-4fcd-8267-ed774b9270eb\",\"subtype\":\"Figure\",\"type\":\"Plot\"}]},\"id\":\"c473232a-dc2c-4b75-988c-f9bc6517b4b9\",\"type\":\"Column\"},{\"attributes\":{\"base\":60,\"mantissas\":[1,2,5,10,15,20,30],\"max_interval\":1800000.0,\"min_interval\":1000.0,\"num_minor_ticks\":0},\"id\":\"82697562-3f27-4eb3-9a3b-7d1fd2addd66\",\"type\":\"AdaptiveTicker\"},{\"attributes\":{\"line_alpha\":{\"value\":0.1},\"line_color\":{\"value\":\"#1f77b4\"},\"x\":{\"field\":\"month_data\"},\"y\":{\"field\":\"price\"}},\"id\":\"600ba4f1-405f-4f3e-9b01-b41ede9e4715\",\"type\":\"Line\"},{\"attributes\":{},\"id\":\"6433c233-c23d-480b-a740-19263d54b659\",\"type\":\"YearsTicker\"},{\"attributes\":{\"days\":[1,4,7,10,13,16,19,22,25,28]},\"id\":\"68447285-681a-44cb-8b30-35493281fb2e\",\"type\":\"DaysTicker\"},{\"attributes\":{\"active_drag\":\"auto\",\"active_scroll\":\"auto\",\"active_tap\":\"auto\",\"tools\":[{\"id\":\"b3504a07-c7f0-47e7-aa20-07dfaa486ba9\",\"type\":\"HoverTool\"},{\"id\":\"80fa3b04-e26b-4715-a541-688816c3eafd\",\"type\":\"CrosshairTool\"},{\"id\":\"46505d45-b25d-4669-8e11-d789eb8241cd\",\"type\":\"PanTool\"},{\"id\":\"21c0d3fb-cbf8-4432-847a-dd608e040ea5\",\"type\":\"ResetTool\"},{\"id\":\"dd4462d0-2b14-42c6-8b79-e04974ff7c9a\",\"type\":\"ResizeTool\"},{\"id\":\"5c643220-4ff7-4652-b399-179ecc77f271\",\"type\":\"SaveTool\"},{\"id\":\"875af31c-1485-445f-a8f1-cdb3f85d82d7\",\"type\":\"UndoTool\"},{\"id\":\"980d40c4-8163-4120-879b-c92acaff496d\",\"type\":\"WheelZoomTool\"}]},\"id\":\"2d638ff4-8ea9-4353-8a73-5fec6bb6f884\",\"type\":\"Toolbar\"},{\"attributes\":{\"callback\":null,\"plot\":{\"id\":\"69429a4b-9139-4757-bc09-531917981616\",\"subtype\":\"Figure\",\"type\":\"Plot\"},\"tooltips\":[[\"month\",\"@month_label\"],[\"unemployment\",\"@unemployment\"]]},\"id\":\"8473dda4-bfa8-4f29-b341-5dca14817c57\",\"type\":\"HoverTool\"},{\"attributes\":{\"days\":[1,8,15,22]},\"id\":\"40a2e395-089d-4551-91d4-6a6b057206a4\",\"type\":\"DaysTicker\"},{\"attributes\":{\"days\":[1,15]},\"id\":\"67046c7c-b5ad-4a6e-a068-8c8ad5587be6\",\"type\":\"DaysTicker\"},{\"attributes\":{\"callback\":null,\"plot\":{\"id\":\"b8a368d5-488a-4fcd-8267-ed774b9270eb\",\"subtype\":\"Figure\",\"type\":\"Plot\"},\"tooltips\":[[\"Month\",\"@month_label\"],[\"Price\",\"@price\"]]},\"id\":\"fd1baad2-9f15-443d-91d0-494d727a3555\",\"type\":\"HoverTool\"},{\"attributes\":{\"callback\":null},\"id\":\"15fdb2fa-a0d0-4dac-8f2f-d54eeba66ae3\",\"type\":\"DataRange1d\"},{\"attributes\":{\"months\":[0,4,8]},\"id\":\"553b024b-9e44-4bf4-8a37-c2d874095fa9\",\"type\":\"MonthsTicker\"},{\"attributes\":{\"data_source\":{\"id\":\"83a034f3-080f-407c-818f-49c02106d7b9\",\"type\":\"ColumnDataSource\"},\"glyph\":{\"id\":\"8973af5f-6a10-487d-89c5-e02c45f990cf\",\"type\":\"Line\"},\"hover_glyph\":null,\"muted_glyph\":null,\"nonselection_glyph\":{\"id\":\"600ba4f1-405f-4f3e-9b01-b41ede9e4715\",\"type\":\"Line\"},\"selection_glyph\":null},\"id\":\"4f445ea8-2b5b-468d-bd89-0317ae93e1a1\",\"type\":\"GlyphRenderer\"},{\"attributes\":{\"days\":[1,8,15,22]},\"id\":\"b9d9fe43-c447-49f9-86ee-f52f94e3622a\",\"type\":\"DaysTicker\"},{\"attributes\":{\"plot\":{\"id\":\"dbdd2fe7-fe9f-43b8-8cb2-596d7247c130\",\"subtype\":\"Figure\",\"type\":\"Plot\"}},\"id\":\"875af31c-1485-445f-a8f1-cdb3f85d82d7\",\"type\":\"UndoTool\"},{\"attributes\":{\"fill_alpha\":{\"value\":0.1},\"fill_color\":{\"value\":\"blue\"},\"left\":1196496000000.0,\"plot\":{\"id\":\"69429a4b-9139-4757-bc09-531917981616\",\"subtype\":\"Figure\",\"type\":\"Plot\"},\"right\":1243839600000.0},\"id\":\"0b6e260c-f4ba-47ed-b66c-f384ecd49076\",\"type\":\"BoxAnnotation\"},{\"attributes\":{\"label\":{\"value\":\"Portland-Hillsboro-Vancouver\"},\"renderers\":[{\"id\":\"38c3e727-5537-4b5a-9460-a7031c30222e\",\"type\":\"GlyphRenderer\"}]},\"id\":\"f62cddf1-98b7-45e6-a5d8-a8123ab19eb4\",\"type\":\"LegendItem\"},{\"attributes\":{},\"id\":\"d450f473-d78d-4a6d-a993-eadaccd66a68\",\"type\":\"YearsTicker\"},{\"attributes\":{\"plot\":{\"id\":\"69429a4b-9139-4757-bc09-531917981616\",\"subtype\":\"Figure\",\"type\":\"Plot\"},\"ticker\":{\"id\":\"bdd06465-d6fc-4244-803f-c8238b65d529\",\"type\":\"DatetimeTicker\"},\"visible\":false},\"id\":\"3c6c7095-66cd-41b6-9707-cd7f22e277b4\",\"type\":\"Grid\"},{\"attributes\":{\"plot\":{\"id\":\"dbdd2fe7-fe9f-43b8-8cb2-596d7247c130\",\"subtype\":\"Figure\",\"type\":\"Plot\"}},\"id\":\"5c643220-4ff7-4652-b399-179ecc77f271\",\"type\":\"SaveTool\"},{\"attributes\":{\"dimension\":\"height\",\"line_color\":{\"value\":\"darkorange\"},\"location\":1243839600000.0,\"plot\":{\"id\":\"69429a4b-9139-4757-bc09-531917981616\",\"subtype\":\"Figure\",\"type\":\"Plot\"}},\"id\":\"923f8dfd-aadc-4852-85a1-d2b4e56def2a\",\"type\":\"Span\"},{\"attributes\":{\"months\":[0,6]},\"id\":\"2a6e0a3a-a408-473b-9ba2-815afe819eea\",\"type\":\"MonthsTicker\"},{\"attributes\":{\"dimension\":\"height\",\"line_color\":{\"value\":\"grey\"},\"location\":1262332800000.0,\"plot\":{\"id\":\"b8a368d5-488a-4fcd-8267-ed774b9270eb\",\"subtype\":\"Figure\",\"type\":\"Plot\"}},\"id\":\"b680ea58-870a-491a-ba36-ff1f52833db1\",\"type\":\"Span\"},{\"attributes\":{\"dimension\":\"height\",\"line_color\":{\"value\":\"limegreen\"},\"location\":1304233200000.0,\"plot\":{\"id\":\"b8a368d5-488a-4fcd-8267-ed774b9270eb\",\"subtype\":\"Figure\",\"type\":\"Plot\"}},\"id\":\"55d34289-2784-4f71-be5e-8b6c836e4e99\",\"type\":\"Span\"},{\"attributes\":{\"line_color\":{\"value\":\"#90151B\"},\"x\":{\"field\":\"month_data\"},\"y\":{\"field\":\"value\"}},\"id\":\"9c57c72b-18fd-4ffd-a416-b1460b0fe1a5\",\"type\":\"Line\"},{\"attributes\":{\"num_minor_ticks\":5},\"id\":\"50cc2159-08f4-4c7f-bc58-21269d28d9b8\",\"type\":\"DatetimeTicker\"},{\"attributes\":{},\"id\":\"f8310757-2b29-4798-ab30-6f42b25a3966\",\"type\":\"ToolEvents\"},{\"attributes\":{\"months\":[0,1,2,3,4,5,6,7,8,9,10,11]},\"id\":\"30d68db3-a610-4d47-9149-33d2875e2c50\",\"type\":\"MonthsTicker\"},{\"attributes\":{\"below\":[{\"id\":\"77622fa1-2a10-4b42-9dfa-a3332401df86\",\"type\":\"DatetimeAxis\"}],\"left\":[{\"id\":\"b91fed09-a39e-44de-b1dc-a3b7db4a7ceb\",\"type\":\"LinearAxis\"}],\"plot_height\":300,\"renderers\":[{\"id\":\"77622fa1-2a10-4b42-9dfa-a3332401df86\",\"type\":\"DatetimeAxis\"},{\"id\":\"98cf67b8-f24d-422d-8174-fa48944e26ac\",\"type\":\"Grid\"},{\"id\":\"b91fed09-a39e-44de-b1dc-a3b7db4a7ceb\",\"type\":\"LinearAxis\"},{\"id\":\"83a5929c-e12f-4107-ad1c-9f3810a9b9fc\",\"type\":\"Grid\"},{\"id\":\"7c24b85b-37fa-474d-8204-7ab2c583bb5a\",\"type\":\"GlyphRenderer\"},{\"id\":\"fceaf8f3-902b-4632-acaf-7c84c1db6448\",\"type\":\"BoxAnnotation\"},{\"id\":\"dc232f52-a91a-46df-b7ee-7c466cec72e7\",\"type\":\"Span\"},{\"id\":\"7617eaef-e121-4caa-ab49-163b3411558d\",\"type\":\"Span\"},{\"id\":\"a3c4f423-9387-4e8f-987b-18e170201ef2\",\"type\":\"Span\"},{\"id\":\"8cd530e8-6cf0-4a0c-a4f4-60b4643e76a5\",\"type\":\"Span\"}],\"title\":{\"id\":\"641a7f52-71a5-4622-bda7-39d1e4467313\",\"type\":\"Title\"},\"tool_events\":{\"id\":\"f8310757-2b29-4798-ab30-6f42b25a3966\",\"type\":\"ToolEvents\"},\"toolbar\":{\"id\":\"2d638ff4-8ea9-4353-8a73-5fec6bb6f884\",\"type\":\"Toolbar\"},\"x_range\":{\"id\":\"15fdb2fa-a0d0-4dac-8f2f-d54eeba66ae3\",\"type\":\"DataRange1d\"},\"y_range\":{\"id\":\"086435bd-99fd-44de-aef5-101d25138059\",\"type\":\"DataRange1d\"}},\"id\":\"dbdd2fe7-fe9f-43b8-8cb2-596d7247c130\",\"subtype\":\"Figure\",\"type\":\"Plot\"},{\"attributes\":{},\"id\":\"5fa50317-abee-4dd4-8626-404f31011309\",\"type\":\"DatetimeTickFormatter\"},{\"attributes\":{},\"id\":\"1f3f26a9-3c12-4419-9de8-3b9432e00eeb\",\"type\":\"BasicTicker\"},{\"attributes\":{\"plot\":{\"id\":\"b8a368d5-488a-4fcd-8267-ed774b9270eb\",\"subtype\":\"Figure\",\"type\":\"Plot\"}},\"id\":\"4692d9e0-c3ec-4e41-97ed-dcd9f2fde60b\",\"type\":\"SaveTool\"},{\"attributes\":{\"fill_alpha\":{\"value\":0.1},\"fill_color\":{\"value\":\"blue\"},\"left\":1196496000000.0,\"plot\":{\"id\":\"dbdd2fe7-fe9f-43b8-8cb2-596d7247c130\",\"subtype\":\"Figure\",\"type\":\"Plot\"},\"right\":1243839600000.0},\"id\":\"fceaf8f3-902b-4632-acaf-7c84c1db6448\",\"type\":\"BoxAnnotation\"},{\"attributes\":{\"days\":[1,4,7,10,13,16,19,22,25,28]},\"id\":\"127ca704-4216-4fc1-8a93-18de9056671e\",\"type\":\"DaysTicker\"},{\"attributes\":{},\"id\":\"222f7bf6-2a29-49ca-a4b0-95648f1a1643\",\"type\":\"DatetimeTickFormatter\"},{\"attributes\":{\"callback\":null,\"column_names\":[\"month_label\",\"month_data\",\"value\"],\"data\":{\"month_data\":{\"__ndarray__\":\"AACASa/9cEIAAMCbqQdxQgAAwLysEHFCAAAAD6cacUIAAID7TiRxQgAAwE1JLnFCAABAOvE3cUIAAICM60FxQgAAwN7lS3FCAABAy41VcUIAAIAdiF9xQgAAAAowaXFCAABAXCpzcUIAAICuJH1xQgAAQDV6hnFCAACAh3SQcUIAAAB0HJpxQgAAQMYWpHFCAADAsr6tcUIAAAAFubdxQgAAQFezwXFCAADAQ1vLcUIAAACWVdVxQgAAgIL93nFCAADA1PfocUIAAAAn8vJxQgAAAEj1+3FCAABAmu8FckIAAMCGlw9yQgAAANmRGXJCAACAxTkjckIAAMAXNC1yQgAAAGouN3JCAACAVtZAckIAAMCo0EpyQgAAQJV4VHJCAACA53JeckIAAMA5bWhyQgAAwFpwcXJCAAAArWp7ckIAAICZEoVyQgAAwOsMj3JCAABA2LSYckIAAIAqr6JyQgAAwHyprHJCAABAaVG2ckIAAIC7S8ByQgAAAKjzyXJCAABA+u3TckIAAIBM6N1yQgAAgG3r5nJCAADAv+XwckIAAECsjfpyQgAAgP6HBHNCAAAA6y8Oc0IAAEA9KhhzQgAAgI8kInNCAAAAfMwrc0IAAEDOxjVzQgAAwLpuP3NCAAAADWlJc0IAAEBfY1NzQgAAAOa4XHNCAABAOLNmc0IAAMAkW3BzQgAAAHdVenNCAACAY/2Dc0IAAMC1941zQgAAAAjyl3NCAACA9Jmhc0IAAMBGlKtzQgAAQDM8tXNCAACAhTa/c0IAAMDXMMlzQgAAwPgz0nNCAAAASy7cc0IAAIA31uVzQgAAwInQ73NCAABAdnj5c0IAAIDIcgN0QgAAwBptDXRCAABABxUXdEIAAIBZDyF0QgAAAEa3KnRCAABAmLE0dEIAAIDqqz50QgAAgAuvR3RCAADAXalRdEIAAEBKUVt0QgAAgJxLZXRCAAAAifNudEIAAEDb7Xh0QgAAgC3ognRCAAAAGpCMdEIAAEBsipZ0QgAAwFgyoHRCAAAAqyyqdEIAAED9JrR0QgAAQB4qvXRCAACAcCTHdEIAAABdzNB0QgAAQK/G2nRCAADAm27kdEIAAADuaO50QgAAQEBj+HRCAADALAsCdUIAAAB/BQx1QgAAgGutFXVCAADAvacfdUIAAAAQoil1QgAAwJb3MnVCAAAA6fE8dUIAAIDVmUZ1QgAAwCeUUHVCAABAFDxadUIAAIBmNmR1QgAAwLgwbnVCAABApdh3dUIAAID30oF1QgAAAOR6i3VCAABANnWVdUIAAICIb591Qg==\",\"dtype\":\"float64\",\"shape\":[122]},\"month_label\":[\"2007 Jan\",\"2007 Feb\",\"2007 Mar\",\"2007 Apr\",\"2007 May\",\"2007 Jun\",\"2007 Jul\",\"2007 Aug\",\"2007 Sep\",\"2007 Oct\",\"2007 Nov\",\"2007 Dec\",\"2008 Jan\",\"2008 Feb\",\"2008 Mar\",\"2008 Apr\",\"2008 May\",\"2008 Jun\",\"2008 Jul\",\"2008 Aug\",\"2008 Sep\",\"2008 Oct\",\"2008 Nov\",\"2008 Dec\",\"2009 Jan\",\"2009 Feb\",\"2009 Mar\",\"2009 Apr\",\"2009 May\",\"2009 Jun\",\"2009 Jul\",\"2009 Aug\",\"2009 Sep\",\"2009 Oct\",\"2009 Nov\",\"2009 Dec\",\"2010 Jan\",\"2010 Feb\",\"2010 Mar\",\"2010 Apr\",\"2010 May\",\"2010 Jun\",\"2010 Jul\",\"2010 Aug\",\"2010 Sep\",\"2010 Oct\",\"2010 Nov\",\"2010 Dec\",\"2011 Jan\",\"2011 Feb\",\"2011 Mar\",\"2011 Apr\",\"2011 May\",\"2011 Jun\",\"2011 Jul\",\"2011 Aug\",\"2011 Sep\",\"2011 Oct\",\"2011 Nov\",\"2011 Dec\",\"2012 Jan\",\"2012 Feb\",\"2012 Mar\",\"2012 Apr\",\"2012 May\",\"2012 Jun\",\"2012 Jul\",\"2012 Aug\",\"2012 Sep\",\"2012 Oct\",\"2012 Nov\",\"2012 Dec\",\"2013 Jan\",\"2013 Feb\",\"2013 Mar\",\"2013 Apr\",\"2013 May\",\"2013 Jun\",\"2013 Jul\",\"2013 Aug\",\"2013 Sep\",\"2013 Oct\",\"2013 Nov\",\"2013 Dec\",\"2014 Jan\",\"2014 Feb\",\"2014 Mar\",\"2014 Apr\",\"2014 May\",\"2014 Jun\",\"2014 Jul\",\"2014 Aug\",\"2014 Sep\",\"2014 Oct\",\"2014 Nov\",\"2014 Dec\",\"2015 Jan\",\"2015 Feb\",\"2015 Mar\",\"2015 Apr\",\"2015 May\",\"2015 Jun\",\"2015 Jul\",\"2015 Aug\",\"2015 Sep\",\"2015 Oct\",\"2015 Nov\",\"2015 Dec\",\"2016 Jan\",\"2016 Feb\",\"2016 Mar\",\"2016 Apr\",\"2016 May\",\"2016 Jun\",\"2016 Jul\",\"2016 Aug\",\"2016 Sep\",\"2016 Oct\",\"2016 Nov\",\"2016 Dec\",\"2017 Jan\",\"2017 Feb\"],\"value\":{\"__ndarray__\":\"AAAAAAAA+H8AAAAAAAD4fwAAAAAAAPh/AAAAAAAA+H/D9Shcj5yXQClcj8L1qZdAzczMzMzCl0AUrkfherqWQBSuR+F6ZJdAcT0K16MOmEDD9Shcj92WQFK4HoXrHJdA16NwPQqLlUAUrkfheiuVQPYoXI/Ck5RAexSuR+FplUB7FK5H4eyVQAAAAAAA9ZRAuB6F61Glk0B7FK5H4QWUQNejcD0KBJNAZmZmZmZGjkC4HoXrUZiLQBSuR+F6bItAcT0K16MMi0CkcD0K1ymJQNejcD0KqYdAMzMzMzOBikDhehSuRzOMQClcj8L18IxAw/UoXI8+jUD2KFyPwo2PQDMzMzMzUpBAcT0K16OukEDhehSuRwCRQOxRuB6FWZFAuB6F61GOkUBxPQrXowSRQDMzMzMzAJJA4XoUrke1kkAK16NwPZSRQD0K16Nw7ZBAMzMzMzPfkECF61G4Hv2QQLgehetRiJFAuB6F61FOkkDD9Shcj7uSQIXrUbgeZpNAFK5H4XoKlEAUrkfheqSUQClcj8L1YZRA16NwPQrOlEAK16NwPemUQFyPwvUoHZRAH4XrUbi0lEAK16NwPYWSQOxRuB6FV5JAexSuR+HckkBxPQrXoymTQOF6FK5HbZNAuB6F61FSlEApXI/C9SGVQClcj8L1tJVAH4XrUbiplUCuR+F6FPWUQFK4HoXrrZRAhetRuB4/lUD2KFyPwu2VQEjhehSujZZA4XoUrkd3lkDXo3A9CsqVQFyPwvUoOZZAmpmZmZkhl0AK16NwPaGXQLgehetRO5hAzczMzMyKmECPwvUoXJ+ZQK5H4XoUS5lAH4XrUbgSmkCPwvUoXBiaQEjhehSuXJpAhetRuB7gmkBcj8L1KN6bQIXrUbgeP5xAPQrXo3B5nECF61G4HmScQK5H4XoUHp1A16NwPQohnUCuR+F6FIedQI/C9ShcbJ5AZmZmZmbUnkCF61G4HqaeQFK4HoXrJJ9ArkfhehRFnkDhehSuR/KfQNejcD2KDKBAH4XrUbiwn0BmZmZmZkSgQBSuR+H6P6BAH4XrUbhdoEB7FK5H4X+gQMP1KFyPZqBA4XoUrkdcoEAUrkfhet+fQJqZmZmZYZ5ACtejcD2jn0AK16NwPUGgQFyPwvUoDKBAZmZmZmb6nUBI4XoUrsGdQM3MzMzMl59ArkfhehQ3oECamZmZGSOgQOF6FK7HR6BAzczMzMzJoEApXI/C9QKhQHsUrkdh26BA16NwPQq+oEAUrkfh+umgQPYoXI9CjaFACtejcD3GoUC4HoXr0TOiQA==\",\"dtype\":\"float64\",\"shape\":[122]}}},\"id\":\"09edbbf0-65ee-4b84-a70e-c4ed8cbf7460\",\"type\":\"ColumnDataSource\"},{\"attributes\":{\"plot\":null,\"text\":\"Portland Unemployment (2007-2017)\"},\"id\":\"0523d067-0c2f-4c68-b0d4-6fe50f19ca0c\",\"type\":\"Title\"},{\"attributes\":{\"plot\":{\"id\":\"b8a368d5-488a-4fcd-8267-ed774b9270eb\",\"subtype\":\"Figure\",\"type\":\"Plot\"}},\"id\":\"fe3f241a-846d-4a21-bcc9-0b2472b2491b\",\"type\":\"UndoTool\"},{\"attributes\":{\"data_source\":{\"id\":\"9613b378-a88e-41bb-b899-e5752a26007e\",\"type\":\"ColumnDataSource\"},\"glyph\":{\"id\":\"1f0f9f1b-5991-49ca-9eb7-a6d60c313856\",\"type\":\"Line\"},\"hover_glyph\":null,\"muted_glyph\":null,\"nonselection_glyph\":{\"id\":\"3e2341a1-599d-4278-93b1-042ec0384151\",\"type\":\"Line\"},\"selection_glyph\":null},\"id\":\"38c3e727-5537-4b5a-9460-a7031c30222e\",\"type\":\"GlyphRenderer\"},{\"attributes\":{\"base\":24,\"mantissas\":[1,2,4,6,8,12],\"max_interval\":43200000.0,\"min_interval\":3600000.0,\"num_minor_ticks\":0},\"id\":\"bf53c4d8-c15f-44ef-94d9-91d9e37322b3\",\"type\":\"AdaptiveTicker\"},{\"attributes\":{},\"id\":\"35d15ea3-6137-4456-8a03-ca20329314f3\",\"type\":\"ToolEvents\"},{\"attributes\":{\"fill_alpha\":{\"value\":0.1},\"fill_color\":{\"value\":\"blue\"},\"left\":1196496000000.0,\"plot\":{\"id\":\"b8a368d5-488a-4fcd-8267-ed774b9270eb\",\"subtype\":\"Figure\",\"type\":\"Plot\"},\"right\":1243839600000.0},\"id\":\"d326c114-874e-4549-ac05-9c4edd99bbbd\",\"type\":\"BoxAnnotation\"},{\"attributes\":{\"max_interval\":500.0,\"num_minor_ticks\":0},\"id\":\"f5f82036-5986-47bf-b0c5-37182c8ca6d8\",\"type\":\"AdaptiveTicker\"},{\"attributes\":{\"axis_label\":\"Month\",\"formatter\":{\"id\":\"222f7bf6-2a29-49ca-a4b0-95648f1a1643\",\"type\":\"DatetimeTickFormatter\"},\"plot\":{\"id\":\"69429a4b-9139-4757-bc09-531917981616\",\"subtype\":\"Figure\",\"type\":\"Plot\"},\"ticker\":{\"id\":\"bdd06465-d6fc-4244-803f-c8238b65d529\",\"type\":\"DatetimeTicker\"}},\"id\":\"c0d72635-b60f-44c4-b73d-22d07a537508\",\"type\":\"DatetimeAxis\"},{\"attributes\":{\"active_drag\":\"auto\",\"active_scroll\":\"auto\",\"active_tap\":\"auto\",\"tools\":[{\"id\":\"fd1baad2-9f15-443d-91d0-494d727a3555\",\"type\":\"HoverTool\"},{\"id\":\"5a11bd02-f5b4-4798-8a78-d8770e24afbd\",\"type\":\"CrosshairTool\"},{\"id\":\"38e59b19-495f-4391-8d8d-a7ca4e50e7f2\",\"type\":\"PanTool\"},{\"id\":\"f2ba8fbf-8522-4c56-a9d4-6600eaeed9f4\",\"type\":\"ResetTool\"},{\"id\":\"e674d97e-22e6-4a8a-b458-427fed5cf52f\",\"type\":\"ResizeTool\"},{\"id\":\"4692d9e0-c3ec-4e41-97ed-dcd9f2fde60b\",\"type\":\"SaveTool\"},{\"id\":\"fe3f241a-846d-4a21-bcc9-0b2472b2491b\",\"type\":\"UndoTool\"},{\"id\":\"cf94a093-3b1a-496f-990c-c2c3d84586f6\",\"type\":\"WheelZoomTool\"}]},\"id\":\"42de0f1a-abdb-4ea7-b843-949ebc3e35e2\",\"type\":\"Toolbar\"},{\"attributes\":{},\"id\":\"f792b394-d0ff-4e60-a264-ce6e0a443bf6\",\"type\":\"YearsTicker\"},{\"attributes\":{\"base\":60,\"mantissas\":[1,2,5,10,15,20,30],\"max_interval\":1800000.0,\"min_interval\":1000.0,\"num_minor_ticks\":0},\"id\":\"4b8bd613-f176-456e-9edf-8777b374a7a2\",\"type\":\"AdaptiveTicker\"},{\"attributes\":{\"plot\":{\"id\":\"69429a4b-9139-4757-bc09-531917981616\",\"subtype\":\"Figure\",\"type\":\"Plot\"}},\"id\":\"6f4c4380-49b4-42c7-a318-a72450b4392a\",\"type\":\"UndoTool\"},{\"attributes\":{\"base\":24,\"mantissas\":[1,2,4,6,8,12],\"max_interval\":43200000.0,\"min_interval\":3600000.0,\"num_minor_ticks\":0},\"id\":\"b20b6024-5524-4fc9-a3a0-0fa8d9a3211d\",\"type\":\"AdaptiveTicker\"},{\"attributes\":{\"days\":[1,2,3,4,5,6,7,8,9,10,11,12,13,14,15,16,17,18,19,20,21,22,23,24,25,26,27,28,29,30,31]},\"id\":\"097772b1-4ab5-4a96-a030-e55df2f15f51\",\"type\":\"DaysTicker\"},{\"attributes\":{\"dimension\":\"height\",\"line_color\":{\"value\":\"grey\"},\"location\":1262332800000.0,\"plot\":{\"id\":\"69429a4b-9139-4757-bc09-531917981616\",\"subtype\":\"Figure\",\"type\":\"Plot\"}},\"id\":\"4d67461d-2883-48af-a2ce-1b9128673efe\",\"type\":\"Span\"},{\"attributes\":{\"dimension\":\"height\",\"line_color\":{\"value\":\"crimson\"},\"location\":1235894400000.0,\"plot\":{\"id\":\"dbdd2fe7-fe9f-43b8-8cb2-596d7247c130\",\"subtype\":\"Figure\",\"type\":\"Plot\"}},\"id\":\"7617eaef-e121-4caa-ab49-163b3411558d\",\"type\":\"Span\"},{\"attributes\":{\"plot\":{\"id\":\"b8a368d5-488a-4fcd-8267-ed774b9270eb\",\"subtype\":\"Figure\",\"type\":\"Plot\"},\"ticker\":{\"id\":\"65b6d50c-7f7a-4b63-b15d-72d94c906a5d\",\"type\":\"DatetimeTicker\"},\"visible\":false},\"id\":\"8c7db04e-ed76-4e6a-bd37-162b488b67c7\",\"type\":\"Grid\"},{\"attributes\":{},\"id\":\"d72f6fb8-d620-40fc-8798-3a556b47a9a2\",\"type\":\"BasicTicker\"},{\"attributes\":{\"line_color\":{\"value\":\"cornflowerblue\"},\"x\":{\"field\":\"month_data\"},\"y\":{\"field\":\"unemployment\"}},\"id\":\"1f0f9f1b-5991-49ca-9eb7-a6d60c313856\",\"type\":\"Line\"},{\"attributes\":{\"dimension\":\"height\",\"line_color\":{\"value\":\"darkorange\"},\"location\":1243839600000.0,\"plot\":{\"id\":\"dbdd2fe7-fe9f-43b8-8cb2-596d7247c130\",\"subtype\":\"Figure\",\"type\":\"Plot\"}},\"id\":\"dc232f52-a91a-46df-b7ee-7c466cec72e7\",\"type\":\"Span\"},{\"attributes\":{\"label\":{\"value\":\"National\"},\"renderers\":[{\"id\":\"f25bed61-063e-4901-9695-78136f359225\",\"type\":\"GlyphRenderer\"}]},\"id\":\"f9f92ad3-ba3a-422a-9886-866bc9ca899b\",\"type\":\"LegendItem\"},{\"attributes\":{\"num_minor_ticks\":5},\"id\":\"65b6d50c-7f7a-4b63-b15d-72d94c906a5d\",\"type\":\"DatetimeTicker\"},{\"attributes\":{\"dimension\":\"height\",\"line_color\":{\"value\":\"limegreen\"},\"location\":1304233200000.0,\"plot\":{\"id\":\"69429a4b-9139-4757-bc09-531917981616\",\"subtype\":\"Figure\",\"type\":\"Plot\"}},\"id\":\"d69e6f79-69ba-47a9-a01a-40f582648425\",\"type\":\"Span\"},{\"attributes\":{\"line_color\":{\"value\":\"slategrey\"},\"x\":{\"field\":\"month_data\"},\"y\":{\"field\":\"unemployment\"}},\"id\":\"d7f2d301-3633-4f37-bb4c-6a40b0c0999a\",\"type\":\"Line\"},{\"attributes\":{\"plot\":{\"id\":\"69429a4b-9139-4757-bc09-531917981616\",\"subtype\":\"Figure\",\"type\":\"Plot\"}},\"id\":\"030fc25a-1552-4a00-85e6-e84f9d693fd4\",\"type\":\"ResizeTool\"},{\"attributes\":{\"plot\":{\"id\":\"69429a4b-9139-4757-bc09-531917981616\",\"subtype\":\"Figure\",\"type\":\"Plot\"}},\"id\":\"637ee9ce-3af0-4930-978b-dd4a2c552caa\",\"type\":\"CrosshairTool\"},{\"attributes\":{\"line_alpha\":{\"value\":0.1},\"line_color\":{\"value\":\"#1f77b4\"},\"x\":{\"field\":\"month_data\"},\"y\":{\"field\":\"unemployment\"}},\"id\":\"3e2341a1-599d-4278-93b1-042ec0384151\",\"type\":\"Line\"},{\"attributes\":{\"plot\":{\"id\":\"dbdd2fe7-fe9f-43b8-8cb2-596d7247c130\",\"subtype\":\"Figure\",\"type\":\"Plot\"},\"ticker\":{\"id\":\"50cc2159-08f4-4c7f-bc58-21269d28d9b8\",\"type\":\"DatetimeTicker\"},\"visible\":false},\"id\":\"98cf67b8-f24d-422d-8174-fa48944e26ac\",\"type\":\"Grid\"},{\"attributes\":{\"axis_label\":\"S & P 500 Valuation\",\"formatter\":{\"id\":\"9e4a8d91-4161-4a29-b21c-f39c7ea5367d\",\"type\":\"BasicTickFormatter\"},\"plot\":{\"id\":\"dbdd2fe7-fe9f-43b8-8cb2-596d7247c130\",\"subtype\":\"Figure\",\"type\":\"Plot\"},\"ticker\":{\"id\":\"cb6e9528-2ed7-43b9-8e47-cc4217639720\",\"type\":\"BasicTicker\"}},\"id\":\"b91fed09-a39e-44de-b1dc-a3b7db4a7ceb\",\"type\":\"LinearAxis\"},{\"attributes\":{},\"id\":\"0b04bd90-1a74-498e-b6b5-787183338cfc\",\"type\":\"ToolEvents\"},{\"attributes\":{\"days\":[1,2,3,4,5,6,7,8,9,10,11,12,13,14,15,16,17,18,19,20,21,22,23,24,25,26,27,28,29,30,31]},\"id\":\"38574b27-2e19-4912-89f3-4b82f4127353\",\"type\":\"DaysTicker\"},{\"attributes\":{\"months\":[0,6]},\"id\":\"69cf1d35-efac-4328-a169-fb5ced9e3227\",\"type\":\"MonthsTicker\"},{\"attributes\":{\"plot\":{\"id\":\"b8a368d5-488a-4fcd-8267-ed774b9270eb\",\"subtype\":\"Figure\",\"type\":\"Plot\"}},\"id\":\"38e59b19-495f-4391-8d8d-a7ca4e50e7f2\",\"type\":\"PanTool\"}],\"root_ids\":[\"c473232a-dc2c-4b75-988c-f9bc6517b4b9\"]},\"title\":\"Bokeh Application\",\"version\":\"0.12.5\"}};\n",
       "            var render_items = [{\"docid\":\"8ccae7c3-94a9-4f0b-b085-aa9a11d39f65\",\"elementid\":\"3b515386-777e-4045-85dc-f22bf7cfd72a\",\"modelid\":\"c473232a-dc2c-4b75-988c-f9bc6517b4b9\"}];\n",
       "            \n",
       "            Bokeh.embed.embed_items(docs_json, render_items);\n",
       "          };\n",
       "          if (document.readyState != \"loading\") fn();\n",
       "          else document.addEventListener(\"DOMContentLoaded\", fn);\n",
       "        })();\n",
       "      },\n",
       "      function(Bokeh) {\n",
       "      }\n",
       "    ];\n",
       "  \n",
       "    function run_inline_js() {\n",
       "      \n",
       "      if ((window.Bokeh !== undefined) || (force === true)) {\n",
       "        for (var i = 0; i < inline_js.length; i++) {\n",
       "          inline_js[i](window.Bokeh);\n",
       "        }if (force === true) {\n",
       "          display_loaded();\n",
       "        }} else if (Date.now() < window._bokeh_timeout) {\n",
       "        setTimeout(run_inline_js, 100);\n",
       "      } else if (!window._bokeh_failed_load) {\n",
       "        console.log(\"Bokeh: BokehJS failed to load within specified timeout.\");\n",
       "        window._bokeh_failed_load = true;\n",
       "      } else if (force !== true) {\n",
       "        var cell = $(document.getElementById(\"3b515386-777e-4045-85dc-f22bf7cfd72a\")).parents('.cell').data().cell;\n",
       "        cell.output_area.append_execute_result(NB_LOAD_WARNING)\n",
       "      }\n",
       "  \n",
       "    }\n",
       "  \n",
       "    if (window._bokeh_is_loading === 0) {\n",
       "      console.log(\"Bokeh: BokehJS loaded, going straight to plotting\");\n",
       "      run_inline_js();\n",
       "    } else {\n",
       "      load_libs(js_urls, function() {\n",
       "        console.log(\"Bokeh: BokehJS plotting callback run at\", now());\n",
       "        run_inline_js();\n",
       "      });\n",
       "    }\n",
       "  }(this));\n",
       "</script>"
      ]
     },
     "metadata": {},
     "output_type": "display_data"
    }
   ],
   "source": [
    "show(combined)"
   ]
  },
  {
   "cell_type": "markdown",
   "metadata": {
    "deletable": true,
    "editable": true,
    "ein.tags": [
     "worksheet-0"
    ],
    "slideshow": {
     "slide_type": "-"
    }
   },
   "source": [
    "I haven't figured out how to label them yet, so I'll say here that the green vertical line is the house-price nadir, the black line is the maximum national unemployment, the orange line is the first maximum Portland, Oregon unemployment (it hit that level twice), and the red line is the S & P 500 nadir. The blue area is the recession during this period."
   ]
  },
  {
   "cell_type": "markdown",
   "metadata": {
    "deletable": true,
    "editable": true
   },
   "source": [
    "## Saving the Plot"
   ]
  },
  {
   "cell_type": "markdown",
   "metadata": {
    "deletable": true,
    "editable": true
   },
   "source": [
    "This is (hopefully) how to embed the plot into a static page."
   ]
  },
  {
   "cell_type": "code",
   "execution_count": 78,
   "metadata": {
    "collapsed": true,
    "deletable": true,
    "editable": true
   },
   "outputs": [],
   "source": [
    "from bokeh.resources import CDN\n",
    "from bokeh.embed import autoload_static"
   ]
  },
  {
   "cell_type": "code",
   "execution_count": 85,
   "metadata": {
    "collapsed": true,
    "deletable": true,
    "editable": true
   },
   "outputs": [],
   "source": [
    "OUTPUT_JAVASCRIPT = \"portland_unemployment.js\""
   ]
  },
  {
   "cell_type": "code",
   "execution_count": 86,
   "metadata": {
    "collapsed": true,
    "deletable": true,
    "editable": true
   },
   "outputs": [],
   "source": [
    "js, tag = autoload_static(combined, CDN, OUTPUT_JAVASCRIPT)"
   ]
  },
  {
   "cell_type": "code",
   "execution_count": 82,
   "metadata": {
    "collapsed": false,
    "deletable": true,
    "editable": true
   },
   "outputs": [
    {
     "name": "stdout",
     "output_type": "stream",
     "text": [
      "\n",
      "<script\n",
      "    src=\"portland_unemployment.js\"\n",
      "    id=\"bf348e92-112c-4b6c-aced-9477a49e796c\"\n",
      "    data-bokeh-model-id=\"c5aee757-54bc-4c05-ac0e-7e68f574cdde\"\n",
      "    data-bokeh-doc-id=\"ca6171db-e64d-4d5a-bd81-7f20314822d4\"\n",
      "></script>\n"
     ]
    }
   ],
   "source": [
    "print(tag)"
   ]
  },
  {
   "cell_type": "code",
   "execution_count": 84,
   "metadata": {
    "collapsed": false,
    "deletable": true,
    "editable": true
   },
   "outputs": [
    {
     "name": "stdout",
     "output_type": "stream",
     "text": [
      "portland_and_national_unemployment.org\r\n",
      "portland_hillsboro_vancouver_2007_2017.csv\r\n",
      "portland_unemployment_2007_2017.csv\r\n",
      "portland_unemployment_data.csv\r\n",
      "portland-unemployment-with-holoviews.ipynb\r\n"
     ]
    }
   ],
   "source": [
    "!ls | grep portland"
   ]
  },
  {
   "cell_type": "markdown",
   "metadata": {
    "deletable": true,
    "editable": true
   },
   "source": [
    "It looks like it doesn't actually save the javascript. You probabaly have to save it yourself."
   ]
  },
  {
   "cell_type": "code",
   "execution_count": 87,
   "metadata": {
    "collapsed": true,
    "deletable": true,
    "editable": true
   },
   "outputs": [],
   "source": [
    "with open(OUTPUT_JAVASCRIPT, \"w\") as writer:\n",
    "    writer.write(js)"
   ]
  },
  {
   "cell_type": "markdown",
   "metadata": {
    "deletable": true,
    "editable": true
   },
   "source": [
    "Insert the contents of the ``tag`` into the html that you want the plot embedded into and copy the ``portland_unemployment.js`` to the folder where the html will look for javascript files (add a path if it's in a folder)."
   ]
  },
  {
   "cell_type": "markdown",
   "metadata": {
    "deletable": true,
    "editable": true
   },
   "source": [
    "I'm going to shut this notebook down to switch git branches so I'll save the tag as well."
   ]
  },
  {
   "cell_type": "code",
   "execution_count": 88,
   "metadata": {
    "collapsed": true,
    "deletable": true,
    "editable": true
   },
   "outputs": [],
   "source": [
    "with open(\"portland_tag.html\", 'w') as writer:\n",
    "    writer.write(tag)"
   ]
  },
  {
   "cell_type": "code",
   "execution_count": null,
   "metadata": {
    "collapsed": true,
    "deletable": true,
    "editable": true
   },
   "outputs": [],
   "source": []
  }
 ],
 "metadata": {
  "kernelspec": {
   "display_name": "Python 3",
   "language": "python",
   "name": "python3"
  },
  "language_info": {
   "codemirror_mode": {
    "name": "ipython",
    "version": 3
   },
   "file_extension": ".py",
   "mimetype": "text/x-python",
   "name": "python",
   "nbconvert_exporter": "python",
   "pygments_lexer": "ipython3",
   "version": "3.5.2"
  },
  "name": "portland-unemployment-with-holoviews.ipynb",
  "nikola": {
   "category": "",
   "date": "2017-05-13 11:34:20 UTC-07:00",
   "description": "",
   "link": "",
   "slug": "portland-unemployment-with-holoviews",
   "tags": "",
   "title": "Portland Unemployment With Holoviews",
   "type": "text"
  }
 },
 "nbformat": 4,
 "nbformat_minor": 2
}
