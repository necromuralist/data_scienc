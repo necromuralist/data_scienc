{
 "cells": [
  {
   "cell_type": "markdown",
   "metadata": {
    "ein.tags": [
     "worksheet-0"
    ],
    "slideshow": {
     "slide_type": "-"
    }
   },
   "source": [
    "# Assignment 4\n",
    "\n",
    "Before working on this assignment please read these instructions fully. In the submission area, you will notice that you can click the link to **Preview the Grading** for each step of the assignment. This is the criteria that will be used for peer grading. Please familiarize yourself with the criteria before beginning the assignment.\n",
    "\n",
    "This assignment requires that you to find **at least** two datasets on the web which are related, and that you visualize these datasets to answer a question with the broad topic of **economic activity or measures** (see below) for the region of **Portland, Oregon, United States**, or **United States** more broadly.\n",
    "\n",
    "You can merge these datasets with data from different regions if you like! For instance, you might want to compare **Portland, Oregon, United States** to Ann Arbor, USA. In that case at least one source file must be about **Portland, Oregon, United States**.\n",
    "\n",
    "You are welcome to choose datasets at your discretion, but keep in mind **they will be shared with your peers**, so choose appropriate datasets. Sensitive, confidential, illicit, and proprietary materials are not good choices for datasets for this assignment. You are welcome to upload datasets of your own as well, and link to them using a third party repository such as github, bitbucket, pastebin, etc. Please be aware of the Coursera terms of service with respect to intellectual property.\n",
    "\n",
    "Also, you are welcome to preserve data in its original language, but for the purposes of grading you should provide english translations. You are welcome to provide multiple visuals in different languages if you would like!\n",
    "\n",
    "As this assignment is for the whole course, you must incorporate principles discussed in the first week, such as having as high data-ink ratio (Tufte) and aligning with Cairo’s principles of truth, beauty, function, and insight.\n",
    "\n",
    "Here are the assignment instructions:\n",
    "\n",
    " * State the region and the domain category that your data sets are about (e.g., **Portland, Oregon, United States** and **economic activity or measures**).\n",
    " * You must state a question about the domain category and region that you identified as being interesting.\n",
    " * You must provide at least two links to available datasets. These could be links to files such as CSV or Excel files, or links to websites which might have data in tabular form, such as Wikipedia pages.\n",
    " * You must upload an image which addresses the research question you stated. In addition to addressing the question, this visual should follow Cairo's principles of truthfulness, functionality, beauty, and insightfulness.\n",
    " * You must contribute a short (1-2 paragraph) written justification of how your visualization addresses your stated research question.\n",
    "\n",
    "What do we mean by **economic activity or measures**?  For this category you might look at the inputs or outputs to the given economy, or major changes in the economy compared to other regions.\n",
    "\n",
    "## Tips\n",
    "* Wikipedia is an excellent source of data, and I strongly encourage you to explore it for new data sources.\n",
    "* Many governments run open data initiatives at the city, region, and country levels, and these are wonderful resources for localized data sources.\n",
    "* Several international agencies, such as the [United Nations](http://data.un.org/), the [World Bank](http://data.worldbank.org/), the [Global Open Data Index](http://index.okfn.org/place/) are other great places to look for data.\n",
    "* This assignment requires you to convert and clean datafiles. Check out the discussion forums for tips on how to do this from various sources, and share your successes with your fellow students!\n",
    "\n",
    "## Example\n",
    "Looking for an example? Here's what our course assistant put together for the **Ann Arbor, MI, USA** area using **sports and athletics** as the topic. [Example Solution File](./readonly/Assignment4_example.pdf)"
   ]
  },
  {
   "cell_type": "markdown",
   "metadata": {
    "ein.tags": [
     "worksheet-0"
    ],
    "slideshow": {
     "slide_type": "-"
    }
   },
   "source": [
    "# Region and Domain"
   ]
  },
  {
   "cell_type": "markdown",
   "metadata": {
    "ein.tags": [
     "worksheet-0"
    ],
    "slideshow": {
     "slide_type": "-"
    }
   },
   "source": [
    "Region: Portland, Oregon, United States\n",
    "Domain: Economic activity or measures"
   ]
  },
  {
   "cell_type": "markdown",
   "metadata": {
    "ein.tags": [
     "worksheet-0"
    ],
    "slideshow": {
     "slide_type": "-"
    }
   },
   "source": [
    "# Research Question"
   ]
  },
  {
   "cell_type": "markdown",
   "metadata": {
    "ein.tags": [
     "worksheet-0"
    ],
    "slideshow": {
     "slide_type": "-"
    }
   },
   "source": [
    "How has the unemployment rate for Portland changed over the last decade, compared to the nation as a whole, and does it change in synchrony with the Stock Market or the price of housing?"
   ]
  },
  {
   "cell_type": "markdown",
   "metadata": {
    "ein.tags": [
     "worksheet-0"
    ],
    "slideshow": {
     "slide_type": "-"
    }
   },
   "source": [
    "# Links to data"
   ]
  },
  {
   "cell_type": "markdown",
   "metadata": {
    "ein.tags": [
     "worksheet-0"
    ],
    "slideshow": {
     "slide_type": "-"
    }
   },
   "source": [
    "Portland-Vancouver-Hillsboro Unemployment Rate Data from the U.S. Bureau of Labor Statistics (BOLS)\n",
    " * https://beta.bls.gov/dataViewer/view/timeseries/LAUMT413890000000003\n",
    "\n",
    "United States Unemployment Rate Data (BOLS)\n",
    " * https://beta.bls.gov/dataViewer/view/timeseries/LNU04000000\n",
    "\n",
    "S&P 500 Index from the St. Louis Federal Reserve (FED)\n",
    " * https://fred.stlouisfed.org/series/SP500/downloaddata\n",
    "\n",
    "Purchase Only House Price Index (FED)\n",
    " * https://fred.stlouisfed.org/series/HPIPONM226S"
   ]
  },
  {
   "cell_type": "markdown",
   "metadata": {
    "ein.tags": [
     "worksheet-0"
    ],
    "slideshow": {
     "slide_type": "-"
    }
   },
   "source": [
    "# Creating the image"
   ]
  },
  {
   "cell_type": "markdown",
   "metadata": {
    "ein.tags": [
     "worksheet-0"
    ],
    "slideshow": {
     "slide_type": "-"
    }
   },
   "source": [
    "## Imports"
   ]
  },
  {
   "cell_type": "code",
   "execution_count": 105,
   "metadata": {
    "autoscroll": "json-false",
    "collapsed": false,
    "ein.tags": [
     "worksheet-0"
    ],
    "slideshow": {
     "slide_type": "-"
    }
   },
   "outputs": [],
   "source": [
    "# python standard library\n",
    "import os\n",
    "\n",
    "# third-party\n",
    "import matplotlib.pyplot as pyplot\n",
    "import numpy\n",
    "import pandas\n",
    "import requests\n",
    "import seaborn"
   ]
  },
  {
   "cell_type": "markdown",
   "metadata": {
    "ein.tags": [
     "worksheet-0"
    ],
    "slideshow": {
     "slide_type": "-"
    }
   },
   "source": [
    "## Plot setup"
   ]
  },
  {
   "cell_type": "code",
   "execution_count": 106,
   "metadata": {
    "autoscroll": "json-false",
    "collapsed": false,
    "ein.tags": [
     "worksheet-0"
    ],
    "slideshow": {
     "slide_type": "-"
    }
   },
   "outputs": [],
   "source": [
    "% matplotlib inline\n",
    "style = seaborn.axes_style(\"whitegrid\")\n",
    "style[\"axes.grid\"] = False\n",
    "seaborn.set_style(\"whitegrid\", style)"
   ]
  },
  {
   "cell_type": "markdown",
   "metadata": {
    "ein.tags": [
     "worksheet-0"
    ],
    "slideshow": {
     "slide_type": "-"
    }
   },
   "source": [
    "## Loading the Data"
   ]
  },
  {
   "cell_type": "markdown",
   "metadata": {
    "ein.tags": [
     "worksheet-0"
    ],
    "slideshow": {
     "slide_type": "-"
    }
   },
   "source": [
    "*PORTLAND_DATA* is the unemployment rate data for the Portland - Vancouver (WA) - Hillsboro area.\n",
    "*NATIONAL_DATA* is the unemployment rate data for the entire United States.\n",
    "*SP_DATA* is the S&P 500 Index data.\n",
    "*HOUSING_DATA* is the Purchase Only House Price Index data."
   ]
  },
  {
   "cell_type": "code",
   "execution_count": 107,
   "metadata": {
    "autoscroll": "json-false",
    "collapsed": false,
    "ein.tags": [
     "worksheet-0"
    ],
    "slideshow": {
     "slide_type": "-"
    }
   },
   "outputs": [],
   "source": [
    "PORTLAND_DATA = \"portland_unemployment_data.csv\"\n",
    "NATIONAL_DATA = \"national_unemployment.csv\"\n",
    "SP_DATA = \"SP500_index.csv\"\n",
    "HOUSING_DATA = \"purchase_only_house_price_index.csv\""
   ]
  },
  {
   "cell_type": "code",
   "execution_count": 108,
   "metadata": {
    "autoscroll": "json-false",
    "collapsed": false,
    "ein.tags": [
     "worksheet-0"
    ],
    "slideshow": {
     "slide_type": "-"
    }
   },
   "outputs": [],
   "source": [
    "national_unemployment_url = \"https://www.dropbox.com/s/qw2l5hmu061l8x2/national_unemployment.csv?dl=1\"\n",
    "portland_unemployment_url = \"https://www.dropbox.com/s/wvux3d7dcaae5t0/portland_unemployment_2007_2017.csv?dl=1\"\n",
    "house_price_url = \"https://www.dropbox.com/s/4hu2jpjkhcnr35k/purchase_only_house_price_index.csv?dl=1\"\n",
    "s_and_p_url = \"https://www.dropbox.com/s/ojj5zp7feid6wwl/SP500_index.csv?dl=1\""
   ]
  },
  {
   "cell_type": "code",
   "execution_count": 109,
   "metadata": {
    "autoscroll": "json-false",
    "collapsed": false,
    "ein.tags": [
     "worksheet-0"
    ],
    "slideshow": {
     "slide_type": "-"
    }
   },
   "outputs": [],
   "source": [
    "files_urls = ((PORTLAND_DATA, portland_unemployment_url),\n",
    "              (NATIONAL_DATA, national_unemployment_url),\n",
    "              (SP_DATA, s_and_p_url),\n",
    "              (HOUSING_DATA, house_price_url))\n",
    "for filename, url in files_urls:\n",
    "    if not os.path.isfile(filename):\n",
    "        response = requests.get(url)\n",
    "        with open(filename, \"w\") as writer:\n",
    "            writer.write(response.text)"
   ]
  },
  {
   "cell_type": "code",
   "execution_count": 110,
   "metadata": {
    "autoscroll": "json-false",
    "collapsed": false,
    "ein.tags": [
     "worksheet-0"
    ],
    "slideshow": {
     "slide_type": "-"
    }
   },
   "outputs": [],
   "source": [
    "portland = pandas.read_csv(PORTLAND_DATA)\n",
    "national = pandas.read_csv(NATIONAL_DATA)\n",
    "s_and_p_index = pandas.read_csv(SP_DATA, na_values=\".\")\n",
    "house_price_index = pandas.read_csv(HOUSING_DATA)"
   ]
  },
  {
   "cell_type": "markdown",
   "metadata": {
    "ein.tags": [
     "worksheet-0"
    ],
    "slideshow": {
     "slide_type": "-"
    }
   },
   "source": [
    "The national data has a value for May, while the other metrics don't so I'll delete it."
   ]
  },
  {
   "cell_type": "code",
   "execution_count": 111,
   "metadata": {
    "autoscroll": "json-false",
    "collapsed": false,
    "ein.tags": [
     "worksheet-0"
    ],
    "slideshow": {
     "slide_type": "-"
    }
   },
   "outputs": [],
   "source": [
    "national.drop([122], inplace=True)"
   ]
  },
  {
   "cell_type": "markdown",
   "metadata": {
    "ein.tags": [
     "worksheet-0"
    ],
    "slideshow": {
     "slide_type": "-"
    }
   },
   "source": [
    "I originally downloaded the data from a different part of the site so the column names changed. This code just maps the ones I use back to the older names, as well as making some easier to remember."
   ]
  },
  {
   "cell_type": "code",
   "execution_count": 112,
   "metadata": {
    "autoscroll": "json-false",
    "collapsed": false,
    "ein.tags": [
     "worksheet-0"
    ],
    "slideshow": {
     "slide_type": "-"
    }
   },
   "outputs": [],
   "source": [
    "column_renames = {\"Value\": \"unemployment_rate\",\n",
    "                  \"Label\": \"date\"}\n",
    "portland.rename(columns=column_renames,\n",
    "                inplace=True)\n",
    "national.rename(columns=column_renames, inplace=True)"
   ]
  },
  {
   "cell_type": "markdown",
   "metadata": {
    "ein.tags": [
     "worksheet-0"
    ],
    "slideshow": {
     "slide_type": "-"
    }
   },
   "source": [
    "Adjusting the house-price index (it only goes back to February 2007)."
   ]
  },
  {
   "cell_type": "code",
   "execution_count": 113,
   "metadata": {
    "autoscroll": "json-false",
    "collapsed": false,
    "ein.tags": [
     "worksheet-0"
    ],
    "slideshow": {
     "slide_type": "-"
    }
   },
   "outputs": [
    {
     "data": {
      "text/plain": [
       "         DATE  HPIPONM226S\n",
       "0  2007-02-01       225.36\n",
       "1  2007-03-01       226.52\n",
       "2  2007-04-01       226.50\n",
       "3  2007-05-01       225.40\n",
       "4  2007-06-01       224.61"
      ]
     },
     "execution_count": 113,
     "metadata": {},
     "output_type": "execute_result"
    }
   ],
   "source": [
    "house_price_index.head()"
   ]
  },
  {
   "cell_type": "code",
   "execution_count": 114,
   "metadata": {
    "autoscroll": "json-false",
    "collapsed": false,
    "ein.tags": [
     "worksheet-0"
    ],
    "slideshow": {
     "slide_type": "-"
    }
   },
   "outputs": [],
   "source": [
    "house_price_index[\"price\"] = house_price_index.HPIPONM226S\n",
    "house_price_index[\"date\"] = portland.date[1:].values\n",
    "pre = pandas.DataFrame({\"DATE\": [\"2007-01-01\"], \"HPIPONM226S\": [numpy.nan], \"price\": [numpy.nan], \"date\": [\"2007 Jan\"]})\n",
    "house_price_index = pre.append(house_price_index)\n",
    "house_price_index = house_price_index.reset_index(drop=True)"
   ]
  },
  {
   "cell_type": "markdown",
   "metadata": {
    "ein.tags": [
     "worksheet-0"
    ],
    "slideshow": {
     "slide_type": "-"
    }
   },
   "source": [
    "The S&P index doesn't start until May 2007."
   ]
  },
  {
   "cell_type": "code",
   "execution_count": 115,
   "metadata": {
    "autoscroll": "json-false",
    "collapsed": false,
    "ein.tags": [
     "worksheet-0"
    ],
    "slideshow": {
     "slide_type": "-"
    }
   },
   "outputs": [
    {
     "data": {
      "text/plain": [
       "         DATE    VALUE      date\n",
       "0  2007-01-01      NaN  2007 Jan\n",
       "1  2007-02-01      NaN  2007 Feb\n",
       "2  2007-03-01      NaN  2007 Mar\n",
       "3  2007-04-01      NaN  2007 Apr\n",
       "4  2007-05-01  1511.14  2007 May"
      ]
     },
     "execution_count": 115,
     "metadata": {},
     "output_type": "execute_result"
    }
   ],
   "source": [
    "pre = pandas.DataFrame({\"DATE\": [\"2007-01-01\", \"2007-02-01\", \"2007-03-01\"], \"VALUE\": [numpy.nan, numpy.nan, numpy.nan]})\n",
    "s_and_p_index = pre.append(s_and_p_index)\n",
    "s_and_p_index[\"date\"] = portland.date.values\n",
    "s_and_p_index = s_and_p_index.reset_index(drop=True)\n",
    "s_and_p_index.head()"
   ]
  },
  {
   "cell_type": "markdown",
   "metadata": {
    "ein.tags": [
     "worksheet-0"
    ],
    "slideshow": {
     "slide_type": "-"
    }
   },
   "source": [
    "## some extreme values"
   ]
  },
  {
   "cell_type": "code",
   "execution_count": 116,
   "metadata": {
    "autoscroll": "json-false",
    "collapsed": false,
    "ein.tags": [
     "worksheet-0"
    ],
    "slideshow": {
     "slide_type": "-"
    }
   },
   "outputs": [
    {
     "name": "stdout",
     "output_type": "stream",
     "text": [
      "29    2009 Jun\n",
      "36    2010 Jan\n",
      "Name: date, dtype: object\n"
     ]
    }
   ],
   "source": [
    "highest_unemployment = portland.unemployment_rate.max()\n",
    "unemployment_peaks = numpy.where(portland.unemployment_rate==highest_unemployment)[0]\n",
    "print(str(portland.date.ix[numpy.where(\n",
    "    portland.unemployment_rate==highest_unemployment)]))"
   ]
  },
  {
   "cell_type": "code",
   "execution_count": 117,
   "metadata": {
    "autoscroll": "json-false",
    "collapsed": false,
    "ein.tags": [
     "worksheet-0"
    ],
    "slideshow": {
     "slide_type": "-"
    }
   },
   "outputs": [
    {
     "name": "stdout",
     "output_type": "stream",
     "text": [
      "10.6\n",
      "36    2010 Jan\n",
      "Name: date, dtype: object\n"
     ]
    }
   ],
   "source": [
    "peak = national.unemployment_rate.max()\n",
    "print(peak)\n",
    "national_peak = numpy.where(national.unemployment_rate==peak)\n",
    "print(national.date.iloc[national_peak])"
   ]
  },
  {
   "cell_type": "markdown",
   "metadata": {
    "ein.tags": [
     "worksheet-0"
    ],
    "slideshow": {
     "slide_type": "-"
    }
   },
   "source": [
    "According to the [[https://www.nber.org/cycles.html][National Bureau of Economic Research]], the most recent economic contraction occurred from December 2007 through June 2009 which falls within the data set so I'll highlight that on the plot."
   ]
  },
  {
   "cell_type": "code",
   "execution_count": 118,
   "metadata": {
    "autoscroll": "json-false",
    "collapsed": false,
    "ein.tags": [
     "worksheet-0"
    ],
    "slideshow": {
     "slide_type": "-"
    }
   },
   "outputs": [
    {
     "name": "stdout",
     "output_type": "stream",
     "text": [
      "4.8\n",
      "11.4\n"
     ]
    }
   ],
   "source": [
    "recession_start = numpy.where(portland.date==\"2007 Dec\")[0][0]\n",
    "recession_end = numpy.where(portland.date==\"2009 Jun\")[0][0]\n",
    "portland_recession_start = portland.unemployment_rate.iloc[recession_start]\n",
    "print(portland_recession_start)\n",
    "print(portland.unemployment_rate.iloc[recession_end])"
   ]
  },
  {
   "cell_type": "code",
   "execution_count": 119,
   "metadata": {
    "autoscroll": "json-false",
    "collapsed": false,
    "ein.tags": [
     "worksheet-0"
    ],
    "slideshow": {
     "slide_type": "-"
    }
   },
   "outputs": [
    {
     "data": {
      "text/plain": [
       "'2015 Oct'"
      ]
     },
     "execution_count": 119,
     "metadata": {},
     "output_type": "execute_result"
    }
   ],
   "source": [
    "national_recession_start = national.unemployment_rate.iloc[recession_start]\n",
    "post_recession = national[national.Year > 2009]\n",
    "index = numpy.where(post_recession.unemployment_rate==national_recession_start)[0][0]\n",
    "post_recession.date.iloc[index]"
   ]
  },
  {
   "cell_type": "code",
   "execution_count": 120,
   "metadata": {
    "autoscroll": "json-false",
    "collapsed": false,
    "ein.tags": [
     "worksheet-0"
    ],
    "slideshow": {
     "slide_type": "-"
    }
   },
   "outputs": [
    {
     "name": "stdout",
     "output_type": "stream",
     "text": [
      "26    2009 Mar\n",
      "Name: date, dtype: object\n"
     ]
    }
   ],
   "source": [
    "s_and_p_nadir = s_and_p_index.VALUE.min()\n",
    "s_and_p_nadir = numpy.where(s_and_p_index.VALUE==s_and_p_nadir)[0]\n",
    "print(s_and_p_index.date.iloc[s_and_p_nadir])"
   ]
  },
  {
   "cell_type": "code",
   "execution_count": 121,
   "metadata": {
    "autoscroll": "json-false",
    "collapsed": false,
    "ein.tags": [
     "worksheet-0"
    ],
    "slideshow": {
     "slide_type": "-"
    }
   },
   "outputs": [
    {
     "name": "stdout",
     "output_type": "stream",
     "text": [
      "179.22\n",
      "52    2011 May\n",
      "Name: date, dtype: object\n"
     ]
    }
   ],
   "source": [
    "housing_nadir = house_price_index.price.min()\n",
    "print(housing_nadir)\n",
    "housing_nadir = numpy.where(house_price_index.price==housing_nadir)[0]\n",
    "print(house_price_index.date.iloc[housing_nadir])"
   ]
  },
  {
   "cell_type": "code",
   "execution_count": 123,
   "metadata": {
    "autoscroll": "json-false",
    "collapsed": false,
    "ein.tags": [
     "worksheet-0"
    ],
    "slideshow": {
     "slide_type": "-"
    }
   },
   "outputs": [
    {
     "data": {
      "image/png": "[encoded data removed]",
      "text/plain": [
       "<matplotlib.figure.Figure at 0x7f24f3da2358>"
      ]
     },
     "metadata": {},
     "output_type": "display_data"
    }
   ],
   "source": [
    "figure , axes = pyplot.subplots(3,\n",
    "                                sharex=True)\n",
    "(sp_axe, housing_axe, unemployment_axe) = axes\n",
    "figure.set_size_inches(10, 10)\n",
    "\n",
    "# plot the data\n",
    "s_and_p_index.plot(x=\"date\", y=\"VALUE\", ax=sp_axe,\n",
    "                   legend=False)\n",
    "house_price_index.plot(x=\"date\", y=\"price\", ax=housing_axe,\n",
    "                       legend=False)\n",
    "\n",
    "national.plot(x=\"date\", y=\"unemployment_rate\", ax=unemployment_axe,\n",
    "              legend=False)\n",
    "portland.plot(x=\"date\", y=\"unemployment_rate\", ax=unemployment_axe,\n",
    "              legend=False)\n",
    "\n",
    "# plot the peaks/low-points as vertical lines\n",
    "peak_color = \"darkorange\"\n",
    "# portland-unemployment peaks\n",
    "for peak in unemployment_peaks:\n",
    "    for axe in axes:\n",
    "        axe.axvline(peak, color=peak_color)\n",
    "\n",
    "points = ((s_and_p_nadir, \"crimson\"),\n",
    "          (housing_nadir, \"limegreen\"),\n",
    "          (national_peak, \"grey\"))\n",
    "          \n",
    "for point, color in points:\n",
    "    for axe in axes:\n",
    "        axe.axvline(point, color=color)\n",
    "\n",
    "# level at the start of the recession (it was the same for both Portland and the U.S.)\n",
    "unemployment_axe.axhline(national.unemployment_rate.iloc[recession_start], alpha=0.25)\n",
    "housing_axe.axhline(\n",
    "    house_price_index.price.iloc[\n",
    "        numpy.where(house_price_index.date==\"2007 Dec\")[0][0]], alpha=0.25)\n",
    "sp_axe.axhline(\n",
    "    s_and_p_index.VALUE.iloc[\n",
    "        numpy.where(s_and_p_index.date==\"2007 Dec\")[0][0]], alpha=0.25)\n",
    "\n",
    "# add labels \n",
    "unemployment_axe.set_ylabel(\"% Unemployment\")\n",
    "unemployment_axe.set_xlabel(\"\")\n",
    "\n",
    "housing_axe.set_ylabel(\"Sale Price ($1,000)\")\n",
    "sp_axe.set_ylabel(\"S&P 500 Index\")\n",
    "\n",
    "figure.suptitle(\"Unemployment Rate April 2007 To February 2017 with S&P 500 Index and House Price Index\",\n",
    "                weight=\"bold\")\n",
    "\n",
    "# label the data lines\n",
    "last = portland.date.count()\n",
    "unemployment_axe.text(last, national.unemployment_rate.iloc[-1], \"National\")\n",
    "unemployment_axe.text(last, portland.unemployment_rate.iloc[-1], \"Portland-Hillsboro-Vancouver\")\n",
    "sp_axe.text(last, s_and_p_index.VALUE.iloc[-1], \"S&P 500\")\n",
    "housing_axe.text(last, house_price_index.price.iloc[-1], \"House Price Index\")\n",
    "\n",
    "# color in the recession\n",
    "sp_axe.axvspan(recession_start, recession_end, alpha=0.25, facecolor='royalblue')\n",
    "housing_axe.axvspan(recession_start, recession_end, alpha=0.25, facecolor='royalblue')\n",
    "unemployment_axe.axvspan(recession_start, recession_end, alpha=0.25, facecolor='royalblue')\n",
    "\n",
    "# label the vertical lines\n",
    "sp_axe.text(s_and_p_nadir, s_and_p_index.VALUE.max() + 450, \"S&P Low\", rotation=45)\n",
    "sp_axe.text(unemployment_peaks[0], s_and_p_index.VALUE.max() + 575,  \"Portland High\", rotation=45)\n",
    "sp_axe.text(housing_nadir, s_and_p_index.VALUE.max() + 550, \"Housing Low\", rotation=45)\n",
    "sp_axe.text(36, s_and_p_index.VALUE.max() + 450, \"U.S. High\", rotation=45)\n",
    "seaborn.despine()\n",
    "\n",
    "# add a caption\n",
    "# text = figure.text(.1,.000001, \"\"\"\n",
    "#    Monthly Unadjusted Unemployment Rates for the Portland-Hillsboro-Vancouver area and the entire United States of America compared with the S&P 500 Index and\n",
    "#    House Price Index for the same period. The blue highlighted area is a period of economic contraction (December 2007 through June 2009) defined by the National \n",
    "#    Bureau of Economic Research. The vertical lines represent (red) the low-point for the S&P 500, (orange) the first peak of the Portland-Hillsboro-Vancouver area \n",
    "#    unemployment, (gray) the peak of U.S. unemployment (overlaps second Portland-area value matching its first peak), and (green) the low-point for the house-price index.\n",
    "#    The horizontal lines are the values for the metrics at the start of the recession.\"\"\")"
   ]
  },
  {
   "cell_type": "markdown",
   "metadata": {
    "ein.tags": [
     "worksheet-0"
    ],
    "slideshow": {
     "slide_type": "-"
    }
   },
   "source": [
    "The visualization created was meant to show how Portland, Oregon, United States' unemployment rate related to the national unemployment rate, the stock market, and housing prices. The seasonally unadjusted employment rates for the Portland-Vancouver-Hillsboro area were retrieved from the Bureau of Labor Statistics' web-site, along with the unadjusted unemployment rates for the nation as a whole for the months from January 2017 through February 2017. Hillsboro is an incorporated part of metropolitan Portland and Vancouver is just North of Portland so many of its residents commute to Portland to work, and vice-versa. The monthly S&P 500 Index from May 2007 through February 2017 along with the Purchase Only Price Index from February 2007 through February 2017 were retrieved from the St. Louis Federal Reserve website. The S&P 500 index is the market capitalization of 500 large companies listed on the New York Stock Exchange or NASDAQ. The Purchase Only House Price Index is the average price change in repeat sales or refinancing of the same houses and is maintained by Federal Housing Finance Agency. The begining and ending of the recession within this time period was taken from the National Bureau of Economic Research (https://www.nber.org/cycles.html). The data was plotted with a shared x-axis and three separate y-axes so that the states of each could be compared at the same point in time without distorting the plots due to the differing scales for each metric.\n",
    "\n",
    "The visualization shows that during the recession, beginning in roughly September 2008, Portland's unemployment rate rose faster than the nation as a whole did, but by roughly May 2011 (coinciding with the lowest valuation for the House Price Index) it had dropped slightly lower than the national rate and has stayed in step with it, although it has thus far not followed the uptick in the national rate that began in November of 2016. Additionally the visualization shows the relative timing of the changes in the three metrics. In the year leading up to the recession, unemployment was relatively flat (ignoring the seasonal changes) and the S&P also began relatively flat but then began a downward trend later in the year, the House Price Index, on the other hand, spent most of it starting what would become a four-year decline (since this was during the sub-prime mortgage crisis, this is perhaps not so surprising). The S&P 500 hit its low point during the recession, as might be expected, but the peaks for the unemployment rates occured when the recession was already over. Also, while the S&P 500 recovered relatively quickly, the unemployment rates for both Portland and the United States as a whole did not reach their level that they were at at the beginning of the recession until October 2015."
   ]
  }
 ],
 "metadata": {
  "kernelspec": {
   "display_name": "Python 3",
   "name": "python3"
  },
  "language_info": {
   "codemirror_mode": {
    "name": "ipython",
    "version": 3
   },
   "file_extension": ".py",
   "mimetype": "text/x-python",
   "name": "python",
   "nbconvert_exporter": "python",
   "pygments_lexer": "ipython3",
   "version": "3.5.2"
  },
  "name": "Assignment4_submission.ipynb"
 },
 "nbformat": 4,
 "nbformat_minor": 1
}
