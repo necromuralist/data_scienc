{
 "cells": [
  {
   "cell_type": "markdown",
   "metadata": {
    "deletable": true,
    "editable": true,
    "ein.tags": [
     "worksheet-0"
    ],
    "slideshow": {
     "slide_type": "-"
    }
   },
   "source": [
    "---\n",
    "\n",
    "_You are currently looking at **version 1.5** of this notebook. To download notebooks and datafiles, as well as get help on Jupyter notebooks in the Coursera platform, visit the [Jupyter Notebook FAQ](https://www.coursera.org/learn/python-data-analysis/resources/0dhYG) course resource._\n",
    "\n",
    "---"
   ]
  },
  {
   "cell_type": "markdown",
   "metadata": {
    "deletable": true,
    "editable": true,
    "ein.tags": [
     "worksheet-0"
    ],
    "slideshow": {
     "slide_type": "-"
    }
   },
   "source": [
    "# Assignment 3 - More Pandas\n",
    "This assignment requires more individual learning then the last one did - you are encouraged to check out the [pandas documentation](http://pandas.pydata.org/pandas-docs/stable/) to find functions or methods you might not have used yet, or ask questions on [Stack Overflow](http://stackoverflow.com/) and tag them as pandas and python related. And of course, the discussion forums are open for interaction with your peers and the course staff."
   ]
  },
  {
   "cell_type": "code",
   "execution_count": 1,
   "metadata": {
    "autoscroll": "json-false",
    "collapsed": false,
    "deletable": true,
    "editable": true,
    "ein.tags": [
     "worksheet-0"
    ],
    "slideshow": {
     "slide_type": "-"
    }
   },
   "outputs": [],
   "source": [
    "# python standard library\n",
    "import re\n",
    "from abc import ABCMeta\n",
    "from abc import abstractproperty\n",
    "from collections import namedtuple\n",
    "\n",
    "# third party\n",
    "import pandas"
   ]
  },
  {
   "cell_type": "code",
   "execution_count": 2,
   "metadata": {
    "autoscroll": "json-false",
    "collapsed": false,
    "deletable": true,
    "editable": true,
    "ein.tags": [
     "worksheet-0"
    ],
    "slideshow": {
     "slide_type": "-"
    }
   },
   "outputs": [],
   "source": [
    "COLUMN_AXIS = 1"
   ]
  },
  {
   "cell_type": "code",
   "execution_count": 3,
   "metadata": {
    "autoscroll": "json-false",
    "collapsed": false,
    "deletable": true,
    "editable": true,
    "ein.tags": [
     "worksheet-0"
    ],
    "slideshow": {
     "slide_type": "-"
    }
   },
   "outputs": [],
   "source": [
    "class BaseData(object):\n",
    "    \"\"\"base class for the data-loaders\n",
    "\n",
    "    Parameters\n",
    "    ----------\n",
    "\n",
    "    constants: object\n",
    "       object with the constant values expected by the data-builder\n",
    "    \"\"\"\n",
    "    __metaclass__ = ABCMeta\n",
    "\n",
    "    def __init__(self, constants):\n",
    "        self.constants = constants\n",
    "        self._data = None\n",
    "        return\n",
    "\n",
    "\n",
    "    def rename_countries(self, country):\n",
    "        \"\"\"renames country\n",
    "\n",
    "        .. note:: Expects the constants to have a dict named `country_remap`\n",
    "\n",
    "        Parameters\n",
    "        ----------\n",
    "\n",
    "        country (str):\n",
    "           name of the country\n",
    "\n",
    "        Returns\n",
    "        -------\n",
    "\n",
    "        str: country to use in the column\n",
    "        \"\"\"\n",
    "        return self.constants.country_remap.get(country, country)\n",
    "\n",
    "    @abstractproperty\n",
    "    def data(self):\n",
    "        \"\"\"the data-frame\"\"\"\n",
    "        return"
   ]
  },
  {
   "cell_type": "markdown",
   "metadata": {
    "deletable": true,
    "editable": true,
    "ein.tags": [
     "worksheet-0"
    ],
    "slideshow": {
     "slide_type": "-"
    }
   },
   "source": [
    "### Question 1 (20%)\n",
    "Load the energy data from the file `Energy Indicators.xls`, which is a list of indicators of [energy supply and renewable electricity production](Energy%20Indicators.xls) from the [United Nations](http://unstats.un.org/unsd/environment/excel_file_tables/2013/Energy%20Indicators.xls) for the year 2013, and should be put into a DataFrame with the variable name of **energy**.\n",
    "\n",
    "Keep in mind that this is an Excel file, and not a comma separated values file. Also, make sure to exclude the footer and header information from the datafile. The first two columns are unneccessary, so you should get rid of them, and you should change the column labels so that the columns are:\n",
    "\n",
    "`['Country', 'Energy Supply', 'Energy Supply per Capita', '% Renewable']`\n",
    "\n",
    "Convert `Energy Supply` to gigajoules (there are 1,000,000 gigajoules in a petajoule). For all countries which have missing data (e.g. data with \"...\") make sure this is reflected as `np.NaN` values.\n",
    "\n",
    "Rename the following list of countries (for use in later questions):\n",
    "\n",
    "```\"Republic of Korea\": \"South Korea\",\n",
    "\"United States of America\": \"United States\",\n",
    "\"United Kingdom of Great Britain and Northern Ireland\": \"United Kingdom\",\n",
    "\"China, Hong Kong Special Administrative Region\": \"Hong Kong\"```\n",
    "\n",
    "There are also several countries with numbers and/or parenthesis in their name. Be sure to remove these, \n",
    "\n",
    "e.g. \n",
    "\n",
    "`'Bolivia (Plurinational State of)'` should be `'Bolivia'`, \n",
    "\n",
    "`'Switzerland17'` should be `'Switzerland'`.\n",
    "\n",
    "<br>\n",
    "\n",
    "Next, load the GDP data from the file `world_bank.csv`, which is a csv containing countries' GDP from 1960 to 2015 from [World Bank](http://data.worldbank.org/indicator/NY.GDP.MKTP.CD). Call this DataFrame **GDP**. \n",
    "\n",
    "Make sure to skip the header, and rename the following list of countries:\n",
    "\n",
    "```\"Korea, Rep.\": \"South Korea\", \n",
    "\"Iran, Islamic Rep.\": \"Iran\",\n",
    "\"Hong Kong SAR, China\": \"Hong Kong\"```\n",
    "\n",
    "<br>\n",
    "\n",
    "Finally, load the [Sciamgo Journal and Country Rank data for Energy Engineering and Power Technology](http://www.scimagojr.com/countryrank.php?category=2102) from the file `scimagojr-3.xlsx`, which ranks countries based on their journal contributions in the aforementioned area. Call this DataFrame **ScimEn**.\n",
    "\n",
    "Join the three datasets: GDP, Energy, and ScimEn into a new dataset (using the intersection of country names). Use only the last 10 years (2006-2015) of GDP data and only the top 15 countries by Scimagojr 'Rank' (Rank 1 through 15). \n",
    "\n",
    "The index of this DataFrame should be the name of the country, and the columns should be ['Rank', 'Documents', 'Citable documents', 'Citations', 'Self-citations',\n",
    "       'Citations per document', 'H index', 'Energy Supply',\n",
    "       'Energy Supply per Capita', '% Renewable', '2006', '2007', '2008',\n",
    "       '2009', '2010', '2011', '2012', '2013', '2014', '2015'].\n",
    "\n",
    "*This function should return a DataFrame with 20 columns and 15 entries.*"
   ]
  },
  {
   "cell_type": "code",
   "execution_count": 4,
   "metadata": {
    "autoscroll": "json-false",
    "collapsed": false,
    "deletable": true,
    "editable": true,
    "ein.tags": [
     "worksheet-0"
    ],
    "slideshow": {
     "slide_type": "-"
    }
   },
   "outputs": [],
   "source": [
    "class EnergyIndicatorsConstants:\n",
    "    source = \"Energy Indicators.xls\"\n",
    "    columns = ['Country', 'Energy Supply', 'Energy Supply per Capita',\n",
    "               '% Renewable']\n",
    "    header_rows = 17\n",
    "    footer_rows = 38\n",
    "    remove_columns_count = 2\n",
    "    missing_values = \"...\"\n",
    "    country_remap = {\"Republic of Korea\": \"South Korea\",\n",
    "                     \"United States of America20\": \"United States\",\n",
    "                     \"United Kingdom of Great Britain and Northern Ireland19\": \"United Kingdom\",\n",
    "                     \"China, Hong Kong Special Administrative Region3\": \"Hong Kong\",\n",
    "                     \"China, Macao Special Administrative Region4\": \"Macao\"}\n",
    "    # this will wipe out Hong Kong so use the regex after the remap\n",
    "    country_key = \"country\"\n",
    "    country_regex = re.compile(\n",
    "        \"(?P<{0}>[a-zA-Z\\s]+)\\b?(\\(|\\d)*\".format(country_key))\n",
    "    \n",
    "class EnergyIndicatorsKeys(object):\n",
    "    \"\"\"Keys for the data-frame\"\"\"\n",
    "    country_name = \"Country\"\n",
    "    per_capita = \"Energy Supply per Capita\"\n",
    "    percent_renewable = \"% Renewable\"\n",
    "    population = \"population\"\n",
    "    total_supply = \"Energy Supply\"\n",
    "\n",
    "class UnitConverter(object):\n",
    "    petajoule_to_gigajoule = 10**6\n",
    "    "
   ]
  },
  {
   "cell_type": "code",
   "execution_count": 5,
   "metadata": {
    "autoscroll": "json-false",
    "collapsed": false,
    "deletable": true,
    "editable": true,
    "ein.tags": [
     "worksheet-0"
    ],
    "slideshow": {
     "slide_type": "-"
    }
   },
   "outputs": [],
   "source": [
    "class EnergyIndicators(BaseData):\n",
    "    \"\"\"builds the energy indicator data-frame\n",
    "\n",
    "    Parameters\n",
    "    ----------\n",
    "\n",
    "    constants (objects): object with the string constants\n",
    "    \"\"\"\n",
    "    def __init__(self, *args, **kwargs):\n",
    "        super(EnergyIndicators, self).__init__(*args, **kwargs)\n",
    "        self._to_remove = None\n",
    "        return\n",
    "\n",
    "    @property\n",
    "    def to_remove(self):\n",
    "        \"\"\"leading columns to remove\n",
    "\n",
    "        Returns\n",
    "        -------\n",
    "\n",
    "        list: names to use for columns to remove from the beginning of sheet\n",
    "        \"\"\"\n",
    "        if self._to_remove is None:\n",
    "            self._to_remove = [\n",
    "                \"Bad_{0}\".format(index)\n",
    "                for index in range(self.constants.remove_columns_count)]\n",
    "        return self._to_remove\n",
    "\n",
    "    def clean_countries(self, country):\n",
    "        \"\"\"Gets rid of the extra characters put in by the excel spreadsheet\n",
    "\n",
    "        Parameters\n",
    "        ----------\n",
    "\n",
    "        country: string\n",
    "            country name to clean up\n",
    "\n",
    "        Returns\n",
    "        -------\n",
    "\n",
    "        str: country name with extra characters removed\n",
    "        \"\"\"\n",
    "        return self.constants.country_regex.search(country).group(\n",
    "            self.constants.country_key)\n",
    "\n",
    "\n",
    "    @property\n",
    "    def data(self):\n",
    "        \"\"\"DataFrame with energy indicators\"\"\"\n",
    "        if self._data is None:\n",
    "            self._data = pandas.read_excel(self.constants.source,\n",
    "                                           names=self.to_remove + self.constants.columns,\n",
    "                                           skiprows=self.constants.header_rows,\n",
    "                                           skip_footer=self.constants.footer_rows,\n",
    "                                           na_values=self.constants.missing_values)\n",
    "\n",
    "            # get rid of the first two columns\n",
    "            self._data = self._data.drop(self.to_remove, axis=1)\n",
    "            self._data[\"Energy Supply\"] *= UnitConverter.petajoule_to_gigajoule\n",
    "            self._data.Country = self._data.Country.map(self.rename_countries)\n",
    "            self._data.Country = self._data.Country.map(self.clean_countries)\n",
    "            # Iran is ending up with trailing spaces\n",
    "            self._data.Country = self._data.Country.str.strip()\n",
    "        return self._data"
   ]
  },
  {
   "cell_type": "code",
   "execution_count": 6,
   "metadata": {
    "autoscroll": "json-false",
    "collapsed": false,
    "deletable": true,
    "editable": true,
    "ein.tags": [
     "worksheet-0"
    ],
    "slideshow": {
     "slide_type": "-"
    }
   },
   "outputs": [],
   "source": [
    " class GDPConstants(object):\n",
    "     \"\"\"holds values for the GDP data\"\"\"\n",
    "     source = \"world_bank.csv\"\n",
    "     header_rows = 4\n",
    "     # the columns are based on Question one, not the data description\n",
    "     columns = ([\"Country Name\"] +\n",
    "                [str(year) for year in range(2006, 2016)])\n",
    "     country_remap = {\"Hong Kong SAR, China\": \"Hong Kong\",\n",
    "                      \"Iran, Islamic Rep.\": \"Iran\",\n",
    "                      \"Korea, Rep.\": \"South Korea\"}"
   ]
  },
  {
   "cell_type": "code",
   "execution_count": 7,
   "metadata": {
    "autoscroll": "json-false",
    "collapsed": false,
    "deletable": true,
    "editable": true,
    "ein.tags": [
     "worksheet-0"
    ],
    "slideshow": {
     "slide_type": "-"
    }
   },
   "outputs": [],
   "source": [
    "class GDPKeys(object):\n",
    "    \"\"\"column names for the GDP data\"\"\"\n",
    "    country_name = \"Country Name\"\n",
    "    last_ten_years = [str(year) for year in range(2006, 2016)]\n",
    "    first_year = last_ten_years[0]\n",
    "    last_year = last_ten_years[-1]"
   ]
  },
  {
   "cell_type": "code",
   "execution_count": 8,
   "metadata": {
    "autoscroll": "json-false",
    "collapsed": false,
    "deletable": true,
    "editable": true,
    "ein.tags": [
     "worksheet-0"
    ],
    "slideshow": {
     "slide_type": "-"
    }
   },
   "outputs": [],
   "source": [
    " class GDPData(BaseData):\n",
    "     \"\"\"loads and cleans the gdp data\n",
    "\n",
    "     Parameters\n",
    "     ----------\n",
    "\n",
    "     constants : object\n",
    "        object with the string constants\n",
    "     \"\"\"\n",
    "     def __init__(self, *args, **kwargs):\n",
    "         super(GDPData, self).__init__(*args, **kwargs)\n",
    "         return\n",
    "\n",
    "     @property\n",
    "     def data(self):\n",
    "         \"\"\"the GDP data\n",
    "\n",
    "         Returns\n",
    "         -------\n",
    "\n",
    "         DataFrame: cleaned GPD data\n",
    "         \"\"\"\n",
    "         if self._data is None:\n",
    "             self._data = pandas.read_csv(self.constants.source,\n",
    "                                          skiprows=self.constants.header_rows,\n",
    "                                          usecols=self.constants.columns)\n",
    "             self._data[GDPKeys.country_name] = self._data[GDPKeys.country_name].map(\n",
    "                 self.rename_countries)\n",
    "         return self._data"
   ]
  },
  {
   "cell_type": "code",
   "execution_count": 9,
   "metadata": {
    "autoscroll": "json-false",
    "collapsed": false,
    "deletable": true,
    "editable": true,
    "ein.tags": [
     "worksheet-0"
    ],
    "slideshow": {
     "slide_type": "-"
    }
   },
   "outputs": [],
   "source": [
    "class SciamgoConstants(object):\n",
    "    \"\"\"strings and such to load and clean the Sciamgo data\"\"\"\n",
    "    source = \"scimagojr-3.xlsx\"\n",
    "\n",
    "class SciamgoKeys(object):\n",
    "     \"\"\"Keys for the data-frame\"\"\"\n",
    "     country_name = 'Country'\n",
    "     self_citations = \"Self-citations\"\n",
    "     total_citations = \"Citations\"\n",
    "     self_to_total_citations = \"self_to_total_citations\"\n",
    "     citable_documents = \"Citable documents\"\n",
    "     citable_documents_per_capita = \"citable_documents_per_capti\"\n",
    "\n",
    "class SciamgoData(BaseData):\n",
    "    \"\"\"loads the Sciamgo Journal Country Rank data\"\"\"\n",
    "    def __init__(self, *args, **kwargs):\n",
    "        super(SciamgoData, self).__init__(*args, **kwargs)\n",
    "        self._top_15 = None\n",
    "        return\n",
    "\n",
    "    @property\n",
    "    def data(self):\n",
    "        \"\"\"the Sciamgo data\n",
    "\n",
    "        Returns\n",
    "        -------\n",
    "\n",
    "        DataFrame: the country rank data\n",
    "        \"\"\"\n",
    "        if self._data is None:\n",
    "            self._data = pandas.read_excel(self.constants.source)\n",
    "        return self._data\n",
    "\n",
    "    @property\n",
    "    def top_15(self):\n",
    "        \"\"\"Returns the top 15 entries by rank\n",
    "\n",
    "        This is needed because question two wants you to compare how much you \n",
    "        have after you merge without the slice\n",
    "\n",
    "        Returns\n",
    "        -------\n",
    "\n",
    "        DataFrame: slice of top 15 countries by rank\n",
    "        \"\"\"\n",
    "        if self._top_15 is None:\n",
    "            self._top_15 = self.data[self.data.Rank < 16]\n",
    "        return self._top_15"
   ]
  },
  {
   "cell_type": "code",
   "execution_count": 10,
   "metadata": {
    "autoscroll": "json-false",
    "collapsed": false,
    "deletable": true,
    "editable": true,
    "ein.tags": [
     "worksheet-0"
    ],
    "slideshow": {
     "slide_type": "-"
    }
   },
   "outputs": [],
   "source": [
    "DataFrames = namedtuple(\"DataFrames\", \"energy gdp sciamgo\".split())"
   ]
  },
  {
   "cell_type": "code",
   "execution_count": 11,
   "metadata": {
    "autoscroll": "json-false",
    "collapsed": false,
    "deletable": true,
    "editable": true,
    "ein.tags": [
     "worksheet-0"
    ],
    "slideshow": {
     "slide_type": "-"
    }
   },
   "outputs": [],
   "source": [
    "def build_data_frames():\n",
    "     \"\"\"builds the three data-frames\n",
    "\n",
    "     Returns\n",
    "     -------\n",
    "\n",
    "     DataFrames: named tuple with the three data-frame builders\n",
    "\n",
    "      ,* energy: EnergyIndicators\n",
    "      ,* gdp: GDPData\n",
    "      ,* sciamgo: SciamgoData\n",
    "     \"\"\"\n",
    "     energy_indicators = EnergyIndicators(EnergyIndicatorsConstants)\n",
    "     gdp = GDPData(GDPConstants)\n",
    "     sciamgo = SciamgoData(SciamgoConstants)\n",
    "     return DataFrames(energy=energy_indicators, gdp=gdp, sciamgo=sciamgo)\n"
   ]
  },
  {
   "cell_type": "code",
   "execution_count": 12,
   "metadata": {
    "autoscroll": "json-false",
    "collapsed": false,
    "deletable": true,
    "editable": true,
    "ein.tags": [
     "worksheet-0"
    ],
    "slideshow": {
     "slide_type": "-"
    }
   },
   "outputs": [
    {
     "ename": "FileNotFoundError",
     "evalue": "[Errno 2] No such file or directory: 'Energy Indicators.xls'",
     "output_type": "error",
     "traceback": [
      "\u001b[0;31m---------------------------------------------------------------------------\u001b[0m",
      "\u001b[0;31mFileNotFoundError\u001b[0m                         Traceback (most recent call last)",
      "\u001b[0;32m<ipython-input-12-17a012ecfd7e>\u001b[0m in \u001b[0;36m<module>\u001b[0;34m()\u001b[0m\n\u001b[1;32m     20\u001b[0m     \u001b[0;32mreturn\u001b[0m \u001b[0mmerged\u001b[0m\u001b[0;34m.\u001b[0m\u001b[0mdrop\u001b[0m\u001b[0;34m(\u001b[0m\u001b[0mlabels\u001b[0m\u001b[0;34m=\u001b[0m\u001b[0;34m[\u001b[0m\u001b[0mSciamgoKeys\u001b[0m\u001b[0;34m.\u001b[0m\u001b[0mcountry_name\u001b[0m\u001b[0;34m,\u001b[0m \u001b[0mGDPKeys\u001b[0m\u001b[0;34m.\u001b[0m\u001b[0mcountry_name\u001b[0m\u001b[0;34m]\u001b[0m\u001b[0;34m,\u001b[0m \u001b[0maxis\u001b[0m\u001b[0;34m=\u001b[0m\u001b[0mCOLUMN_AXIS\u001b[0m\u001b[0;34m)\u001b[0m\u001b[0;34m\u001b[0m\u001b[0m\n\u001b[1;32m     21\u001b[0m \u001b[0;34m\u001b[0m\u001b[0m\n\u001b[0;32m---> 22\u001b[0;31m \u001b[0mmerged\u001b[0m \u001b[0;34m=\u001b[0m \u001b[0manswer_one\u001b[0m\u001b[0;34m(\u001b[0m\u001b[0;34m)\u001b[0m\u001b[0;34m\u001b[0m\u001b[0m\n\u001b[0m\u001b[1;32m     23\u001b[0m expected_columns = ['Rank', 'Documents', 'Citable documents', \n\u001b[1;32m     24\u001b[0m                     \u001b[0;34m'Citations'\u001b[0m\u001b[0;34m,\u001b[0m \u001b[0;34m'Self-citations'\u001b[0m\u001b[0;34m,\u001b[0m\u001b[0;34m\u001b[0m\u001b[0m\n",
      "\u001b[0;32m<ipython-input-12-17a012ecfd7e>\u001b[0m in \u001b[0;36manswer_one\u001b[0;34m()\u001b[0m\n\u001b[1;32m     12\u001b[0m     \"\"\"\n\u001b[1;32m     13\u001b[0m     \u001b[0mframes\u001b[0m \u001b[0;34m=\u001b[0m \u001b[0mbuild_data_frames\u001b[0m\u001b[0;34m(\u001b[0m\u001b[0;34m)\u001b[0m\u001b[0;34m\u001b[0m\u001b[0m\n\u001b[0;32m---> 14\u001b[0;31m     merged = pandas.merge(frames.sciamgo.top_15, frames.energy.data, how=\"left\",\n\u001b[0m\u001b[1;32m     15\u001b[0m                           on=[SciamgoKeys.country_name,\n\u001b[1;32m     16\u001b[0m                               EnergyIndicatorsKeys.country_name])\n",
      "\u001b[0;32m<ipython-input-5-d618c98dd246>\u001b[0m in \u001b[0;36mdata\u001b[0;34m(self)\u001b[0m\n\u001b[1;32m     53\u001b[0m                                            \u001b[0mskiprows\u001b[0m\u001b[0;34m=\u001b[0m\u001b[0mself\u001b[0m\u001b[0;34m.\u001b[0m\u001b[0mconstants\u001b[0m\u001b[0;34m.\u001b[0m\u001b[0mheader_rows\u001b[0m\u001b[0;34m,\u001b[0m\u001b[0;34m\u001b[0m\u001b[0m\n\u001b[1;32m     54\u001b[0m                                            \u001b[0mskip_footer\u001b[0m\u001b[0;34m=\u001b[0m\u001b[0mself\u001b[0m\u001b[0;34m.\u001b[0m\u001b[0mconstants\u001b[0m\u001b[0;34m.\u001b[0m\u001b[0mfooter_rows\u001b[0m\u001b[0;34m,\u001b[0m\u001b[0;34m\u001b[0m\u001b[0m\n\u001b[0;32m---> 55\u001b[0;31m                                            na_values=self.constants.missing_values)\n\u001b[0m\u001b[1;32m     56\u001b[0m \u001b[0;34m\u001b[0m\u001b[0m\n\u001b[1;32m     57\u001b[0m             \u001b[0;31m# get rid of the first two columns\u001b[0m\u001b[0;34m\u001b[0m\u001b[0;34m\u001b[0m\u001b[0m\n",
      "\u001b[0;32m/home/hades/.virtualenvs/data_science_with_python/lib/python3.5/site-packages/pandas/io/excel.py\u001b[0m in \u001b[0;36mread_excel\u001b[0;34m(io, sheetname, header, skiprows, skip_footer, index_col, names, parse_cols, parse_dates, date_parser, na_values, thousands, convert_float, has_index_names, converters, true_values, false_values, engine, squeeze, **kwds)\u001b[0m\n\u001b[1;32m    189\u001b[0m \u001b[0;34m\u001b[0m\u001b[0m\n\u001b[1;32m    190\u001b[0m     \u001b[0;32mif\u001b[0m \u001b[0;32mnot\u001b[0m \u001b[0misinstance\u001b[0m\u001b[0;34m(\u001b[0m\u001b[0mio\u001b[0m\u001b[0;34m,\u001b[0m \u001b[0mExcelFile\u001b[0m\u001b[0;34m)\u001b[0m\u001b[0;34m:\u001b[0m\u001b[0;34m\u001b[0m\u001b[0m\n\u001b[0;32m--> 191\u001b[0;31m         \u001b[0mio\u001b[0m \u001b[0;34m=\u001b[0m \u001b[0mExcelFile\u001b[0m\u001b[0;34m(\u001b[0m\u001b[0mio\u001b[0m\u001b[0;34m,\u001b[0m \u001b[0mengine\u001b[0m\u001b[0;34m=\u001b[0m\u001b[0mengine\u001b[0m\u001b[0;34m)\u001b[0m\u001b[0;34m\u001b[0m\u001b[0m\n\u001b[0m\u001b[1;32m    192\u001b[0m \u001b[0;34m\u001b[0m\u001b[0m\n\u001b[1;32m    193\u001b[0m     return io._parse_excel(\n",
      "\u001b[0;32m/home/hades/.virtualenvs/data_science_with_python/lib/python3.5/site-packages/pandas/io/excel.py\u001b[0m in \u001b[0;36m__init__\u001b[0;34m(self, io, **kwds)\u001b[0m\n\u001b[1;32m    247\u001b[0m             \u001b[0mself\u001b[0m\u001b[0;34m.\u001b[0m\u001b[0mbook\u001b[0m \u001b[0;34m=\u001b[0m \u001b[0mxlrd\u001b[0m\u001b[0;34m.\u001b[0m\u001b[0mopen_workbook\u001b[0m\u001b[0;34m(\u001b[0m\u001b[0mfile_contents\u001b[0m\u001b[0;34m=\u001b[0m\u001b[0mdata\u001b[0m\u001b[0;34m)\u001b[0m\u001b[0;34m\u001b[0m\u001b[0m\n\u001b[1;32m    248\u001b[0m         \u001b[0;32melif\u001b[0m \u001b[0misinstance\u001b[0m\u001b[0;34m(\u001b[0m\u001b[0mio\u001b[0m\u001b[0;34m,\u001b[0m \u001b[0mcompat\u001b[0m\u001b[0;34m.\u001b[0m\u001b[0mstring_types\u001b[0m\u001b[0;34m)\u001b[0m\u001b[0;34m:\u001b[0m\u001b[0;34m\u001b[0m\u001b[0m\n\u001b[0;32m--> 249\u001b[0;31m             \u001b[0mself\u001b[0m\u001b[0;34m.\u001b[0m\u001b[0mbook\u001b[0m \u001b[0;34m=\u001b[0m \u001b[0mxlrd\u001b[0m\u001b[0;34m.\u001b[0m\u001b[0mopen_workbook\u001b[0m\u001b[0;34m(\u001b[0m\u001b[0mio\u001b[0m\u001b[0;34m)\u001b[0m\u001b[0;34m\u001b[0m\u001b[0m\n\u001b[0m\u001b[1;32m    250\u001b[0m         \u001b[0;32melse\u001b[0m\u001b[0;34m:\u001b[0m\u001b[0;34m\u001b[0m\u001b[0m\n\u001b[1;32m    251\u001b[0m             raise ValueError('Must explicitly set engine if not passing in'\n",
      "\u001b[0;32m/home/hades/.virtualenvs/data_science_with_python/lib/python3.5/site-packages/xlrd/__init__.py\u001b[0m in \u001b[0;36mopen_workbook\u001b[0;34m(filename, logfile, verbosity, use_mmap, file_contents, encoding_override, formatting_info, on_demand, ragged_rows)\u001b[0m\n\u001b[1;32m    393\u001b[0m         \u001b[0mpeek\u001b[0m \u001b[0;34m=\u001b[0m \u001b[0mfile_contents\u001b[0m\u001b[0;34m[\u001b[0m\u001b[0;34m:\u001b[0m\u001b[0mpeeksz\u001b[0m\u001b[0;34m]\u001b[0m\u001b[0;34m\u001b[0m\u001b[0m\n\u001b[1;32m    394\u001b[0m     \u001b[0;32melse\u001b[0m\u001b[0;34m:\u001b[0m\u001b[0;34m\u001b[0m\u001b[0m\n\u001b[0;32m--> 395\u001b[0;31m         \u001b[0;32mwith\u001b[0m \u001b[0mopen\u001b[0m\u001b[0;34m(\u001b[0m\u001b[0mfilename\u001b[0m\u001b[0;34m,\u001b[0m \u001b[0;34m\"rb\"\u001b[0m\u001b[0;34m)\u001b[0m \u001b[0;32mas\u001b[0m \u001b[0mf\u001b[0m\u001b[0;34m:\u001b[0m\u001b[0;34m\u001b[0m\u001b[0m\n\u001b[0m\u001b[1;32m    396\u001b[0m             \u001b[0mpeek\u001b[0m \u001b[0;34m=\u001b[0m \u001b[0mf\u001b[0m\u001b[0;34m.\u001b[0m\u001b[0mread\u001b[0m\u001b[0;34m(\u001b[0m\u001b[0mpeeksz\u001b[0m\u001b[0;34m)\u001b[0m\u001b[0;34m\u001b[0m\u001b[0m\n\u001b[1;32m    397\u001b[0m     \u001b[0;32mif\u001b[0m \u001b[0mpeek\u001b[0m \u001b[0;34m==\u001b[0m \u001b[0;34mb\"PK\\x03\\x04\"\u001b[0m\u001b[0;34m:\u001b[0m \u001b[0;31m# a ZIP file\u001b[0m\u001b[0;34m\u001b[0m\u001b[0m\n",
      "\u001b[0;31mFileNotFoundError\u001b[0m: [Errno 2] No such file or directory: 'Energy Indicators.xls'"
     ]
    }
   ],
   "source": [
    "def answer_one():\n",
    "    \"\"\"loads the data, cleans and combines them\n",
    "\n",
    "    - Energy Indicators\n",
    "    - GDP Data\n",
    "    - Sciamgo Journal data\n",
    "\n",
    "    Returns\n",
    "    -------\n",
    "\n",
    "    DataFrame : compiled (20 x 15) data\n",
    "    \"\"\"\n",
    "    frames = build_data_frames()\n",
    "    merged = pandas.merge(frames.sciamgo.top_15, frames.energy.data, how=\"left\",\n",
    "                          on=[SciamgoKeys.country_name,\n",
    "                              EnergyIndicatorsKeys.country_name])\n",
    "    merged = pandas.merge(merged, frames.gdp.data, how='left', left_on=SciamgoKeys.country_name,\n",
    "                          right_on=GDPKeys.country_name)\n",
    "    merged = merged.set_index(merged[SciamgoKeys.country_name])\n",
    "    return merged.drop(labels=[SciamgoKeys.country_name, GDPKeys.country_name], axis=COLUMN_AXIS)\n",
    "\n",
    "merged = answer_one()\n",
    "expected_columns = ['Rank', 'Documents', 'Citable documents', \n",
    "                    'Citations', 'Self-citations',\n",
    "                    'Citations per document', 'H index', 'Energy Supply',\n",
    "                    'Energy Supply per Capita', '% Renewable', '2006',\n",
    "                    '2007', '2008', '2009', '2010', '2011', '2012',\n",
    "                    '2013', '2014', '2015']\n",
    "for index, column in enumerate(merged.columns):\n",
    "    assert column == expected_columns[index]\n",
    "assert merged.shape == (15, 20), merged.shape"
   ]
  },
  {
   "cell_type": "markdown",
   "metadata": {
    "deletable": true,
    "editable": true,
    "ein.tags": [
     "worksheet-0"
    ],
    "slideshow": {
     "slide_type": "-"
    }
   },
   "source": [
    "### Question 2 (6.6%)\n",
    "The previous question joined three datasets then reduced this to just the top 15 entries. When you joined the datasets, but before you reduced this to the top 15 items, how many entries did you lose?\n",
    "\n",
    "*This function should return a single number.*"
   ]
  },
  {
   "cell_type": "code",
   "execution_count": 13,
   "metadata": {
    "autoscroll": "json-false",
    "collapsed": false,
    "deletable": true,
    "editable": true,
    "ein.tags": [
     "worksheet-0"
    ],
    "slideshow": {
     "slide_type": "-"
    }
   },
   "outputs": [
    {
     "data": {
      "text/html": [
       "<svg width=\"800\" height=\"300\">\n",
       "  <circle cx=\"150\" cy=\"180\" r=\"80\" fill-opacity=\"0.2\" stroke=\"black\" stroke-width=\"2\" fill=\"blue\" />\n",
       "  <circle cx=\"200\" cy=\"100\" r=\"80\" fill-opacity=\"0.2\" stroke=\"black\" stroke-width=\"2\" fill=\"red\" />\n",
       "  <circle cx=\"100\" cy=\"100\" r=\"80\" fill-opacity=\"0.2\" stroke=\"black\" stroke-width=\"2\" fill=\"green\" />\n",
       "  <line x1=\"150\" y1=\"125\" x2=\"300\" y2=\"150\" stroke=\"black\" stroke-width=\"2\" fill=\"black\" stroke-dasharray=\"5,3\"/>\n",
       "  <text  x=\"300\" y=\"165\" font-family=\"Verdana\" font-size=\"35\">Everything but this!</text>\n",
       "</svg>"
      ],
      "text/plain": [
       "<IPython.core.display.HTML object>"
      ]
     },
     "metadata": {},
     "output_type": "display_data"
    }
   ],
   "source": [
    "%%HTML\n",
    "<svg width=\"800\" height=\"300\">\n",
    "  <circle cx=\"150\" cy=\"180\" r=\"80\" fill-opacity=\"0.2\" stroke=\"black\" stroke-width=\"2\" fill=\"blue\" />\n",
    "  <circle cx=\"200\" cy=\"100\" r=\"80\" fill-opacity=\"0.2\" stroke=\"black\" stroke-width=\"2\" fill=\"red\" />\n",
    "  <circle cx=\"100\" cy=\"100\" r=\"80\" fill-opacity=\"0.2\" stroke=\"black\" stroke-width=\"2\" fill=\"green\" />\n",
    "  <line x1=\"150\" y1=\"125\" x2=\"300\" y2=\"150\" stroke=\"black\" stroke-width=\"2\" fill=\"black\" stroke-dasharray=\"5,3\"/>\n",
    "  <text  x=\"300\" y=\"165\" font-family=\"Verdana\" font-size=\"35\">Everything but this!</text>\n",
    "</svg>"
   ]
  },
  {
   "cell_type": "code",
   "execution_count": null,
   "metadata": {
    "autoscroll": "json-false",
    "collapsed": false,
    "deletable": true,
    "editable": true,
    "ein.tags": [
     "worksheet-0"
    ],
    "slideshow": {
     "slide_type": "-"
    }
   },
   "outputs": [],
   "source": [
    "def answer_two():\n",
    "    \"\"\"calculates difference between union and intersections\n",
    "\n",
    "    Returns\n",
    "    -------\n",
    "\n",
    "    int: data lost by joining\n",
    "    \"\"\"\n",
    "    frames = build_data_frames()\n",
    "    union = pandas.merge(frames.sciamgo.data, frames.energy.data, how=\"outer\",\n",
    "                          on=[SciamgoKeys.country_name,\n",
    "                          EnergyIndicatorsKeys.country_name])\n",
    "    union = pandas.merge(union, frames.gdp.data, how='outer',\n",
    "                         left_on=SciamgoKeys.country_name,\n",
    "                         right_on=GDPKeys.country_name)\n",
    "    intersection = pandas.merge(frames.sciamgo.data, frames.energy.data, how=\"left\",\n",
    "                                on=[SciamgoKeys.country_name,\n",
    "                                    EnergyIndicatorsKeys.country_name])\n",
    "    intersection = pandas.merge(intersection, frames.gdp.data, how='left',\n",
    "                                left_on=SciamgoKeys.country_name,\n",
    "                                right_on=GDPKeys.country_name)\n",
    "    \n",
    "\n",
    "    union_count = len(union)\n",
    "    intersection_count = len(intersection)\n",
    "    return union_count - intersection_count\n",
    "\n",
    "# print(answer_two())"
   ]
  },
  {
   "cell_type": "markdown",
   "metadata": {
    "deletable": true,
    "editable": true,
    "ein.tags": [
     "worksheet-0"
    ],
    "slideshow": {
     "slide_type": "-"
    }
   },
   "source": [
    "<br>\n",
    "\n",
    "Answer the following questions in the context of only the top 15 countries by Scimagojr Rank (aka the DataFrame returned by `answer_one()`)"
   ]
  },
  {
   "cell_type": "markdown",
   "metadata": {
    "deletable": true,
    "editable": true,
    "ein.tags": [
     "worksheet-0"
    ],
    "slideshow": {
     "slide_type": "-"
    }
   },
   "source": [
    "### Question 3 (6.6%)\n",
    "What is the average GDP over the last 10 years for each country? (exclude missing values from this calculation.)\n",
    "\n",
    "*This function should return a Series named `avgGDP` with 15 countries and their average GDP sorted in descending order.*"
   ]
  },
  {
   "cell_type": "code",
   "execution_count": null,
   "metadata": {
    "autoscroll": "json-false",
    "collapsed": false,
    "deletable": true,
    "editable": true,
    "ein.tags": [
     "worksheet-0"
    ],
    "slideshow": {
     "slide_type": "-"
    }
   },
   "outputs": [],
   "source": [
    "def answer_three():\n",
    "    \"\"\"calculates average gdp\n",
    "\n",
    "    Returns\n",
    "    -------\n",
    "\n",
    "    Series: mean GDP for each countr\n",
    "    \"\"\"\n",
    "    Top15 = answer_one()\n",
    "    return Top15[GDPKeys.last_ten_years].mean(axis=1)\n",
    "\n",
    "# print(tabulate(pandas.DataFrame(answer_three()),\n",
    "#                headers=[\"Country\", \"Average GDP (2009 to 2015)\"],\n",
    "#                tablefmt=\"orgtbl\"))"
   ]
  },
  {
   "cell_type": "markdown",
   "metadata": {
    "deletable": true,
    "editable": true,
    "ein.tags": [
     "worksheet-0"
    ],
    "slideshow": {
     "slide_type": "-"
    }
   },
   "source": [
    "### Question 4 (6.6%)\n",
    "By how much had the GDP changed over the 10 year span for the country with the 6th largest average GDP?\n",
    "\n",
    "*This function should return a single number.*"
   ]
  },
  {
   "cell_type": "code",
   "execution_count": null,
   "metadata": {
    "autoscroll": "json-false",
    "collapsed": false,
    "deletable": true,
    "editable": true,
    "ein.tags": [
     "worksheet-0"
    ],
    "slideshow": {
     "slide_type": "-"
    }
   },
   "outputs": [],
   "source": [
    "def answer_four():\n",
    "    \"\"\"Calculates GDP change over ten year span for country with 6th largest\n",
    "    Returns\n",
    "    -------\n",
    "\n",
    "    float: change in GDP from 2006 to 20015 for 6th largest GDP in top 15\n",
    "    \"\"\"\n",
    "    top_15 = answer_one()\n",
    "    means = top_15[GDPKeys.last_ten_years].mean(axis=1)\n",
    "    index = means[means==means.nlargest(6)[-1]].index\n",
    "    sixth = top_15.loc[index]\n",
    "    return (sixth[GDPKeys.last_year] - sixth[GDPKeys.first_year]).values[0]\n",
    "\n",
    "# print(str(answer_four()))"
   ]
  },
  {
   "cell_type": "markdown",
   "metadata": {
    "deletable": true,
    "editable": true,
    "ein.tags": [
     "worksheet-0"
    ],
    "slideshow": {
     "slide_type": "-"
    }
   },
   "source": [
    "### Question 5 (6.6%)\n",
    "What is the mean `Energy Supply per Capita`?\n",
    "\n",
    "*This function should return a single number.*"
   ]
  },
  {
   "cell_type": "code",
   "execution_count": null,
   "metadata": {
    "autoscroll": "json-false",
    "collapsed": false,
    "deletable": true,
    "editable": true,
    "ein.tags": [
     "worksheet-0"
    ],
    "slideshow": {
     "slide_type": "-"
    }
   },
   "outputs": [],
   "source": [
    "def answer_five():\n",
    "    \"\"\"mean Energy Supply per Capita\"\"\"\n",
    "    Top15 = answer_one()\n",
    "    return Top15[EnergyIndicatorsKeys.per_capita].mean()\n",
    "# print(answer_five())"
   ]
  },
  {
   "cell_type": "markdown",
   "metadata": {
    "deletable": true,
    "editable": true,
    "ein.tags": [
     "worksheet-0"
    ],
    "slideshow": {
     "slide_type": "-"
    }
   },
   "source": [
    "### Question 6 (6.6%)\n",
    "What country has the maximum % Renewable and what is the percentage?\n",
    "\n",
    "*This function should return a tuple with the name of the country and the percentage.*"
   ]
  },
  {
   "cell_type": "code",
   "execution_count": null,
   "metadata": {
    "autoscroll": "json-false",
    "collapsed": false,
    "deletable": true,
    "editable": true,
    "ein.tags": [
     "worksheet-0"
    ],
    "slideshow": {
     "slide_type": "-"
    }
   },
   "outputs": [],
   "source": [
    "def answer_six():\n",
    "    \"\"\"finds country with most renewable energy\n",
    "\n",
    "    Returns\n",
    "    -------\n",
    "\n",
    "    tuple: (country name, percentage renewable)\n",
    "    \"\"\"\n",
    "    Top15 = answer_one()\n",
    "    country = Top15[EnergyIndicatorsKeys.percent_renewable].argmax()    \n",
    "    amount = Top15.loc[country][EnergyIndicatorsKeys.percent_renewable]\n",
    "    return (country, amount)\n",
    "\n",
    "# print(answer_six())\n"
   ]
  },
  {
   "cell_type": "markdown",
   "metadata": {
    "deletable": true,
    "editable": true,
    "ein.tags": [
     "worksheet-0"
    ],
    "slideshow": {
     "slide_type": "-"
    }
   },
   "source": [
    "### Question 7 (6.6%)\n",
    "Create a new column that is the ratio of Self-Citations to Total Citations. \n",
    "What is the maximum value for this new column, and what country has the highest ratio?\n",
    "\n",
    "*This function should return a tuple with the name of the country and the ratio.*"
   ]
  },
  {
   "cell_type": "code",
   "execution_count": null,
   "metadata": {
    "autoscroll": "json-false",
    "collapsed": false,
    "deletable": true,
    "editable": true,
    "ein.tags": [
     "worksheet-0"
    ],
    "slideshow": {
     "slide_type": "-"
    }
   },
   "outputs": [],
   "source": [
    "def answer_seven():\n",
    "    \"\"\"adds Self-Citations/Total Citations column\n",
    "\n",
    "    Returns\n",
    "    -------\n",
    "\n",
    "    tuple: (country with highest ratio, highest ratio)\n",
    "    \"\"\"\n",
    "    Top15 = answer_one()\n",
    "    ratio_key = SciamgoKeys.self_to_total_citations\n",
    "    self_key = SciamgoKeys.self_citations\n",
    "    Top15[ratio_key] = Top15[self_key]/Top15[SciamgoKeys.total_citations]\n",
    "    country = Top15[ratio_key].argmax()\n",
    "    value = Top15.loc[country][ratio_key]\n",
    "    return (country, value)\n",
    "\n",
    "# print(answer_seven())"
   ]
  },
  {
   "cell_type": "markdown",
   "metadata": {
    "deletable": true,
    "editable": true,
    "ein.tags": [
     "worksheet-0"
    ],
    "slideshow": {
     "slide_type": "-"
    }
   },
   "source": [
    "### Question 8 (6.6%)\n",
    "\n",
    "Create a column that estimates the population using Energy Supply and Energy Supply per capita. \n",
    "What is the third most populous country according to this estimate?\n",
    "\n",
    "*This function should return a single string value.*"
   ]
  },
  {
   "cell_type": "code",
   "execution_count": null,
   "metadata": {
    "autoscroll": "json-false",
    "collapsed": false,
    "deletable": true,
    "editable": true,
    "ein.tags": [
     "worksheet-0"
    ],
    "slideshow": {
     "slide_type": "-"
    }
   },
   "outputs": [],
   "source": [
    "def add_population(data):\n",
    "    \"\"\"adds population estimate\n",
    "\n",
    "    Parameters\n",
    "    ----------\n",
    "\n",
    "    data: DataFrame\n",
    "       data with energy-per-capita and total energy columns\n",
    "\n",
    "    Returns\n",
    "    -------\n",
    "\n",
    "    DataFrame: copy of data with `population` column\n",
    "    \"\"\"\n",
    "    population = EnergyIndicatorsKeys.population\n",
    "    per_capita = EnergyIndicatorsKeys.per_capita\n",
    "    total = EnergyIndicatorsKeys.total_supply\n",
    "    data[population] = data[total]/data[per_capita]\n",
    "    return data"
   ]
  },
  {
   "cell_type": "code",
   "execution_count": null,
   "metadata": {
    "autoscroll": "json-false",
    "collapsed": false,
    "deletable": true,
    "editable": true,
    "ein.tags": [
     "worksheet-0"
    ],
    "slideshow": {
     "slide_type": "-"
    }
   },
   "outputs": [],
   "source": [
    "def answer_eight():\n",
    "    \"\"\"adds population estimate column\n",
    "    \n",
    "    Returns\n",
    "    -------\n",
    "    str: name of third most populous country\n",
    "    \"\"\"\n",
    "    top_15 = add_population(answer_one())\n",
    "    third = top_15.population.nlargest(3)[-1]\n",
    "    return top_15[top_15.population == third].index[0]\n",
    "\n",
    "# print(answer_eight())"
   ]
  },
  {
   "cell_type": "markdown",
   "metadata": {
    "deletable": true,
    "editable": true,
    "ein.tags": [
     "worksheet-0"
    ],
    "slideshow": {
     "slide_type": "-"
    }
   },
   "source": [
    "### Question 9 (6.6%)\n",
    "Create a column that estimates the number of citable documents per person. \n",
    "What is the correlation between the number of citable documents per capita and the energy supply per capita? Use the `.corr()` method, (Pearson's correlation).\n",
    "\n",
    "*This function should return a single number.*\n",
    "\n",
    "*(Optional: Use the built-in function `plot9()` to visualize the relationship between Energy Supply per Capita vs. Citable docs per Capita)*"
   ]
  },
  {
   "cell_type": "code",
   "execution_count": null,
   "metadata": {
    "autoscroll": "json-false",
    "collapsed": false,
    "deletable": true,
    "editable": true,
    "ein.tags": [
     "worksheet-0"
    ],
    "slideshow": {
     "slide_type": "-"
    }
   },
   "outputs": [],
   "source": [
    "def answer_nine():\n",
    "    \"\"\"adds citable documents per person column\n",
    "\n",
    "    Calculates the correlation between citations/capita and energy supply/capita\n",
    "    Returns\n",
    "    -------\n",
    "\n",
    "    float: correlation\n",
    "    \"\"\"\n",
    "    ratio_key = SciamgoKeys.citable_documents_per_capita\n",
    "    citeable_documents = SciamgoKeys.citable_documents\n",
    "\n",
    "    per_capita = EnergyIndicatorsKeys.per_capita\n",
    "    top_15 = add_population(answer_one())\n",
    "    top_15[ratio_key] = top_15[citeable_documents]/top_15.population\n",
    "    return top_15[[ratio_key, per_capita]].corr().values[0, -1]\n",
    "\n",
    "# print(answer_nine())"
   ]
  },
  {
   "cell_type": "code",
   "execution_count": null,
   "metadata": {
    "autoscroll": "json-false",
    "collapsed": false,
    "deletable": true,
    "editable": true,
    "ein.tags": [
     "worksheet-0"
    ],
    "slideshow": {
     "slide_type": "-"
    }
   },
   "outputs": [],
   "source": [
    "def plot9():\n",
    "    import matplotlib as plt\n",
    "    %matplotlib inline\n",
    "    \n",
    "    Top15 = answer_one()\n",
    "    Top15['PopEst'] = Top15['Energy Supply'] / Top15['Energy Supply per Capita']\n",
    "    Top15['Citable docs per Capita'] = Top15['Citable documents'] / Top15['PopEst']\n",
    "    Top15.plot(x='Citable docs per Capita', y='Energy Supply per Capita', kind='scatter', xlim=[0, 0.0006])"
   ]
  },
  {
   "cell_type": "code",
   "execution_count": null,
   "metadata": {
    "autoscroll": "json-false",
    "collapsed": false,
    "deletable": true,
    "editable": true,
    "ein.tags": [
     "worksheet-0"
    ],
    "slideshow": {
     "slide_type": "-"
    }
   },
   "outputs": [],
   "source": [
    "#plot9() # Be sure to comment out plot9() before submitting the assignment!"
   ]
  },
  {
   "cell_type": "markdown",
   "metadata": {
    "deletable": true,
    "editable": true,
    "ein.tags": [
     "worksheet-0"
    ],
    "slideshow": {
     "slide_type": "-"
    }
   },
   "source": [
    "### Question 10 (6.6%)\n",
    "Create a new column with a 1 if the country's % Renewable value is at or above the median for all countries in the top 15, and a 0 if the country's % Renewable value is below the median.\n",
    "\n",
    "*This function should return a series named `HighRenew` whose index is the country name sorted in ascending order of rank.*"
   ]
  },
  {
   "cell_type": "code",
   "execution_count": null,
   "metadata": {
    "autoscroll": "json-false",
    "collapsed": false,
    "deletable": true,
    "editable": true,
    "ein.tags": [
     "worksheet-0"
    ],
    "slideshow": {
     "slide_type": "-"
    }
   },
   "outputs": [],
   "source": [
    "def answer_ten():\n",
    "    \"\"\"classifies by median % renewable\n",
    "\n",
    "    Returns\n",
    "    -------\n",
    "\n",
    "    Series: 1 if at or above median, 0 otherwaise\n",
    "    \"\"\"\n",
    "    renewable_key = EnergyIndicatorsKeys.percent_renewable\n",
    "    Top15 = answer_one()\n",
    "    median = Top15[renewable_key].median()\n",
    "\n",
    "    def classify(value):\n",
    "        return 1 if value >= median else 0\n",
    "    return Top15[renewable_key].map(classify)\n",
    "\n",
    "# print(tabulate(pandas.DataFrame(answer_ten()),\n",
    "#                headers=[\"Country\", \"Meets Median Renewable\"],\n",
    "#                tablefmt=\"orgtbl\"))"
   ]
  },
  {
   "cell_type": "markdown",
   "metadata": {
    "deletable": true,
    "editable": true,
    "ein.tags": [
     "worksheet-0"
    ],
    "slideshow": {
     "slide_type": "-"
    }
   },
   "source": [
    "### Question 11 (6.6%)\n",
    "Use the following dictionary to group the Countries by Continent, then create a dateframe that displays the sample size (the number of countries in each continent bin), and the sum, mean, and std deviation for the estimated population of each country.\n",
    "\n",
    "```python\n",
    "ContinentDict  = {'China':'Asia', \n",
    "                  'United States':'North America', \n",
    "                  'Japan':'Asia', \n",
    "                  'United Kingdom':'Europe', \n",
    "                  'Russian Federation':'Europe', \n",
    "                  'Canada':'North America', \n",
    "                  'Germany':'Europe', \n",
    "                  'India':'Asia',\n",
    "                  'France':'Europe', \n",
    "                  'South Korea':'Asia', \n",
    "                  'Italy':'Europe', \n",
    "                  'Spain':'Europe', \n",
    "                  'Iran':'Asia',\n",
    "                  'Australia':'Australia', \n",
    "                  'Brazil':'South America'}\n",
    "```\n",
    "\n",
    "*This function should return a DataFrame with index named Continent `['Asia', 'Australia', 'Europe', 'North America', 'South America']` and columns `['size', 'sum', 'mean', 'std']`*"
   ]
  },
  {
   "cell_type": "code",
   "execution_count": null,
   "metadata": {
    "autoscroll": "json-false",
    "collapsed": false,
    "deletable": true,
    "editable": true,
    "ein.tags": [
     "worksheet-0"
    ],
    "slideshow": {
     "slide_type": "-"
    }
   },
   "outputs": [],
   "source": [
    "ContinentDict  = {'China':'Asia', \n",
    "                  'United States':'North America', \n",
    "                  'Japan':'Asia', \n",
    "                  'United Kingdom':'Europe', \n",
    "                  'Russian Federation':'Europe', \n",
    "                  'Canada':'North America', \n",
    "                  'Germany':'Europe', \n",
    "                  'India':'Asia',\n",
    "                  'France':'Europe', \n",
    "                  'South Korea':'Asia', \n",
    "                  'Italy':'Europe', \n",
    "                  'Spain':'Europe', \n",
    "                  'Iran':'Asia',\n",
    "                  'Australia':'Australia', \n",
    "                  'Brazil':'South America'}"
   ]
  },
  {
   "cell_type": "code",
   "execution_count": null,
   "metadata": {
    "autoscroll": "json-false",
    "collapsed": false,
    "deletable": true,
    "editable": true,
    "ein.tags": [
     "worksheet-0"
    ],
    "slideshow": {
     "slide_type": "-"
    }
   },
   "outputs": [],
   "source": [
    "def answer_eleven():\n",
    "    \"\"\"Groups countries by continent\n",
    "    \n",
    "    * displays countries per continent\n",
    "    * displays sum, mean, std for estimated population of each country\n",
    "\n",
    "    Returns\n",
    "    -------\n",
    "\n",
    "    DataFrame:\n",
    "       index uses contintes, columns or size, sum, mean, and std\n",
    "    \"\"\"\n",
    "    top_15 = add_population(answer_one())\n",
    "    top_15[\"Continent\"] = top_15.index.map(lambda x: ContinentDict[x])\n",
    "    group = top_15.groupby(\"Continent\")\n",
    "    return pandas.DataFrame({\"size\": group.count()[\"2009\"],\n",
    "                             \"sum\": group.population.sum(),\n",
    "                             \"mean\": group.population.mean(),\n",
    "                             \"std\": group.population.std()})\n",
    "outcome = answer_eleven()\n",
    "# print(tabulate(outcome, headers=\"keys\", tablefmt=\"orgtbl\"))"
   ]
  },
  {
   "cell_type": "markdown",
   "metadata": {
    "deletable": true,
    "editable": true,
    "ein.tags": [
     "worksheet-0"
    ],
    "slideshow": {
     "slide_type": "-"
    }
   },
   "source": [
    "### Question 12 (6.6%)\n",
    "Cut % Renewable into 5 bins. Group Top15 by the Continent, as well as these new % Renewable bins. How many countries are in each of these groups?\n",
    "\n",
    "*This function should return a __Series__ with a MultiIndex of `Continent`, then the bins for `% Renewable`. Do not include groups with no countries.*"
   ]
  },
  {
   "cell_type": "code",
   "execution_count": null,
   "metadata": {
    "autoscroll": "json-false",
    "collapsed": false,
    "deletable": true,
    "editable": true,
    "ein.tags": [
     "worksheet-0"
    ],
    "slideshow": {
     "slide_type": "-"
    }
   },
   "outputs": [],
   "source": [
    "def answer_twelve():\n",
    "    \"\"\"bins percent renewable\n",
    "\n",
    "    groups top 15 by continent as well as 5 renewable bins\n",
    "\n",
    "    Returns\n",
    "    -------\n",
    "\n",
    "    Series: with multiindex using bins for percent renewable and continent\n",
    "    \"\"\"\n",
    "    Top15 = answer_one()\n",
    "    Top15[\"Continent\"] = Top15.index.map(lambda x: ContinentDict[x])\n",
    "    return Top15.groupby([\"Continent\",\n",
    "                          pandas.cut(Top15[\n",
    "                              EnergyIndicatorsKeys.percent_renewable], 5,\n",
    "                          labels=[\"bin{0}\".format(bin) for bin in range(5)])])[GDPKeys.last_year].count()\n",
    "\n",
    "\n",
    "# print(answer_twelve())"
   ]
  },
  {
   "cell_type": "markdown",
   "metadata": {
    "deletable": true,
    "editable": true,
    "ein.tags": [
     "worksheet-0"
    ],
    "slideshow": {
     "slide_type": "-"
    }
   },
   "source": [
    "### Question 13 (6.6%)\n",
    "Convert the Population Estimate series to a string with thousands separator (using commas). Do not round the results.\n",
    "\n",
    "e.g. 317615384.61538464 -> 317,615,384.61538464\n",
    "\n",
    "*This function should return a Series `PopEst` whose index is the country name and whose values are the population estimate string.*"
   ]
  },
  {
   "cell_type": "code",
   "execution_count": null,
   "metadata": {
    "autoscroll": "json-false",
    "collapsed": false,
    "deletable": true,
    "editable": true,
    "ein.tags": [
     "worksheet-0"
    ],
    "slideshow": {
     "slide_type": "-"
    }
   },
   "outputs": [],
   "source": [
    "def answer_thirteen():\n",
    "    \"\"\"Converts population to a formatted string\"\"\"\n",
    "    Top15 = add_population(answer_one())\n",
    "    return Top15.population.map(lambda x: \"{0:,}\".format(x))\n",
    "\n",
    "output = answer_thirteen()\n",
    "# print(tabulate(pandas.DataFrame(output), headers=\"keys\", tablefmt=\"orgtbl\"))"
   ]
  },
  {
   "cell_type": "markdown",
   "metadata": {
    "deletable": true,
    "editable": true,
    "ein.tags": [
     "worksheet-0"
    ],
    "slideshow": {
     "slide_type": "-"
    }
   },
   "source": [
    "### Optional\n",
    "\n",
    "Use the built in function `plot_optional()` to see an example visualization."
   ]
  },
  {
   "cell_type": "code",
   "execution_count": null,
   "metadata": {
    "autoscroll": "json-false",
    "collapsed": false,
    "deletable": true,
    "editable": true,
    "ein.tags": [
     "worksheet-0"
    ],
    "slideshow": {
     "slide_type": "-"
    }
   },
   "outputs": [],
   "source": [
    "def plot_optional():\n",
    "    import matplotlib as plt\n",
    "    %matplotlib inline\n",
    "    Top15 = answer_one()\n",
    "    ax = Top15.plot(x='Rank', y='% Renewable', kind='scatter', \n",
    "                    c=['#e41a1c','#377eb8','#e41a1c','#4daf4a','#4daf4a','#377eb8','#4daf4a','#e41a1c',\n",
    "                       '#4daf4a','#e41a1c','#4daf4a','#4daf4a','#e41a1c','#dede00','#ff7f00'], \n",
    "                    xticks=range(1,16), s=6*Top15['2014']/10**10, alpha=.75, figsize=[16,6]);\n",
    "\n",
    "    for i, txt in enumerate(Top15.index):\n",
    "        ax.annotate(txt, [Top15['Rank'][i], Top15['% Renewable'][i]], ha='center')\n",
    "\n",
    "    print(\"This is an example of a visualization that can be created to help understand the data. \\\n",
    "This is a bubble chart showing % Renewable vs. Rank. The size of the bubble corresponds to the countries' \\\n",
    "2014 GDP, and the color corresponds to the continent.\")"
   ]
  },
  {
   "cell_type": "code",
   "execution_count": null,
   "metadata": {
    "autoscroll": "json-false",
    "collapsed": false,
    "deletable": true,
    "editable": true,
    "ein.tags": [
     "worksheet-0"
    ],
    "slideshow": {
     "slide_type": "-"
    }
   },
   "outputs": [],
   "source": [
    "# plot_optional() # Be sure to comment out plot_optional() before submitting the assignment!"
   ]
  }
 ],
 "metadata": {
  "anaconda-cloud": {},
  "coursera": {
   "course_slug": "python-data-analysis",
   "graded_item_id": "zAr06",
   "launcher_item_id": "KSSjT",
   "part_id": "SL3fU"
  },
  "kernelspec": {
   "display_name": "Python 3",
   "language": "python",
   "name": "python3"
  },
  "language_info": {
   "codemirror_mode": {
    "name": "ipython",
    "version": 3
   },
   "file_extension": ".py",
   "mimetype": "text/x-python",
   "name": "python",
   "nbconvert_exporter": "python",
   "pygments_lexer": "ipython3",
   "version": "3.5.2"
  },
  "name": "Assignment 3.ipynb"
 },
 "nbformat": 4,
 "nbformat_minor": 0
}
