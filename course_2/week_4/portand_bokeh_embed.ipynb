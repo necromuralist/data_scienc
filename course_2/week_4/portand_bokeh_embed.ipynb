{
 "cells": [
  {
   "cell_type": "code",
   "execution_count": 1,
   "metadata": {
    "collapsed": true
   },
   "outputs": [],
   "source": [
    "# python standard library\n",
    "import os\n",
    "from datetime import datetime\n",
    "\n",
    "# pypi\n",
    "import holoviews\n",
    "import numpy\n",
    "import pandas\n",
    "\n",
    "# local\n",
    "from common import (\n",
    "    download_data,\n",
    "    Paths,\n",
    "    Urls,\n",
    "    )"
   ]
  },
  {
   "cell_type": "code",
   "execution_count": 2,
   "metadata": {
    "collapsed": true
   },
   "outputs": [],
   "source": [
    "portland = download_data(Paths.portland, Urls.portland)"
   ]
  },
  {
   "cell_type": "code",
   "execution_count": 3,
   "metadata": {
    "collapsed": true
   },
   "outputs": [],
   "source": [
    "column_renames = {\"Value\": \"unemployment_rate\",\n",
    "                  \"Label\": \"date\"}\n",
    "portland.rename(columns=column_renames,\n",
    "                inplace=True)"
   ]
  },
  {
   "cell_type": "code",
   "execution_count": 4,
   "metadata": {
    "collapsed": true
   },
   "outputs": [],
   "source": [
    "month_map = dict(M01=\"Jan\", M02=\"Feb\", M03=\"Mar\", M04=\"Apr\", M05=\"May\",\n",
    "                 M06=\"Jun\", M07=\"Jul\", M08=\"Aug\", M09=\"Sep\", M10=\"Oct\",\n",
    "                 M11=\"Nov\", M12=\"Dec\")\n",
    "portland[\"month\"] = portland.Period.apply(lambda x: month_map[x])"
   ]
  },
  {
   "cell_type": "code",
   "execution_count": 5,
   "metadata": {
    "collapsed": true
   },
   "outputs": [],
   "source": [
    "month_integers = dict(zip(\"Jan Feb Mar Apr May Jun Jul Aug Sep Oct Nov Dec\".split(), range(1, 13)))"
   ]
  },
  {
   "cell_type": "code",
   "execution_count": 7,
   "metadata": {
    "collapsed": false
   },
   "outputs": [],
   "source": [
    "portland[\"datetime\"] = portland.apply(lambda row: datetime(row.Year, month_integers[row.month], 1), axis=1)"
   ]
  },
  {
   "cell_type": "code",
   "execution_count": 8,
   "metadata": {
    "collapsed": true
   },
   "outputs": [],
   "source": [
    "national = download_data(Paths.national, Urls.national)"
   ]
  },
  {
   "cell_type": "code",
   "execution_count": 9,
   "metadata": {
    "collapsed": true
   },
   "outputs": [],
   "source": [
    "national.rename(columns=column_renames, inplace=True)\n",
    "national[\"month\"] = national.Period.apply(lambda x: month_map[x])"
   ]
  },
  {
   "cell_type": "code",
   "execution_count": 10,
   "metadata": {
    "collapsed": true
   },
   "outputs": [],
   "source": [
    "national.drop([122], inplace=True)"
   ]
  },
  {
   "cell_type": "code",
   "execution_count": 11,
   "metadata": {
    "collapsed": true
   },
   "outputs": [],
   "source": [
    "national[\"datetime\"] = national.apply(lambda row: datetime(row.Year, month_integers[row.month], 1),\n",
    "                                      axis=1)"
   ]
  },
  {
   "cell_type": "code",
   "execution_count": 12,
   "metadata": {
    "collapsed": true
   },
   "outputs": [],
   "source": [
    "s_and_p_index = download_data(Paths.s_and_p, Urls.s_and_p, na_values=\".\")"
   ]
  },
  {
   "cell_type": "code",
   "execution_count": 13,
   "metadata": {
    "collapsed": true
   },
   "outputs": [],
   "source": [
    "pre = pandas.DataFrame({\"DATE\": [\"2007-01-01\", \"2007-02-01\", \"2007-03-01\"], \"VALUE\": [numpy.nan, numpy.nan, numpy.nan]})\n",
    "s_and_p_index = pre.append(s_and_p_index)\n",
    "s_and_p_index[\"date\"] = portland.date.values\n",
    "s_and_p_index = s_and_p_index.reset_index(drop=True)"
   ]
  },
  {
   "cell_type": "code",
   "execution_count": 14,
   "metadata": {
    "collapsed": true
   },
   "outputs": [],
   "source": [
    "s_and_p_index[\"year\"] = s_and_p_index.date.apply(lambda row: int(row.split()[0]))\n",
    "s_and_p_index[\"month\"] = s_and_p_index.date.apply(lambda row: row.split()[1])"
   ]
  },
  {
   "cell_type": "code",
   "execution_count": 15,
   "metadata": {
    "collapsed": true
   },
   "outputs": [],
   "source": [
    "s_and_p_index[\"datetime\"] = s_and_p_index.apply(lambda row: datetime(row.year,\n",
    "                                                                     month_integers[row.month], 1),\n",
    "                                                    axis=1)"
   ]
  },
  {
   "cell_type": "code",
   "execution_count": 16,
   "metadata": {
    "collapsed": true
   },
   "outputs": [],
   "source": [
    "house_price_index = download_data(Paths.house_price, Urls.house_price)"
   ]
  },
  {
   "cell_type": "code",
   "execution_count": 17,
   "metadata": {
    "collapsed": true
   },
   "outputs": [],
   "source": [
    "house_price_index[\"price\"] = house_price_index.HPIPONM226S\n",
    "house_price_index[\"date\"] = portland.date[1:].values\n",
    "pre = pandas.DataFrame({\"DATE\": [\"2007-01-01\"], \"HPIPONM226S\": [numpy.nan], \"price\": [numpy.nan], \"date\": [\"2007 Jan\"]})\n",
    "house_price_index = pre.append(house_price_index)\n",
    "house_price_index = house_price_index.reset_index(drop=True)"
   ]
  },
  {
   "cell_type": "code",
   "execution_count": 18,
   "metadata": {
    "collapsed": true
   },
   "outputs": [],
   "source": [
    "house_price_index[\"year\"] = house_price_index.date.apply(\n",
    "    lambda row: int(row.split()[0]))\n",
    "house_price_index[\"month\"] = house_price_index.date.apply(\n",
    "    lambda row: row.split()[1])\n",
    "house_price_index[\"datetime\"] = house_price_index.apply(\n",
    "    lambda row: datetime(row.year,\n",
    "                         month_integers[row.month], 1),\n",
    "    axis=1)"
   ]
  },
  {
   "cell_type": "code",
   "execution_count": 19,
   "metadata": {
    "collapsed": true
   },
   "outputs": [],
   "source": [
    "highest_unemployment = portland.unemployment_rate.max()\n",
    "unemployment_peaks = numpy.where(portland.unemployment_rate==highest_unemployment)[0]"
   ]
  },
  {
   "cell_type": "code",
   "execution_count": 20,
   "metadata": {
    "collapsed": true
   },
   "outputs": [],
   "source": [
    "lowest_unemployment = portland.unemployment_rate.min()"
   ]
  },
  {
   "cell_type": "code",
   "execution_count": 21,
   "metadata": {
    "collapsed": true
   },
   "outputs": [],
   "source": [
    "recession_start = numpy.where(portland.date==\"2007 Dec\")[0][0]\n",
    "recession_end = numpy.where(portland.date==\"2009 Jun\")[0][0]\n",
    "portland_recession_start = portland.unemployment_rate.iloc[recession_start]"
   ]
  },
  {
   "cell_type": "code",
   "execution_count": 22,
   "metadata": {
    "collapsed": true
   },
   "outputs": [],
   "source": [
    "peak = national.unemployment_rate.max()\n",
    "national_peak = numpy.where(national.unemployment_rate==peak)\n",
    "national_recession_start = national.unemployment_rate.iloc[recession_start]\n",
    "post_recession = national[national.Year > 2009]\n",
    "index = numpy.where(post_recession.unemployment_rate==national_recession_start)[0][0]"
   ]
  },
  {
   "cell_type": "code",
   "execution_count": 23,
   "metadata": {
    "collapsed": true
   },
   "outputs": [],
   "source": [
    "s_and_p_nadir = s_and_p_index.VALUE.min()\n",
    "s_and_p_nadir = numpy.where(s_and_p_index.VALUE==s_and_p_nadir)[0]"
   ]
  },
  {
   "cell_type": "code",
   "execution_count": 24,
   "metadata": {
    "collapsed": true
   },
   "outputs": [],
   "source": [
    "housing_nadir = house_price_index.price.min()\n",
    "housing_nadir = numpy.where(house_price_index.price==housing_nadir)[0]"
   ]
  },
  {
   "cell_type": "code",
   "execution_count": 25,
   "metadata": {
    "collapsed": true
   },
   "outputs": [],
   "source": [
    "NATIONAL_COLOR = \"slategrey\"\n",
    "NATIONAL_LABEL = \"National\"\n",
    "PORTLAND_COLOR = \"cornflowerblue\"\n",
    "PORTLAND_LABEL = \"Portland-Hillsboro-Vancouver\"\n",
    "S_AND_P_COLOR = \"#90151B\"\n",
    "S_AND_P_LABEL = \"S & P 500 Index\"\n",
    "HOUSING_COLOR = \"#D89159\"\n",
    "HOUSING_LABEL = \"House Price Index\""
   ]
  },
  {
   "cell_type": "code",
   "execution_count": 26,
   "metadata": {
    "collapsed": true
   },
   "outputs": [],
   "source": [
    "from bokeh.models import (\n",
    "    BoxAnnotation,\n",
    "    CustomJS,\n",
    "    Span,\n",
    "    Toggle,\n",
    "    )"
   ]
  },
  {
   "cell_type": "code",
   "execution_count": 28,
   "metadata": {
    "collapsed": true
   },
   "outputs": [],
   "source": [
    "from bokeh.io import (\n",
    "    output_file,\n",
    "    output_notebook,\n",
    "    show,\n",
    "    )\n",
    "\n",
    "from bokeh.plotting import (\n",
    "    figure,\n",
    "    ColumnDataSource,\n",
    "    )\n",
    "\n",
    "from bokeh.models import (\n",
    "    CrosshairTool,\n",
    "    HoverTool,\n",
    "    PanTool,\n",
    "    ResetTool,\n",
    "    ResizeTool,\n",
    "    SaveTool,\n",
    "    UndoTool,\n",
    "    WheelZoomTool,\n",
    "    )"
   ]
  },
  {
   "cell_type": "code",
   "execution_count": 31,
   "metadata": {
    "collapsed": true
   },
   "outputs": [],
   "source": [
    "from bokeh.layouts import column"
   ]
  },
  {
   "cell_type": "code",
   "execution_count": 32,
   "metadata": {
    "collapsed": true
   },
   "outputs": [],
   "source": [
    "FIGURE_WIDTH = 600\n",
    "FIGURE_HEIGHT = 300"
   ]
  },
  {
   "cell_type": "code",
   "execution_count": 29,
   "metadata": {
    "collapsed": false
   },
   "outputs": [],
   "source": [
    "s_and_p_source = ColumnDataSource(\n",
    "    data=dict(\n",
    "        month_data=s_and_p_index.datetime,\n",
    "        value=s_and_p_index.VALUE,\n",
    "        month_label=s_and_p_index.date,\n",
    "        )\n",
    ")"
   ]
  },
  {
   "cell_type": "code",
   "execution_count": 30,
   "metadata": {
    "collapsed": true
   },
   "outputs": [],
   "source": [
    "housing_source = ColumnDataSource(\n",
    "    data=dict(\n",
    "        month_data=house_price_index.datetime,\n",
    "        price=house_price_index.price,\n",
    "        month_label=s_and_p_index.date,\n",
    "        )\n",
    ")"
   ]
  },
  {
   "cell_type": "code",
   "execution_count": 33,
   "metadata": {
    "collapsed": true
   },
   "outputs": [],
   "source": [
    "def make_tools():\n",
    "    \"\"\"makes the tools for the figures\n",
    "    \n",
    "    Returns:\n",
    "     list: tool objects\n",
    "    \"\"\"\n",
    "    hover = HoverTool(tooltips=[\n",
    "    (\"month\", \"@month_label\"),\n",
    "    (\"unemployment\", \"@unemployment\"),\n",
    "    ])\n",
    "    \n",
    "    tools = [\n",
    "        hover,\n",
    "        CrosshairTool(),\n",
    "        PanTool(),\n",
    "        ResetTool(),\n",
    "        ResizeTool(),\n",
    "        SaveTool(),\n",
    "        UndoTool(),\n",
    "        WheelZoomTool(),\n",
    "    ]\n",
    "    return tools"
   ]
  },
  {
   "cell_type": "code",
   "execution_count": 34,
   "metadata": {
    "collapsed": true
   },
   "outputs": [],
   "source": [
    "tools = make_tools()\n",
    "unemployment_figure = figure(\n",
    "    plot_width=FIGURE_WIDTH,\n",
    "    plot_height=FIGURE_HEIGHT,\n",
    "    x_axis_type=\"datetime\",\n",
    "    tools=tools,\n",
    "    title=\"Portland Unemployment (2007-2017)\"\n",
    ")"
   ]
  },
  {
   "cell_type": "code",
   "execution_count": 36,
   "metadata": {
    "collapsed": true
   },
   "outputs": [],
   "source": [
    "portland_source = ColumnDataSource(\n",
    "    data=dict(\n",
    "        month_data=portland.datetime,\n",
    "        unemployment=portland.unemployment_rate,\n",
    "        month_label=portland.date,\n",
    "        )\n",
    ")"
   ]
  },
  {
   "cell_type": "code",
   "execution_count": 38,
   "metadata": {
    "collapsed": true
   },
   "outputs": [],
   "source": [
    "national_source = ColumnDataSource(\n",
    "    data=dict(\n",
    "        month_data=national.datetime,\n",
    "        unemployment=national.unemployment_rate,\n",
    "        month_label=national.date,\n",
    "        )\n",
    ")"
   ]
  },
  {
   "cell_type": "code",
   "execution_count": 39,
   "metadata": {
    "collapsed": false
   },
   "outputs": [],
   "source": [
    "unemployment_figure.line(\n",
    "    \"month_data\", \"unemployment\",\n",
    "    source=portland_source,\n",
    "    line_color=PORTLAND_COLOR,\n",
    "    legend=PORTLAND_LABEL,\n",
    "          )\n",
    "\n",
    "line = unemployment_figure.line(\n",
    "    \"month_data\", \"unemployment\",\n",
    "    source=national_source,\n",
    "    line_color=NATIONAL_COLOR,\n",
    "    legend=NATIONAL_LABEL,\n",
    ")"
   ]
  },
  {
   "cell_type": "code",
   "execution_count": 40,
   "metadata": {
    "collapsed": true
   },
   "outputs": [],
   "source": [
    "TIME_SCALE = 10**3"
   ]
  },
  {
   "cell_type": "code",
   "execution_count": 41,
   "metadata": {
    "collapsed": true
   },
   "outputs": [],
   "source": [
    "def scale_timestamp(index):\n",
    "    \"\"\"gets the scaled timestamp for element location\n",
    "\n",
    "    Args:\n",
    "     index: index in the portland.datetime series\n",
    "    Returns:\n",
    "     epoch timestamp used to locate place in plot\n",
    "    \"\"\"\n",
    "    return portland.datetime[index].timestamp() * TIME_SCALE"
   ]
  },
  {
   "cell_type": "code",
   "execution_count": 42,
   "metadata": {
    "collapsed": true
   },
   "outputs": [],
   "source": [
    "def make_recession():\n",
    "    \"\"\"Makes the box for the recession\n",
    "\n",
    "    Returns:\n",
    "     BoxAnnotation to color the recession\n",
    "    \"\"\"\n",
    "    return BoxAnnotation(\n",
    "        left=scale_timestamp(recession_start),\n",
    "        right=scale_timestamp(recession_end),\n",
    "        fill_color=\"blue\",\n",
    "        fill_alpha=0.1)"
   ]
  },
  {
   "cell_type": "code",
   "execution_count": 43,
   "metadata": {
    "collapsed": true
   },
   "outputs": [],
   "source": [
    "def make_vertical(location, color=\"darkorange\"):\n",
    "    \"\"\"makes a vertical line\n",
    "    \n",
    "    Args:\n",
    "     location: place on the x-axis for the line\n",
    "     color (str): line-color for the line\n",
    "    Returns:\n",
    "     Span at index\n",
    "    \"\"\"\n",
    "    return Span(\n",
    "        location=location,\n",
    "        line_color=color,\n",
    "        dimension=\"height\",\n",
    "    )"
   ]
  },
  {
   "cell_type": "code",
   "execution_count": 44,
   "metadata": {
    "collapsed": true
   },
   "outputs": [],
   "source": [
    "def make_verticals(fig):\n",
    "    \"\"\"makes the verticals and adds them to the figures\"\"\"\n",
    "    fig.add_layout(make_vertical(\n",
    "        location=scale_timestamp(unemployment_peaks[0]),\n",
    "        color=\"darkorange\",\n",
    "    ))\n",
    "    fig.add_layout(make_vertical(\n",
    "        location=scale_timestamp(s_and_p_nadir[0]),\n",
    "        color=\"crimson\"))\n",
    "    fig.add_layout(make_vertical(\n",
    "        location=scale_timestamp(housing_nadir[0]),\n",
    "        color=\"limegreen\"))\n",
    "    fig.add_layout(make_vertical(\n",
    "        location=scale_timestamp(national_peak[0][0]),\n",
    "        color=\"grey\"))\n",
    "    return"
   ]
  },
  {
   "cell_type": "code",
   "execution_count": 45,
   "metadata": {
    "collapsed": true
   },
   "outputs": [],
   "source": [
    "unemployment_figure.add_layout(make_recession())"
   ]
  },
  {
   "cell_type": "code",
   "execution_count": 46,
   "metadata": {
    "collapsed": true
   },
   "outputs": [],
   "source": [
    "make_verticals(unemployment_figure)"
   ]
  },
  {
   "cell_type": "code",
   "execution_count": 47,
   "metadata": {
    "collapsed": true
   },
   "outputs": [],
   "source": [
    "unemployment_figure.yaxis.axis_label = \"% Unemployment\"\n",
    "unemployment_figure.xaxis.axis_label = \"Month\"\n",
    "unemployment_figure.xgrid.visible = False\n",
    "unemployment_figure.ygrid.visible = False"
   ]
  },
  {
   "cell_type": "code",
   "execution_count": 48,
   "metadata": {
    "collapsed": true
   },
   "outputs": [],
   "source": [
    "hover = HoverTool(tooltips=[\n",
    "    (\"Month\", \"@month_label\"),\n",
    "    (\"Value\", \"@value\"),\n",
    "])\n",
    "tools = [\n",
    "    hover,\n",
    "    CrosshairTool(),\n",
    "    PanTool(),\n",
    "    ResetTool(),\n",
    "    ResizeTool(),\n",
    "    SaveTool(),\n",
    "    UndoTool(),\n",
    "    WheelZoomTool(),\n",
    "]\n",
    "s_and_p_figure = figure(\n",
    "    plot_width=FIGURE_WIDTH,\n",
    "    plot_height=FIGURE_HEIGHT,\n",
    "    x_range=unemployment_figure.x_range,\n",
    "    x_axis_type=\"datetime\",\n",
    "    tools=tools,\n",
    "    title=\"S & P 500 Index\",\n",
    ")\n",
    "line = s_and_p_figure.line(\"month_data\", \"value\",\n",
    "                    source=s_and_p_source,\n",
    "                    line_color=S_AND_P_COLOR)"
   ]
  },
  {
   "cell_type": "code",
   "execution_count": 49,
   "metadata": {
    "collapsed": true
   },
   "outputs": [],
   "source": [
    "s_and_p_figure.add_layout(make_recession())"
   ]
  },
  {
   "cell_type": "code",
   "execution_count": 50,
   "metadata": {
    "collapsed": true
   },
   "outputs": [],
   "source": [
    "make_verticals(s_and_p_figure)"
   ]
  },
  {
   "cell_type": "code",
   "execution_count": 51,
   "metadata": {
    "collapsed": true
   },
   "outputs": [],
   "source": [
    "s_and_p_figure.yaxis.axis_label = \"S & P 500 Valuation\"\n",
    "s_and_p_figure.xaxis.axis_label = \"Month\"\n",
    "s_and_p_figure.xgrid.visible = False\n",
    "s_and_p_figure.ygrid.visible = False"
   ]
  },
  {
   "cell_type": "code",
   "execution_count": 52,
   "metadata": {
    "collapsed": true
   },
   "outputs": [],
   "source": [
    "s_and_p_figure.legend.location = \"bottom_right\""
   ]
  },
  {
   "cell_type": "code",
   "execution_count": 53,
   "metadata": {
    "collapsed": true
   },
   "outputs": [],
   "source": [
    "hover = HoverTool(tooltips=[\n",
    "    (\"Month\", \"@month_label\"),\n",
    "    (\"Price\", \"@price\"),\n",
    "])\n",
    "tools = [\n",
    "    hover,\n",
    "    CrosshairTool(),\n",
    "    PanTool(),\n",
    "    ResetTool(),\n",
    "    ResizeTool(),\n",
    "    SaveTool(),\n",
    "    UndoTool(),\n",
    "    WheelZoomTool(),\n",
    "]\n",
    "housing_figure = figure(\n",
    "    plot_width=FIGURE_WIDTH,\n",
    "    plot_height=FIGURE_HEIGHT,\n",
    "    x_range=unemployment_figure.x_range,\n",
    "    x_axis_type=\"datetime\",\n",
    "    tools=tools,\n",
    "    title=\"House Price Index\",\n",
    ")\n",
    "line = housing_figure.line(\"month_data\", \"price\",\n",
    "                           source=housing_source,\n",
    "                           line_color=HOUSING_COLOR)"
   ]
  },
  {
   "cell_type": "code",
   "execution_count": 54,
   "metadata": {
    "collapsed": true
   },
   "outputs": [],
   "source": [
    "housing_figure.add_layout(make_recession())\n",
    "make_verticals(housing_figure)"
   ]
  },
  {
   "cell_type": "code",
   "execution_count": 55,
   "metadata": {
    "collapsed": true
   },
   "outputs": [],
   "source": [
    "housing_figure.yaxis.axis_label = \"Sale Price ($1,000)\"\n",
    "housing_figure.xaxis.axis_label = \"Month\"\n",
    "housing_figure.xgrid.visible = False\n",
    "housing_figure.ygrid.visible = False"
   ]
  },
  {
   "cell_type": "code",
   "execution_count": 56,
   "metadata": {
    "collapsed": true
   },
   "outputs": [],
   "source": [
    "housing_figure.legend.location = \"bottom_right\""
   ]
  },
  {
   "cell_type": "code",
   "execution_count": 57,
   "metadata": {
    "collapsed": true
   },
   "outputs": [],
   "source": [
    "combined = column(unemployment_figure, s_and_p_figure, housing_figure)"
   ]
  },
  {
   "cell_type": "code",
   "execution_count": 58,
   "metadata": {
    "collapsed": true
   },
   "outputs": [],
   "source": [
    "from bokeh.resources import CDN\n",
    "from bokeh.embed import autoload_static"
   ]
  },
  {
   "cell_type": "code",
   "execution_count": 59,
   "metadata": {
    "collapsed": true
   },
   "outputs": [],
   "source": [
    "OUTPUT_JAVASCRIPT = \"portland_unemployment.js\""
   ]
  },
  {
   "cell_type": "code",
   "execution_count": 60,
   "metadata": {
    "collapsed": true
   },
   "outputs": [],
   "source": [
    "js, tag = autoload_static(combined, CDN, OUTPUT_JAVASCRIPT)"
   ]
  },
  {
   "cell_type": "code",
   "execution_count": 61,
   "metadata": {
    "collapsed": true
   },
   "outputs": [],
   "source": [
    "with open(OUTPUT_JAVASCRIPT, \"w\") as writer:\n",
    "    writer.write(js)"
   ]
  },
  {
   "cell_type": "code",
   "execution_count": 62,
   "metadata": {
    "collapsed": true
   },
   "outputs": [],
   "source": [
    "with open(\"portland_tag.html\", 'w') as writer:\n",
    "    writer.write(tag)"
   ]
  },
  {
   "cell_type": "code",
   "execution_count": null,
   "metadata": {
    "collapsed": true
   },
   "outputs": [],
   "source": []
  }
 ],
 "metadata": {
  "kernelspec": {
   "display_name": "Python 3",
   "language": "python",
   "name": "python3"
  },
  "language_info": {
   "codemirror_mode": {
    "name": "ipython",
    "version": 3
   },
   "file_extension": ".py",
   "mimetype": "text/x-python",
   "name": "python",
   "nbconvert_exporter": "python",
   "pygments_lexer": "ipython3",
   "version": "3.5.2"
  }
 },
 "nbformat": 4,
 "nbformat_minor": 2
}
