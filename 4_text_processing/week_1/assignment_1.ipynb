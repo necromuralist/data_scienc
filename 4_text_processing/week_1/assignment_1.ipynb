{
 "cells": [
  {
   "cell_type": "markdown",
   "metadata": {
    "ein.tags": "worksheet-0",
    "slideshow": {
     "slide_type": "-"
    }
   },
   "source": [
    "---\n",
    "\n",
    "_You are currently looking at **version 1.0** of this notebook. To download notebooks and datafiles, as well as get help on Jupyter notebooks in the Coursera platform, visit the [Jupyter Notebook FAQ](https://www.coursera.org/learn/python-text-mining/resources/d9pwm) course resource._\n",
    "\n",
    "---"
   ]
  },
  {
   "cell_type": "markdown",
   "metadata": {
    "ein.tags": "worksheet-0",
    "slideshow": {
     "slide_type": "-"
    }
   },
   "source": [
    "# Assignment 1\n",
    "\n",
    "In this assignment, you'll be working with messy medical data and using regex to extract relevant infromation from the data. \n",
    "\n",
    "Each line of the `dates.txt` file corresponds to a medical note. Each note has a date that needs to be extracted, but each date is encoded in one of many formats.\n",
    "\n",
    "The goal of this assignment is to correctly identify all of the different date variants encoded in this dataset and to properly normalize and sort the dates. \n",
    "\n",
    "Here is a list of some of the variants you might encounter in this dataset:\n",
    "* 04/20/2009; 04/20/09; 4/20/09; 4/3/09\n",
    "* Mar-20-2009; Mar 20, 2009; March 20, 2009;  Mar. 20, 2009; Mar 20 2009;\n",
    "* 20 Mar 2009; 20 March 2009; 20 Mar. 2009; 20 March, 2009\n",
    "* Mar 20th, 2009; Mar 21st, 2009; Mar 22nd, 2009\n",
    "* Feb 2009; Sep 2009; Oct 2010\n",
    "* 6/2008; 12/2009\n",
    "* 2009; 2010\n",
    "\n",
    "Once you have extracted these date patterns from the text, the next step is to sort them in ascending chronological order accoring to the following rules:\n",
    "* Assume all dates in xx/xx/xx format are mm/dd/yy\n",
    "* Assume all dates where year is encoded in only two digits are years from the 1900's (e.g. 1/5/89 is January 5th, 1989)\n",
    "* If the day is missing (e.g. 9/2009), assume it is the first day of the month (e.g. September 1, 2009).\n",
    "* If the month is missing (e.g. 2010), assume it is the first of January of that year (e.g. January 1, 2010).\n",
    "\n",
    "With these rules in mind, find the correct date in each note and return a pandas Series in chronological order of the original Series' indices.\n",
    "\n",
    "For example if the original series was this:\n",
    "\n",
    "    0    1999\n",
    "    1    2010\n",
    "    2    1978\n",
    "    3    2015\n",
    "    4    1985\n",
    "\n",
    "Your function should return this:\n",
    "\n",
    "    0    2\n",
    "    1    4\n",
    "    2    0\n",
    "    3    1\n",
    "    4    3\n",
    "\n",
    "Your score will be calculated using [Kendall's tau](https://en.wikipedia.org/wiki/Kendall_rank_correlation_coefficient), a correlation measure for ordinal data.\n",
    "\n",
    "*This function should return a Series of length 500 and dtype int.*"
   ]
  },
  {
   "cell_type": "code",
   "execution_count": 3,
   "metadata": {
    "autoscroll": false,
    "collapsed": false,
    "ein.tags": "worksheet-0",
    "slideshow": {
     "slide_type": "-"
    }
   },
   "outputs": [
    {
     "data": {
      "text/plain": [
       "0         03/25/93 Total time of visit (in minutes):\\n\n1                       6/18/85 Primary Care Doctor:\\n\n2    sshe plans to move as of 7/8/71 In-Home Servic...\n3                7 on 9/27/75 Audit C Score Current:\\n\n4    2/6/96 sleep studyPain Treatment Pain Level (N...\n5                    .Per 7/06/79 Movement D/O note:\\n\n6    4, 5/18/78 Patient's thoughts about current su...\n7    10/24/89 CPT Code: 90801 - Psychiatric Diagnos...\n8                         3/7/86 SOS-10 Total Score:\\n\n9             (4/10/71)Score-1Audit C Score Current:\\n\ndtype: object"
      ]
     },
     "execution_count": 3,
     "metadata": {},
     "output_type": "execute_result"
    }
   ],
   "source": [
    "import pandas\n",
    "\n",
    "doc = []\n",
    "with open('dates.txt') as reader:\n",
    "    data = pandas.Series(reader.readlines())\n",
    "data.head(10)"
   ]
  },
  {
   "cell_type": "code",
   "execution_count": 4,
   "metadata": {
    "autoscroll": false,
    "collapsed": false,
    "ein.tags": "worksheet-0",
    "slideshow": {
     "slide_type": "-"
    }
   },
   "outputs": [],
   "source": [
    "ZERO_OR_MORE = '*'\n",
    "ONE_OR_MORE = \"+\"\n",
    "ZERO_OR_ONE = '?'\n",
    "EXACTLY_TWO = \"{2}\"\n",
    "ONE_OR_TWO = \"{1,2}\"\n",
    "EXACTLY_ONE = '{1}'\n",
    "GROUP = r\"({})\"\n",
    "NAMED = r\"(?P<{}>{})\"\n",
    "CLASS = \"[{}]\"\n",
    "NEGATIVE_LOOKAHEAD = \"(?!{})\"\n",
    "NEGATIVE_LOOKBEHIND = \"(?<!{})\"\n",
    "POSITIVE_LOOKAHEAD = \"(?={})\"\n",
    "POSITIVE_LOOKBEHIND = \"(?<={})\"\n",
    "ESCAPE = \"\\{}\"\n",
    "DIGIT = r\"\\d\"\n",
    "ONE_DIGIT  = DIGIT + EXACTLY_ONE\n",
    "ONE_OR_TWO_DIGITS = DIGIT + ONE_OR_TWO\n",
    "NON_DIGIT = NEGATIVE_LOOKAHEAD.format(DIGIT)\n",
    "TWO_DIGITS = DIGIT + EXACTLY_TWO\n",
    "THREE_DIGITS = DIGIT + \"{3}\"\n",
    "EXACTLY_TWO_DIGITS = DIGIT + EXACTLY_TWO + NON_DIGIT\n",
    "FOUR_DIGITS = DIGIT + r\"{4}\" + NON_DIGIT\n",
    "SLASH = r\"/\"\n",
    "OR = r'|'\n",
    "LOWER_CASE = \"a-z\"\n",
    "SPACE = \"\\s\"\n",
    "DOT = \".\"\n",
    "DASH = \"-\"\n",
    "COMMA = \",\"\n",
    "PUNCTUATION = CLASS.format(DOT + COMMA + DASH)\n",
    "EMPTY_STRING = \"\"\n",
    "MONTH_SUFFIX = (CLASS.format(LOWER_CASE) + ZERO_OR_MORE\n",
    "                + CLASS.format(SPACE + DOT + COMMA + DASH) + ONE_OR_TWO)\n",
    "MONTH_PREFIXES = \"Jan Feb Mar Apr May Jun Jul Aug Sep Oct Nov Dec\".split()\n",
    "MONTHS = [month + MONTH_SUFFIX for month in MONTH_PREFIXES]\n",
    "MONTHS = GROUP.format(OR.join(MONTHS))\n",
    "DAY_SUFFIX = CLASS.format(DASH + COMMA + SPACE) + ONE_OR_TWO\n",
    "DAYS = ONE_OR_TWO_DIGITS + DAY_SUFFIX\n",
    "YEAR = FOUR_DIGITS\n",
    "                                                  "
   ]
  },
  {
   "cell_type": "code",
   "execution_count": 5,
   "metadata": {
    "autoscroll": false,
    "collapsed": false,
    "ein.tags": "worksheet-0",
    "slideshow": {
     "slide_type": "-"
    }
   },
   "outputs": [],
   "source": [
    "CONTRACTED = (ONE_OR_TWO_DIGITS\n",
    "              + LOWER_CASE\n",
    "              + EXACTLY_TWO\n",
    "              )\n",
    "CONTRACTION = NAMED.format(\"contraction\",\n",
    "                           MONTHS\n",
    "                           + CONTRACTED\n",
    "                           + DAY_SUFFIX\n",
    "                           + YEAR)\n"
   ]
  },
  {
   "cell_type": "code",
   "execution_count": 6,
   "metadata": {
    "autoscroll": false,
    "collapsed": false,
    "ein.tags": "worksheet-0",
    "slideshow": {
     "slide_type": "-"
    }
   },
   "outputs": [],
   "source": [
    "NO_DAY_BEHIND = NEGATIVE_LOOKBEHIND.format(DIGIT + SPACE)\n",
    "NO_DAY = NAMED.format(\"no_day\", NO_DAY_BEHIND + MONTHS + YEAR)\n"
   ]
  },
  {
   "cell_type": "code",
   "execution_count": 7,
   "metadata": {
    "autoscroll": false,
    "collapsed": false,
    "ein.tags": "worksheet-0",
    "slideshow": {
     "slide_type": "-"
    }
   },
   "outputs": [],
   "source": [
    "WORDS = NAMED.format(\"words\", MONTHS + DAYS + YEAR)\n"
   ]
  },
  {
   "cell_type": "code",
   "execution_count": 8,
   "metadata": {
    "autoscroll": false,
    "collapsed": false,
    "ein.tags": "worksheet-0",
    "slideshow": {
     "slide_type": "-"
    }
   },
   "outputs": [],
   "source": [
    "BACKWARDS = NAMED.format(\"backwards\", ONE_OR_TWO_DIGITS + SPACE + MONTHS + YEAR)\n"
   ]
  },
  {
   "cell_type": "code",
   "execution_count": 9,
   "metadata": {
    "autoscroll": false,
    "collapsed": false,
    "ein.tags": "worksheet-0",
    "slideshow": {
     "slide_type": "-"
    }
   },
   "outputs": [],
   "source": [
    "slashed = SLASH.join([ONE_OR_TWO_DIGITS,\n",
    "                      ONE_OR_TWO_DIGITS,\n",
    "                      EXACTLY_TWO_DIGITS])\n",
    "dashed = DASH.join([ONE_OR_TWO_DIGITS,\n",
    "                    ONE_OR_TWO_DIGITS,\n",
    "                    EXACTLY_TWO_DIGITS])\n",
    "TWENTIETH_CENTURY = NAMED.format(\"twentieth\",\n",
    "                                 OR.join([slashed, dashed]))\n"
   ]
  },
  {
   "cell_type": "code",
   "execution_count": 10,
   "metadata": {
    "autoscroll": false,
    "collapsed": false,
    "ein.tags": "worksheet-0",
    "slideshow": {
     "slide_type": "-"
    }
   },
   "outputs": [],
   "source": [
    "NUMERIC = NAMED.format(\"numeric\",\n",
    "                       SLASH.join([ONE_OR_TWO_DIGITS,\n",
    "                                   ONE_OR_TWO_DIGITS,\n",
    "                                   FOUR_DIGITS]))\n"
   ]
  },
  {
   "cell_type": "code",
   "execution_count": 11,
   "metadata": {
    "autoscroll": false,
    "collapsed": false,
    "ein.tags": "worksheet-0",
    "slideshow": {
     "slide_type": "-"
    }
   },
   "outputs": [],
   "source": [
    "NO_PRECEDING_SLASH = NEGATIVE_LOOKBEHIND.format(SLASH)\n",
    "NO_PRECEDING_SLASH_DIGIT = NEGATIVE_LOOKBEHIND.format(CLASS.format(SLASH + DIGIT))\n",
    "NO_ONE_DAY = (NO_PRECEDING_SLASH_DIGIT\n",
    "              + ONE_DIGIT\n",
    "              + SLASH\n",
    "              + FOUR_DIGITS)\n",
    "NO_TWO_DAYS = (NO_PRECEDING_SLASH\n",
    "               + TWO_DIGITS\n",
    "               + SLASH\n",
    "               + FOUR_DIGITS)\n",
    "NO_DAY_NUMERIC = NAMED.format(\"no_day_numeric\",\n",
    "                              NO_ONE_DAY\n",
    "                              + OR\n",
    "                              + NO_TWO_DAYS\n",
    "                              )\n"
   ]
  },
  {
   "cell_type": "code",
   "execution_count": 12,
   "metadata": {
    "autoscroll": false,
    "collapsed": false,
    "ein.tags": "worksheet-0",
    "slideshow": {
     "slide_type": "-"
    }
   },
   "outputs": [],
   "source": [
    "CENTURY = GROUP.format('19' + OR + \"20\") + TWO_DIGITS\n",
    "DIGIT_SLASH = DIGIT + SLASH\n",
    "DIGIT_DASH = DIGIT + DASH\n",
    "DIGIT_SPACE = DIGIT + SPACE\n",
    "LETTER_SPACE = CLASS.format(LOWER_CASE) + SPACE\n",
    "COMMA_SPACE = COMMA + SPACE\n",
    "YEAR_PREFIX = NEGATIVE_LOOKBEHIND.format(OR.join([\n",
    "    DIGIT_SLASH,\n",
    "    DIGIT_DASH,\n",
    "    DIGIT_SPACE,\n",
    "    LETTER_SPACE,\n",
    "    COMMA_SPACE,    \n",
    "]))\n",
    "\n",
    "YEAR_ONLY = NAMED.format(\"year_only\",\n",
    "                         YEAR_PREFIX + CENTURY\n",
    ")\n"
   ]
  },
  {
   "cell_type": "code",
   "execution_count": 13,
   "metadata": {
    "autoscroll": false,
    "collapsed": false,
    "ein.tags": "worksheet-0",
    "slideshow": {
     "slide_type": "-"
    }
   },
   "outputs": [],
   "source": [
    "IN_PREFIX = POSITIVE_LOOKBEHIND.format(CLASS.format('iI') + 'n' + SPACE) + CENTURY\n",
    "SINCE_PREFIX = POSITIVE_LOOKBEHIND.format(CLASS.format(\"Ss\") + 'ince' + SPACE) + CENTURY\n",
    "AGE = POSITIVE_LOOKBEHIND.format(\"Age\" + SPACE + TWO_DIGITS + COMMA + SPACE) + CENTURY\n",
    "AGE_COMMA = POSITIVE_LOOKBEHIND.format(\"Age\" + COMMA + SPACE + TWO_DIGITS + COMMA + SPACE) + CENTURY\n",
    "OTHERS = ['delivery', \"quit\", \"attempt\", \"nephrectomy\", THREE_DIGITS]\n",
    "OTHERS = [POSITIVE_LOOKBEHIND.format(label + SPACE) + CENTURY for label in OTHERS]\n",
    "OTHERS = OR.join(OTHERS)\n",
    "LEFTOVERS_PREFIX = OR.join([IN_PREFIX, SINCE_PREFIX, AGE, AGE_COMMA]) + OR + OTHERS\n",
    "LEFTOVERS = NAMED.format(\"leftovers\", LEFTOVERS_PREFIX)\n"
   ]
  },
  {
   "cell_type": "code",
   "execution_count": 14,
   "metadata": {
    "autoscroll": false,
    "collapsed": false,
    "ein.tags": "worksheet-0",
    "slideshow": {
     "slide_type": "-"
    }
   },
   "outputs": [],
   "source": [
    "DATE = NAMED.format(\"date\", OR.join([NUMERIC,\n",
    "                                     TWENTIETH_CENTURY,\n",
    "                                     WORDS,\n",
    "                                     BACKWARDS,\n",
    "                                     CONTRACTION,\n",
    "                                     NO_DAY,\n",
    "                                     NO_DAY_NUMERIC,\n",
    "                                     YEAR_ONLY,\n",
    "                                     LEFTOVERS]))\n"
   ]
  },
  {
   "cell_type": "code",
   "execution_count": 15,
   "metadata": {
    "autoscroll": false,
    "collapsed": false,
    "ein.tags": "worksheet-0",
    "slideshow": {
     "slide_type": "-"
    }
   },
   "outputs": [],
   "source": [
    "def extract_and_count(expression, data, name):\n",
    "    \"\"\"extract all matches and report the count\n",
    "\n",
    "    Args:\n",
    "     expression (str): regular expression to match\n",
    "     data (pandas.Series): data with dates to extratc\n",
    "     name (str): name of the group for the expression\n",
    "\n",
    "    Returns:\n",
    "     tuple (pandas.Series, int): extracted dates, count\n",
    "    \"\"\"\n",
    "    extracted = data.str.extractall(expression)[name]\n",
    "    count = len(extracted)\n",
    "    print(\"'{}' matched {} rows\".format(name, count))\n",
    "    return extracted, count\n"
   ]
  },
  {
   "cell_type": "code",
   "execution_count": 17,
   "metadata": {
    "autoscroll": false,
    "collapsed": false,
    "ein.tags": "worksheet-0",
    "slideshow": {
     "slide_type": "-"
    }
   },
   "outputs": [
    {
     "name": "stdout",
     "output_type": "stream",
     "text": [
      "'numeric' matched 25 rows\n",
      "'twentieth' matched 100 rows\n",
      "'words' matched 34 rows\n",
      "'backwards' matched 69 rows\n",
      "'contraction' matched 0 rows\n",
      "'no_day' matched 115 rows\n",
      "'no_day_numeric' matched 112 rows\n",
      "'year_only' matched 15 rows\n",
      "'leftovers' matched 30 rows\n",
      "Total Found: 500\n",
      "Remaining: 0\n",
      "Discrepancy: 0\n"
     ]
    }
   ],
   "source": [
    "numeric, numeric_count = extract_and_count(NUMERIC, data, 'numeric')\n",
    "twentieth, twentieth_count = extract_and_count(TWENTIETH_CENTURY, data, 'twentieth')\n",
    "words, words_count = extract_and_count(WORDS, data, 'words')\n",
    "backwards, backwards_count = extract_and_count(BACKWARDS, data, 'backwards')\n",
    "contraction_data, contraction = extract_and_count(CONTRACTION, data, 'contraction')\n",
    "no_day, no_day_count = extract_and_count(NO_DAY, data, 'no_day')\n",
    "no_day_numeric, no_day_numeric_count = extract_and_count(NO_DAY_NUMERIC, data,\n",
    "                                                         \"no_day_numeric\")\n",
    "year_only, year_only_count = extract_and_count(YEAR_ONLY, data, \"year_only\")\n",
    "leftovers, leftovers_count = extract_and_count(LEFTOVERS, data, \"leftovers\")\n",
    "found = data.str.extractall(DATE)\n",
    "total_found = len(found.date)\n",
    "\n",
    "print(\"Total Found: {}\".format(total_found))\n",
    "print(\"Remaining: {}\".format(len(data) - total_found))\n",
    "print(\"Discrepancy: {}\".format(total_found - (numeric_count\n",
    "                                              + twentieth_count\n",
    "                                              + words_count\n",
    "                                              + backwards_count\n",
    "                                              + contraction\n",
    "                                              + no_day_count\n",
    "                                              + no_day_numeric_count\n",
    "                                              + year_only_count\n",
    "                                              + leftovers_count)))\n"
   ]
  },
  {
   "cell_type": "code",
   "execution_count": 18,
   "metadata": {
    "autoscroll": false,
    "collapsed": false,
    "ein.tags": "worksheet-0",
    "slideshow": {
     "slide_type": "-"
    }
   },
   "outputs": [],
   "source": [
    "def add_month_date(match):\n",
    "    \"\"\"adds 01/01 to years\n",
    "\n",
    "    Args:\n",
    "     match (re.Match): object that only matched a 4-digit year\n",
    "\n",
    "    Returns:\n",
    "     str: 01/01/YYYY\n",
    "    \"\"\"\n",
    "    return \"01/01/\" + match.group()\n"
   ]
  },
  {
   "cell_type": "code",
   "execution_count": 19,
   "metadata": {
    "autoscroll": false,
    "collapsed": false,
    "ein.tags": "worksheet-0",
    "slideshow": {
     "slide_type": "-"
    }
   },
   "outputs": [],
   "source": [
    "def clean(source, expression, replacement, sample=5):\n",
    "    \"\"\"applies the replacement to the source\n",
    "\n",
    "    as a side-effect shows sample rows before and after\n",
    "\n",
    "    Args:\n",
    "     source (pandas.Series): source of the strings\n",
    "     expression (str): regular expression to match what to replace\n",
    "     replacement: function or expression to replace the matching expression\n",
    "     sample (int): number of randomly chosen examples to show\n",
    "\n",
    "    Returns:\n",
    "     pandas.Series: the source with the replacement applied to it\n",
    "    \"\"\"\n",
    "    print(\"Random Sample Before:\")\n",
    "    print(source.sample(sample))\n",
    "    cleaned = source.str.replace(expression, replacement)\n",
    "    print(\"\\nRandom Sample After:\")\n",
    "    print(cleaned.sample(sample))\n",
    "    print(\"\\nCount of cleaned: {}\".format(len(cleaned)))\n",
    "    assert len(source) == len(cleaned)\n",
    "    return cleaned\n"
   ]
  },
  {
   "cell_type": "code",
   "execution_count": 20,
   "metadata": {
    "autoscroll": false,
    "collapsed": false,
    "ein.tags": "worksheet-0",
    "slideshow": {
     "slide_type": "-"
    }
   },
   "outputs": [
    {
     "name": "stdout",
     "output_type": "stream",
     "text": [
      "Random Sample Before:\n",
      "     match\n",
      "486  0        1973\n",
      "496  0        2006\n",
      "462  0        1988\n",
      "483  0        1995\n",
      "497  0        2008\n",
      "Name: year_only, dtype: object\n",
      "\n",
      "Random Sample After:\n",
      "     match\n",
      "481  0        01/01/1974\n",
      "497  0        01/01/2008\n",
      "493  0        01/01/1978\n",
      "486  0        01/01/1973\n",
      "483  0        01/01/1995\n",
      "Name: year_only, dtype: object\n",
      "\n",
      "Count of cleaned: 15\n"
     ]
    }
   ],
   "source": [
    "year_only_cleaned = clean(year_only,\n",
    "                          YEAR_ONLY,\n",
    "                          add_month_date)\n"
   ]
  },
  {
   "cell_type": "code",
   "execution_count": 45,
   "metadata": {
    "autoscroll": false,
    "collapsed": false,
    "ein.tags": "worksheet-0",
    "slideshow": {
     "slide_type": "-"
    }
   },
   "outputs": [
    {
     "name": "stdout",
     "output_type": "stream",
     "text": [
      "Random Sample Before:\n",
      "     match\n",
      "467  0        2011\n",
      "484  0        2004\n",
      "491  0        2009\n",
      "465  0        1976\n",
      "459  0        1998\n",
      "Name: leftovers, dtype: object\n",
      "\n",
      "Random Sample After:\n",
      "     match\n",
      "468  0        01/01/1997\n",
      "475  0        01/01/2015\n",
      "477  0        01/01/1994\n",
      "492  0        01/01/1986\n",
      "499  0        01/01/1980\n",
      "Name: leftovers, dtype: object\n",
      "\n",
      "Count of cleaned: 30\n"
     ]
    }
   ],
   "source": [
    "leftovers_cleaned = clean(leftovers, YEAR_ONLY, add_month_date)\n"
   ]
  },
  {
   "cell_type": "code",
   "execution_count": 21,
   "metadata": {
    "autoscroll": false,
    "collapsed": false,
    "ein.tags": "worksheet-0",
    "slideshow": {
     "slide_type": "-"
    }
   },
   "outputs": [],
   "source": [
    "two_digit_expression = GROUP.format(ONE_OR_TWO_DIGITS) + POSITIVE_LOOKAHEAD.format(SLASH)\n",
    "\n",
    "\n",
    "def two_digits(match):\n",
    "    \"\"\"add a leading zero if needed\n",
    "\n",
    "    Args:\n",
    "     match (re.Match): match with one or two digits\n",
    "\n",
    "    Returns:\n",
    "     str: the matched string with leading zero if needed\n",
    "    \"\"\"\n",
    "    # for some reason the string-formatting raises an error if it's a string\n",
    "    # so cast it to an int\n",
    "    return \"{:02}\".format(int(match.group()))\n"
   ]
  },
  {
   "cell_type": "code",
   "execution_count": 22,
   "metadata": {
    "autoscroll": false,
    "collapsed": false,
    "ein.tags": "worksheet-0",
    "slideshow": {
     "slide_type": "-"
    }
   },
   "outputs": [],
   "source": [
    "def clean_two_digits(source, sample=5):\n",
    "    \"\"\"makes sure source has two-digits\n",
    "    \n",
    "    Args:\n",
    "     source (pandas.Series): data with digit followed by slash\n",
    "     sample (int): number of samples to show\n",
    "\n",
    "    Returns:\n",
    "     pandas.Series: source with digits coerced to two digits\n",
    "    \"\"\"\n",
    "    return clean(source, two_digit_expression, two_digits, sample)\n"
   ]
  },
  {
   "cell_type": "code",
   "execution_count": 23,
   "metadata": {
    "autoscroll": false,
    "collapsed": false,
    "ein.tags": "worksheet-0",
    "slideshow": {
     "slide_type": "-"
    }
   },
   "outputs": [],
   "source": [
    "def clean_two_digits_isolated(source, sample=5):\n",
    "    \"\"\"cleans two digits that are standalone\n",
    "\n",
    "    Args:\n",
    "     source (pandas.Series): source of the data\n",
    "     sample (int): number of samples to show\n",
    "\n",
    "    Returns:\n",
    "     pandas.Series: converted data\n",
    "    \"\"\"\n",
    "    return clean(source, ONE_OR_TWO_DIGITS, two_digits, sample)\n"
   ]
  },
  {
   "cell_type": "code",
   "execution_count": 25,
   "metadata": {
    "autoscroll": false,
    "collapsed": false,
    "ein.tags": "worksheet-0",
    "slideshow": {
     "slide_type": "-"
    }
   },
   "outputs": [
    {
     "name": "stdout",
     "output_type": "stream",
     "text": [
      "Random Sample Before:\n",
      "     match\n",
      "452  0        3/2003\n",
      "369  0        1/1978\n",
      "442  0        9/1992\n",
      "441  0        9/1980\n",
      "379  0        8/2009\n",
      "Name: no_day_numeric, dtype: object\n",
      "\n",
      "Random Sample After:\n",
      "     match\n",
      "423  0        12/1986\n",
      "433  0        05/2006\n",
      "365  0        07/1997\n",
      "392  0        05/2000\n",
      "453  0        07/1991\n",
      "Name: no_day_numeric, dtype: object\n",
      "\n",
      "Count of cleaned: 112\n",
      "Random Sample Before:\n",
      "     match\n",
      "378  0        12/1978\n",
      "447  0        07/1985\n",
      "386  0        07/2009\n",
      "360  0        12/2008\n",
      "362  0        08/2003\n",
      "Name: no_day_numeric, dtype: object\n",
      "\n",
      "Random Sample After:\n",
      "     match\n",
      "389  0        02/01/2009\n",
      "392  0        05/01/2000\n",
      "356  0        09/01/2003\n",
      "358  0        01/01/1983\n",
      "377  0        06/01/2001\n",
      "Name: no_day_numeric, dtype: object\n",
      "\n",
      "Count of cleaned: 112\n"
     ]
    }
   ],
   "source": [
    "no_day_numeric_cleaned = clean_two_digits(no_day_numeric)\n",
    "no_day_numeric_cleaned = clean(no_day_numeric_cleaned,\n",
    "                               SLASH,\n",
    "                               lambda m: \"/01/\")\n"
   ]
  },
  {
   "cell_type": "code",
   "execution_count": 26,
   "metadata": {
    "autoscroll": false,
    "collapsed": false,
    "ein.tags": "worksheet-0",
    "slideshow": {
     "slide_type": "-"
    }
   },
   "outputs": [],
   "source": [
    "def clean_punctuation(source, sample=5):\n",
    "    \"\"\"removes punctuation\n",
    "\n",
    "    Args:\n",
    "     source (pandas.Series): data to clean\n",
    "     sample (int): size of sample to show\n",
    "\n",
    "    Returns:\n",
    "     pandas.Series: source with punctuation removed\n",
    "    \"\"\"\n",
    "    print(\"Cleaning Punctuation\")\n",
    "    if any(source.str.contains(PUNCTUATION)):\n",
    "        source = source.str.replace(PUNCTUATION, EMPTY_STRING)\n",
    "    return source\n"
   ]
  },
  {
   "cell_type": "code",
   "execution_count": 27,
   "metadata": {
    "autoscroll": false,
    "collapsed": false,
    "ein.tags": "worksheet-0",
    "slideshow": {
     "slide_type": "-"
    }
   },
   "outputs": [],
   "source": [
    "LONG_TO_SHORT = dict(January=\"Jan\",\n",
    "                     February=\"Feb\",\n",
    "                     March=\"Mar\",\n",
    "                     April=\"Apr\",\n",
    "                     May=\"May\",\n",
    "                     June=\"Jun\",\n",
    "                     July=\"Jul\",\n",
    "                     August=\"Aug\",\n",
    "                     September=\"Sep\",\n",
    "                     October=\"Oct\",\n",
    "                     November=\"Nov\",\n",
    "                     December=\"Dec\")\n",
    "\n",
    "# it turns out there are spelling errors in the data so this has to be fuzzy\n",
    "LONG_TO_SHORT_EXPRESSION = OR.join([GROUP.format(month)\n",
    "                                    + CLASS.format(LOWER_CASE)\n",
    "                                    + ZERO_OR_MORE\n",
    "                                    for month in LONG_TO_SHORT.values()])\n",
    "\n",
    "def long_month_to_short(match):\n",
    "    \"\"\"convert long month to short\n",
    "    \n",
    "    Args:\n",
    "     match (re.Match): object matching a long month\n",
    "\n",
    "    Returns:\n",
    "     str: shortened version of the month\n",
    "    \"\"\"\n",
    "    return match.group(match.lastindex)\n"
   ]
  },
  {
   "cell_type": "code",
   "execution_count": 28,
   "metadata": {
    "autoscroll": false,
    "collapsed": false,
    "ein.tags": "worksheet-0",
    "slideshow": {
     "slide_type": "-"
    }
   },
   "outputs": [],
   "source": [
    "def convert_long_months_to_short(source, sample=5):\n",
    "    \"\"\"convert long month names to short\n",
    "    \n",
    "    Args:\n",
    "     source (pandas.Series): data with months\n",
    "     sample (int): size of sample to show\n",
    "\n",
    "    Returns:\n",
    "     pandas.Series: data with short months\n",
    "    \"\"\"\n",
    "    return clean(source,\n",
    "                 LONG_TO_SHORT_EXPRESSION,\n",
    "                 long_month_to_short)\n"
   ]
  },
  {
   "cell_type": "code",
   "execution_count": 30,
   "metadata": {
    "autoscroll": false,
    "collapsed": false,
    "ein.tags": "worksheet-0",
    "slideshow": {
     "slide_type": "-"
    }
   },
   "outputs": [],
   "source": [
    "digits = (\"{:02}\".format(month) for month in range(1, 13))\n",
    "MONTH_TO_DIGITS = dict(zip(MONTH_PREFIXES, digits))\n",
    "SHORT_MONTHS_EXPRESSION = OR.join((GROUP.format(month) for month in MONTH_TO_DIGITS))\n",
    "def month_to_digits(match):\n",
    "    \"\"\"converts short month to digits\n",
    "\n",
    "    Args:\n",
    "     match (re.Match): object with short-month\n",
    "\n",
    "    Returns:\n",
    "     str: month as two-digit number (e.g. Jan -> 01)\n",
    "    \"\"\"\n",
    "    return MONTH_TO_DIGITS[match.group()]\n"
   ]
  },
  {
   "cell_type": "code",
   "execution_count": 31,
   "metadata": {
    "autoscroll": false,
    "collapsed": false,
    "ein.tags": "worksheet-0",
    "slideshow": {
     "slide_type": "-"
    }
   },
   "outputs": [],
   "source": [
    "def convert_short_month_to_digits(source, sample=5):\n",
    "    \"\"\"converts three-letter months to two-digits\n",
    "\n",
    "    Args:\n",
    "     source (pandas.Series): data with three-letter months\n",
    "     sample (int): number of samples to show\n",
    "\n",
    "    Returns:\n",
    "     pandas.Series: source with short-months coverted to digits\n",
    "    \"\"\"\n",
    "    return clean(source,\n",
    "                 SHORT_MONTHS_EXPRESSION,\n",
    "                 month_to_digits,\n",
    "                 sample)\n"
   ]
  },
  {
   "cell_type": "code",
   "execution_count": 32,
   "metadata": {
    "autoscroll": false,
    "collapsed": false,
    "ein.tags": "worksheet-0",
    "slideshow": {
     "slide_type": "-"
    }
   },
   "outputs": [],
   "source": [
    "def clean_months(source, sample=5):\n",
    "    \"\"\"clean up months (which start as words)\n",
    "\n",
    "    Args:\n",
    "     source (pandas.Series): source of the months\n",
    "     sample (int): number of random samples to show\n",
    "    \"\"\"\n",
    "    cleaned = clean_punctuation(source)\n",
    "    \n",
    "    print(\"Converting long months to short\")\n",
    "    cleaned = clean(cleaned,\n",
    "                    LONG_TO_SHORT_EXPRESSION,\n",
    "                    long_month_to_short, sample)\n",
    "\n",
    "    print(\"Converting short months to digits\")\n",
    "    cleaned = clean(cleaned,\n",
    "                    SHORT_MONTHS_EXPRESSION,\n",
    "                    month_to_digits, sample)\n",
    "    return cleaned\n"
   ]
  },
  {
   "cell_type": "code",
   "execution_count": 34,
   "metadata": {
    "autoscroll": false,
    "collapsed": false,
    "ein.tags": "worksheet-0",
    "slideshow": {
     "slide_type": "-"
    }
   },
   "outputs": [
    {
     "name": "stdout",
     "output_type": "stream",
     "text": [
      "Cleaning Punctuation\n",
      "Converting long months to short\n",
      "Random Sample Before:\n",
      "     match\n",
      "248  0         July 1995\n",
      "336  0        March 1978\n",
      "318  0          Jan 1978\n",
      "262  0          Jun 2002\n",
      "249  0        April 1993\n",
      "Name: no_day, dtype: object\n",
      "\n",
      "Random Sample After:\n",
      "     match\n",
      "274  0        Apr 1985\n",
      "303  0        Jan 1977\n",
      "291  0        Jan 2004\n",
      "268  0        Dec 2009\n",
      "330  0        Apr 1988\n",
      "Name: no_day, dtype: object\n",
      "\n",
      "Count of cleaned: 115\n",
      "Converting short months to digits\n",
      "Random Sample Before:\n",
      "     match\n",
      "328  0        May 2001\n",
      "301  0        Dec 1992\n",
      "307  0        Jul 2006\n",
      "311  0        Feb 1995\n",
      "334  0        Jul 1986\n",
      "Name: no_day, dtype: object\n",
      "\n",
      "Random Sample After:\n",
      "     match\n",
      "282  0        05 2012\n",
      "304  0        03 2002\n",
      "291  0        01 2004\n",
      "258  0        04 1976\n",
      "255  0        10 2014\n",
      "Name: no_day, dtype: object\n",
      "\n",
      "Count of cleaned: 115\n",
      "Random Sample Before:\n",
      "     match\n",
      "291  0        01 2004\n",
      "309  0        04 1977\n",
      "310  0        10 1992\n",
      "306  0        05 2004\n",
      "275  0        09 1984\n",
      "Name: no_day, dtype: object\n",
      "\n",
      "Random Sample After:\n",
      "     match\n",
      "298  0        01/01/1993\n",
      "276  0        04/01/1986\n",
      "244  0        01/01/2013\n",
      "334  0        07/01/1986\n",
      "289  0        09/01/2007\n",
      "Name: no_day, dtype: object\n",
      "\n",
      "Count of cleaned: 115\n"
     ]
    }
   ],
   "source": [
    "no_day_cleaned = clean_months(no_day)\n",
    "no_day_cleaned = clean(no_day_cleaned,\n",
    "                       SPACE + ONE_OR_MORE,\n",
    "                       lambda match: \"/01/\")\n"
   ]
  },
  {
   "cell_type": "code",
   "execution_count": 35,
   "metadata": {
    "autoscroll": false,
    "collapsed": false,
    "ein.tags": "worksheet-0",
    "slideshow": {
     "slide_type": "-"
    }
   },
   "outputs": [],
   "source": [
    "frame = pandas.DataFrame(backwards.str.split().tolist(),\n",
    "                         columns=\"day month year\".split())\n"
   ]
  },
  {
   "cell_type": "code",
   "execution_count": 38,
   "metadata": {
    "autoscroll": false,
    "collapsed": false,
    "ein.tags": "worksheet-0",
    "slideshow": {
     "slide_type": "-"
    }
   },
   "outputs": [
    {
     "name": "stdout",
     "output_type": "stream",
     "text": [
      "Random Sample Before:\n",
      "0     24\n",
      "58    26\n",
      "60    17\n",
      "40    18\n",
      "10    10\n",
      "Name: day, dtype: object\n",
      "\n",
      "Random Sample After:\n",
      "47    23\n",
      "57    13\n",
      "60    17\n",
      "18    14\n",
      "0     24\n",
      "Name: day, dtype: object\n",
      "\n",
      "Count of cleaned: 69\n",
      "Cleaning Punctuation\n",
      "Converting long months to short\n",
      "Random Sample Before:\n",
      "4     05\n",
      "8     06\n",
      "11    02\n",
      "3     06\n",
      "19    10\n",
      "Name: month, dtype: object\n",
      "\n",
      "Random Sample After:\n",
      "48    10\n",
      "61    10\n",
      "31    05\n",
      "50    10\n",
      "51    05\n",
      "Name: month, dtype: object\n",
      "\n",
      "Count of cleaned: 69\n",
      "Converting short months to digits\n",
      "Random Sample Before:\n",
      "50    10\n",
      "45    01\n",
      "23    02\n",
      "59    11\n",
      "66    11\n",
      "Name: month, dtype: object\n",
      "\n",
      "Random Sample After:\n",
      "64    10\n",
      "5     10\n",
      "59    11\n",
      "8     06\n",
      "39    10\n",
      "Name: month, dtype: object\n",
      "\n",
      "Count of cleaned: 69\n",
      "     match\n",
      "181  0        08/18/1995\n",
      "191  0        11/30/1972\n",
      "129  0        05/06/1972\n",
      "133  0        06/28/1994\n",
      "165  0        08/18/1975\n",
      "dtype: object\n"
     ]
    }
   ],
   "source": [
    "frame.day = clean_two_digits(frame.day)\n",
    "frame.month = clean_months(frame.month)\n",
    "backwards_cleaned = frame.month + SLASH + frame.day + SLASH + frame.year\n",
    "backwards_cleaned.index = backwards.index\n",
    "print(backwards_cleaned.sample(5))\n"
   ]
  },
  {
   "cell_type": "code",
   "execution_count": 41,
   "metadata": {
    "autoscroll": false,
    "collapsed": false,
    "ein.tags": "worksheet-0",
    "slideshow": {
     "slide_type": "-"
    }
   },
   "outputs": [
    {
     "name": "stdout",
     "output_type": "stream",
     "text": [
      "Cleaning Punctuation\n",
      "Converting long months to short\n",
      "Random Sample Before:\n",
      "17     April\n",
      "13    August\n",
      "27       Oct\n",
      "20       Sep\n",
      "2        Feb\n",
      "Name: month, dtype: object\n",
      "\n",
      "Random Sample After:\n",
      "7     Dec\n",
      "33    Sep\n",
      "28    May\n",
      "2     Feb\n",
      "24    May\n",
      "Name: month, dtype: object\n",
      "\n",
      "Count of cleaned: 34\n",
      "Converting short months to digits\n",
      "Random Sample Before:\n",
      "13    Aug\n",
      "3     Feb\n",
      "4     Oct\n",
      "12    Oct\n",
      "15    Jul\n",
      "Name: month, dtype: object\n",
      "\n",
      "Random Sample After:\n",
      "9     09\n",
      "28    05\n",
      "11    01\n",
      "27    10\n",
      "20    09\n",
      "Name: month, dtype: object\n",
      "\n",
      "Count of cleaned: 34\n",
      "Cleaning Punctuation\n",
      "     match\n",
      "206  0        10/23/1990\n",
      "227  0        09/15/2011\n",
      "197  0        02/18/1981\n",
      "201  0        12/23/1999\n",
      "196  0        02/18/1994\n",
      "dtype: object\n"
     ]
    }
   ],
   "source": [
    "frame = pandas.DataFrame(words.str.split().tolist(), columns=\"month day year\".split())\n",
    "frame.month = clean_months(frame.month)\n",
    "frame.day = clean_punctuation(frame.day)\n",
    "words_cleaned = frame.month + SLASH + frame.day + SLASH + frame.year\n",
    "words_cleaned.index = words.index\n",
    "print(words_cleaned.sample(5))\n",
    "                                                  "
   ]
  },
  {
   "cell_type": "code",
   "execution_count": 42,
   "metadata": {
    "autoscroll": false,
    "collapsed": false,
    "ein.tags": "worksheet-0",
    "slideshow": {
     "slide_type": "-"
    }
   },
   "outputs": [
    {
     "name": "stdout",
     "output_type": "stream",
     "text": [
      "Random Sample Before:\n",
      "75     7\n",
      "67     5\n",
      "80    10\n",
      "89    12\n",
      "79     8\n",
      "Name: month, dtype: object\n",
      "\n",
      "Random Sample After:\n",
      "72    10\n",
      "53    10\n",
      "40    02\n",
      "81    09\n",
      "88    10\n",
      "Name: month, dtype: object\n",
      "\n",
      "Count of cleaned: 100\n",
      "Random Sample Before:\n",
      "44    11\n",
      "93    20\n",
      "48    24\n",
      "7     24\n",
      "53    29\n",
      "Name: day, dtype: object\n",
      "\n",
      "Random Sample After:\n",
      "55    21\n",
      "50    22\n",
      "17    21\n",
      "5     06\n",
      "47    01\n",
      "Name: day, dtype: object\n",
      "\n",
      "Count of cleaned: 100\n",
      "Random Sample Before:\n",
      "5     79\n",
      "84    83\n",
      "29    83\n",
      "85    74\n",
      "92    87\n",
      "Name: year, dtype: object\n",
      "\n",
      "Random Sample After:\n",
      "27    1987\n",
      "2     1971\n",
      "22    1989\n",
      "18    1979\n",
      "26    1972\n",
      "Name: year, dtype: object\n",
      "\n",
      "Count of cleaned: 100\n"
     ]
    }
   ],
   "source": [
    "cleaned = twentieth.str.replace(DASH, SLASH)\n",
    "frame = pandas.DataFrame(cleaned.str.split(SLASH).tolist(),\n",
    "                         columns=[\"month\", \"day\", \"year\"])\n",
    "frame.month = clean_two_digits_isolated(frame.month)\n",
    "frame.day = clean_two_digits_isolated(frame.day)\n",
    "frame.year = clean(frame.year, TWO_DIGITS, lambda match: \"19\" + match.group())\n",
    "twentieth_cleaned = frame.month + SLASH + frame.day + SLASH + frame.year\n",
    "twentieth_cleaned.index = twentieth.index\n",
    "                                                  "
   ]
  },
  {
   "cell_type": "code",
   "execution_count": 43,
   "metadata": {
    "autoscroll": false,
    "collapsed": false,
    "ein.tags": "worksheet-0",
    "slideshow": {
     "slide_type": "-"
    }
   },
   "outputs": [
    {
     "name": "stdout",
     "output_type": "stream",
     "text": [
      "Random Sample Before:\n",
      "20     4\n",
      "8      2\n",
      "18    04\n",
      "5      5\n",
      "11    08\n",
      "Name: month, dtype: object\n",
      "\n",
      "Random Sample After:\n",
      "10    12\n",
      "19    12\n",
      "21    07\n",
      "24    04\n",
      "11    08\n",
      "Name: month, dtype: object\n",
      "\n",
      "Count of cleaned: 25\n",
      "Random Sample Before:\n",
      "17    09\n",
      "18    08\n",
      "22    11\n",
      "10     5\n",
      "16    14\n",
      "Name: day, dtype: object\n",
      "\n",
      "Random Sample After:\n",
      "7     13\n",
      "17    09\n",
      "11    20\n",
      "2     13\n",
      "23    20\n",
      "Name: day, dtype: object\n",
      "\n",
      "Count of cleaned: 25\n"
     ]
    }
   ],
   "source": [
    "frame = pandas.DataFrame(numeric.str.split(SLASH).tolist(),\n",
    "                         columns=\"month day year\".split())\n",
    "frame.month = clean_two_digits_isolated(frame.month)\n",
    "frame.day = clean_two_digits_isolated(frame.day)\n",
    "numeric_cleaned = frame.month + SLASH + frame.day + SLASH + frame.year\n",
    "numeric_cleaned.index = numeric.index\n"
   ]
  },
  {
   "cell_type": "code",
   "execution_count": 46,
   "metadata": {
    "autoscroll": false,
    "collapsed": false,
    "ein.tags": "worksheet-0",
    "slideshow": {
     "slide_type": "-"
    }
   },
   "outputs": [],
   "source": [
    "cleaned = pandas.concat([numeric_cleaned,\n",
    "                         twentieth_cleaned,\n",
    "                         words_cleaned,\n",
    "                         backwards_cleaned,\n",
    "                         no_day_cleaned,\n",
    "                         no_day_numeric_cleaned,\n",
    "                         year_only_cleaned,\n",
    "                         leftovers_cleaned,\n",
    "])\n"
   ]
  },
  {
   "cell_type": "code",
   "execution_count": 47,
   "metadata": {
    "autoscroll": false,
    "collapsed": false,
    "ein.tags": "worksheet-0",
    "slideshow": {
     "slide_type": "-"
    }
   },
   "outputs": [],
   "source": [
    "datetimes = pandas.to_datetime(cleaned, format=\"%m/%d/%Y\")"
   ]
  },
  {
   "cell_type": "code",
   "execution_count": 48,
   "metadata": {
    "autoscroll": false,
    "collapsed": false,
    "ein.tags": "worksheet-0",
    "slideshow": {
     "slide_type": "-"
    }
   },
   "outputs": [],
   "source": [
    "sorted_dates = datetimes.sort_values()"
   ]
  },
  {
   "cell_type": "code",
   "execution_count": 49,
   "metadata": {
    "autoscroll": false,
    "collapsed": false,
    "ein.tags": "worksheet-0",
    "slideshow": {
     "slide_type": "-"
    }
   },
   "outputs": [],
   "source": [
    "def date_sorter():\n",
    "    return pandas.Series(sorted_dates.index.labels[0])"
   ]
  }
 ],
 "metadata": {
  "coursera": {
   "course_slug": "python-text-mining",
   "graded_item_id": "LvcWI",
   "launcher_item_id": "krne9",
   "part_id": "Mkp1I"
  },
  "kernelspec": {
   "display_name": "Python 3",
   "name": "python3"
  },
  "language_info": {
   "codemirror_mode": {
    "name": "ipython",
    "version": 3
   },
   "file_extension": ".py",
   "mimetype": "text/x-python",
   "name": "python",
   "nbconvert_exporter": "python",
   "pygments_lexer": "ipython3",
   "version": "3.6.0"
  },
  "name": "assignment_1.ipynb"
 },
 "nbformat": 4,
 "nbformat_minor": 2
}
